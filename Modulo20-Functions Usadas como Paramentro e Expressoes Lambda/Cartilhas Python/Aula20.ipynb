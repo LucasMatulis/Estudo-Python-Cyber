{
 "cells": [
  {
   "cell_type": "markdown",
   "id": "ae34ff6c-0c94-4c7f-aa2c-20936f65791d",
   "metadata": {},
   "source": [
    "------------------------------------------------Functions em Iterables e a função Map--------------------------------------------------------------------"
   ]
  },
  {
   "cell_type": "code",
   "execution_count": 1,
   "id": "eccee8ed-1b42-4a5f-a7cf-5dc4810178dd",
   "metadata": {},
   "outputs": [],
   "source": [
    "def padronizar_texto(texto):\n",
    "    texto=texto.casefold()\n",
    "    texto=texto.replace('  ',' ')\n",
    "    texto=texto.strip()\n",
    "    return texto"
   ]
  },
  {
   "cell_type": "code",
   "execution_count": 2,
   "id": "47e1ba16-f6bd-45c3-81f1-e889659c76e6",
   "metadata": {},
   "outputs": [
    {
     "name": "stdout",
     "output_type": "stream",
     "text": [
      "<map object at 0x00000157BF184E50>\n"
     ]
    }
   ],
   "source": [
    "produtos=['ABC12','abc34','AbC37','beb12',' BSA151','BEB23']\n",
    "\n",
    "produtos=map(padronizar_texto,produtos)\n",
    "print(produtos)"
   ]
  },
  {
   "cell_type": "code",
   "execution_count": 3,
   "id": "2e7e5252-1eaa-4bd3-8b03-e2bb001e8a64",
   "metadata": {},
   "outputs": [
    {
     "name": "stdout",
     "output_type": "stream",
     "text": [
      "['abc12', 'abc34', 'abc37', 'beb12', 'bsa151', 'beb23']\n"
     ]
    }
   ],
   "source": [
    "produtos=list(map(padronizar_texto,produtos))\n",
    "print(produtos)"
   ]
  },
  {
   "cell_type": "markdown",
   "id": "2b2f7699-b10c-409a-8151-05b9839e5b60",
   "metadata": {},
   "source": [
    "------------------------------------------------Aplicando function em iterable no sort--------------------------------------------------------------------"
   ]
  },
  {
   "cell_type": "code",
   "execution_count": 4,
   "id": "67b729de-5269-4cb4-aa4e-2eb014bc4bfb",
   "metadata": {},
   "outputs": [
    {
     "name": "stdout",
     "output_type": "stream",
     "text": [
      "['Ipad', 'Iphone 11', 'Iphone x', 'airpods', 'apple tv', 'apple watch', 'mac', 'mac book']\n"
     ]
    }
   ],
   "source": [
    "produtos=['apple tv','mac','Iphone x','Iphone 11','Ipad','apple watch','mac book','airpods']\n",
    "produtos.sort()\n",
    "print(produtos)"
   ]
  },
  {
   "cell_type": "code",
   "execution_count": 5,
   "id": "e25b2ffb-b7aa-456d-ad41-3d45b9612d8d",
   "metadata": {},
   "outputs": [
    {
     "name": "stdout",
     "output_type": "stream",
     "text": [
      "['airpods', 'apple tv', 'apple watch', 'Ipad', 'Iphone 11', 'Iphone x', 'mac', 'mac book']\n"
     ]
    }
   ],
   "source": [
    "#Ordenar corretamente\n",
    "produtos=['apple tv','mac','Iphone x','Iphone 11','Ipad','apple watch','mac book','airpods']\n",
    "produtos.sort(key=str.casefold)\n",
    "print(produtos)"
   ]
  },
  {
   "cell_type": "markdown",
   "id": "0f9596a9-38a9-45f4-aad1-c2d0e0460dc3",
   "metadata": {},
   "source": [
    "------------------------------------------------Lambda expressions--------------------------------------------------------------------"
   ]
  },
  {
   "cell_type": "code",
   "execution_count": 9,
   "id": "f3bdd497-203e-41b2-a55d-85027ee39123",
   "metadata": {},
   "outputs": [
    {
     "name": "stdout",
     "output_type": "stream",
     "text": [
      "130.0\n"
     ]
    }
   ],
   "source": [
    "imposto=0.3\n",
    "\n",
    "#Criando uma função 'normal'\n",
    "\n",
    "def preco_imposto(preco):\n",
    "    return preco * (1+0.3)\n",
    "print(preco_imposto(100))"
   ]
  },
  {
   "cell_type": "code",
   "execution_count": 10,
   "id": "666f7fb7-1225-46ff-8fb2-eadd504b18bb",
   "metadata": {},
   "outputs": [
    {
     "name": "stdout",
     "output_type": "stream",
     "text": [
      "130.0\n"
     ]
    }
   ],
   "source": [
    "#Criando um função lambda\n",
    "\n",
    "preco_imposto2=lambda preco: preco *(1.0+imposto)\n",
    "\n",
    "print(preco_imposto2(100))"
   ]
  },
  {
   "cell_type": "markdown",
   "id": "892117e0-2f11-4606-a70d-8e6dbca83f4a",
   "metadata": {},
   "source": [
    "------------------------------------------------A grande utilidade de Lambda Expressions--------------------------------------------------------------------"
   ]
  },
  {
   "cell_type": "code",
   "execution_count": 11,
   "id": "57f9e6af-9995-4c40-a7c4-95c8211bdc8f",
   "metadata": {},
   "outputs": [
    {
     "name": "stdout",
     "output_type": "stream",
     "text": [
      "{'notebook asus': 2450, 'iphone': 4500, 'samsgun galaxy': 3000, 'tv samsung': 1000, 'ps5': 3000, 'tablet': 1000, 'notebook dell': 3000, 'ipad': 3000, 'tv philco': 800, 'notebook hp': 1700}\n"
     ]
    }
   ],
   "source": [
    "preco_tecnologia={\n",
    "    'notebook asus':2450,\n",
    "    'iphone':4500,\n",
    "    'samsgun galaxy':3000,\n",
    "    'tv samsung':1000,\n",
    "    'ps5':3000,\n",
    "    'tablet':1000,\n",
    "    'notebook dell':3000,\n",
    "    'ipad':3000,\n",
    "    'tv philco':800,\n",
    "    'notebook hp':1700,\n",
    "}\n",
    "\n",
    "print(preco_tecnologia)"
   ]
  },
  {
   "cell_type": "code",
   "execution_count": 12,
   "id": "b2dedfca-c126-4d84-bae0-27507b7c5572",
   "metadata": {},
   "outputs": [
    {
     "name": "stdout",
     "output_type": "stream",
     "text": [
      "dict_items([('notebook asus', 2450), ('iphone', 4500), ('samsgun galaxy', 3000), ('tv samsung', 1000), ('ps5', 3000), ('tablet', 1000), ('notebook dell', 3000), ('ipad', 3000), ('tv philco', 800), ('notebook hp', 1700)])\n"
     ]
    }
   ],
   "source": [
    "print(preco_tecnologia.items())"
   ]
  },
  {
   "cell_type": "code",
   "execution_count": 13,
   "id": "85a7c426-251d-4826-aa71-2954d4075130",
   "metadata": {},
   "outputs": [
    {
     "name": "stdout",
     "output_type": "stream",
     "text": [
      "dict_keys(['notebook asus', 'iphone', 'samsgun galaxy', 'tv samsung', 'ps5', 'tablet', 'notebook dell', 'ipad', 'tv philco', 'notebook hp'])\n"
     ]
    }
   ],
   "source": [
    "print(preco_tecnologia.keys())"
   ]
  },
  {
   "cell_type": "code",
   "execution_count": 14,
   "id": "dc1a6107-ed47-4a85-8f0a-cbd5348f4cae",
   "metadata": {},
   "outputs": [
    {
     "name": "stdout",
     "output_type": "stream",
     "text": [
      "dict_values([2450, 4500, 3000, 1000, 3000, 1000, 3000, 3000, 800, 1700])\n"
     ]
    }
   ],
   "source": [
    "print(preco_tecnologia.values())"
   ]
  },
  {
   "cell_type": "code",
   "execution_count": 15,
   "id": "bd499791-5c4e-45e3-aa84-8d843f0b31ea",
   "metadata": {},
   "outputs": [
    {
     "name": "stdout",
     "output_type": "stream",
     "text": [
      "[3185.0, 5850.0, 3900.0, 1300.0, 3900.0, 1300.0, 3900.0, 3900.0, 1040.0, 2210.0]\n"
     ]
    }
   ],
   "source": [
    "#Fazendo por function\n",
    "def calcular_preco(preco):\n",
    "    return preco*1.3\n",
    "preco_com_imposto=list(map(calcular_preco,preco_tecnologia.values()))\n",
    "print(preco_com_imposto)"
   ]
  },
  {
   "cell_type": "code",
   "execution_count": 17,
   "id": "48a92293-4b47-4fb4-80e1-896d0d0c06ac",
   "metadata": {},
   "outputs": [
    {
     "name": "stdout",
     "output_type": "stream",
     "text": [
      "[3185.0, 5850.0, 3900.0, 1300.0, 3900.0, 1300.0, 3900.0, 3900.0, 1040.0, 2210.0]\n"
     ]
    }
   ],
   "source": [
    "#fazendo por lambda\n",
    "\n",
    "preco_com_imposto2=list(map(lambda preco : preco*1.3, preco_tecnologia.values()))\n",
    "print(preco_com_imposto2)"
   ]
  },
  {
   "cell_type": "code",
   "execution_count": 18,
   "id": "86e67a92-4422-4e6f-941a-1cedc261bb91",
   "metadata": {},
   "outputs": [
    {
     "name": "stdout",
     "output_type": "stream",
     "text": [
      "{'notebook asus': 2450, 'iphone': 4500, 'samsgun galaxy': 3000, 'tv samsung': 1000, 'ps5': 3000, 'tablet': 1000, 'notebook dell': 3000, 'ipad': 3000, 'tv philco': 800, 'notebook hp': 1700}\n"
     ]
    }
   ],
   "source": [
    "print(preco_tecnologia)"
   ]
  },
  {
   "cell_type": "code",
   "execution_count": 20,
   "id": "e9d5bb13-e2cb-499d-9c9b-2bde2b57429f",
   "metadata": {},
   "outputs": [
    {
     "name": "stdout",
     "output_type": "stream",
     "text": [
      "{'notebook asus': 2450, 'iphone': 4500, 'samsgun galaxy': 3000, 'ps5': 3000, 'notebook dell': 3000, 'ipad': 3000}\n"
     ]
    }
   ],
   "source": [
    "#fazendo por function\n",
    "\n",
    "def ehmaior2000(item):\n",
    "    return item[1]>2000\n",
    "\n",
    "produtos_acima2000=dict(list(filter(ehmaior2000,preco_tecnologia.items())))\n",
    "print(produtos_acima2000)"
   ]
  },
  {
   "cell_type": "code",
   "execution_count": 22,
   "id": "d1c144b3-6741-49b5-a111-1a60c9fb3327",
   "metadata": {},
   "outputs": [
    {
     "name": "stdout",
     "output_type": "stream",
     "text": [
      "{'notebook asus': 2450, 'iphone': 4500, 'samsgun galaxy': 3000, 'ps5': 3000, 'notebook dell': 3000, 'ipad': 3000}\n"
     ]
    }
   ],
   "source": [
    "#fazendo com Lambda\n",
    "\n",
    "produtos2_acima2000=dict(list(filter(lambda item:item[1]>2000, preco_tecnologia.items())))\n",
    "print(produtos2_acima2000)"
   ]
  },
  {
   "cell_type": "markdown",
   "id": "d783a254-0397-4815-b483-7af012930406",
   "metadata": {},
   "source": [
    "------------------------------------------------Lambda Expressions para criar um Construtor de Funções--------------------------------------------------------------------"
   ]
  },
  {
   "cell_type": "code",
   "execution_count": 23,
   "id": "23a15370-312f-4746-b6e6-14899944b670",
   "metadata": {},
   "outputs": [],
   "source": [
    "def calcular_imposto(imposto):\n",
    "    return lambda preco:preco*(1+imposto)\n",
    "\n",
    "calcular_preco_produto=calcular_imposto(0.1)\n",
    "calcular_preco_servico=calcular_imposto(0.15)\n",
    "calcular_preco_royalties=calcular_imposto(0.25)"
   ]
  },
  {
   "cell_type": "code",
   "execution_count": 24,
   "id": "4d700a0e-a337-439a-9c31-9424d3060f87",
   "metadata": {},
   "outputs": [
    {
     "name": "stdout",
     "output_type": "stream",
     "text": [
      "110.00000000000001\n",
      "114.99999999999999\n",
      "125.0\n"
     ]
    }
   ],
   "source": [
    "print((calcular_preco_produto(100)))\n",
    "print((calcular_preco_servico(100)))\n",
    "print((calcular_preco_royalties(100)))"
   ]
  },
  {
   "cell_type": "code",
   "execution_count": 25,
   "id": "eadcd887-fc3d-4d01-a25b-ae05eddb9aca",
   "metadata": {},
   "outputs": [
    {
     "name": "stdout",
     "output_type": "stream",
     "text": [
      "110\n",
      "115\n",
      "125\n"
     ]
    }
   ],
   "source": [
    "print(round(calcular_preco_produto(100)))\n",
    "print(round(calcular_preco_servico(100)))\n",
    "print(round(calcular_preco_royalties(100)))"
   ]
  },
  {
   "cell_type": "code",
   "execution_count": null,
   "id": "bf5089f6-8567-44c4-9f7f-1b4ccb45e315",
   "metadata": {},
   "outputs": [],
   "source": []
  }
 ],
 "metadata": {
  "kernelspec": {
   "display_name": "Python 3 (ipykernel)",
   "language": "python",
   "name": "python3"
  },
  "language_info": {
   "codemirror_mode": {
    "name": "ipython",
    "version": 3
   },
   "file_extension": ".py",
   "mimetype": "text/x-python",
   "name": "python",
   "nbconvert_exporter": "python",
   "pygments_lexer": "ipython3",
   "version": "3.12.7"
  }
 },
 "nbformat": 4,
 "nbformat_minor": 5
}
