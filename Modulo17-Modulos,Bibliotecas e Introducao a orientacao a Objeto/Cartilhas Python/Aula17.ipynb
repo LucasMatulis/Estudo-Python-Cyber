{
 "cells": [
  {
   "cell_type": "markdown",
   "id": "d97cdf63-0bb5-4da6-99b0-8c4e7afca07c",
   "metadata": {},
   "source": [
    "-----------------------------------------------O que são módulos e qual a importancia------------------------------------------------------------------"
   ]
  },
  {
   "cell_type": "code",
   "execution_count": 2,
   "id": "c17d874a-e2a3-4ba1-ad5c-0b21caedac10",
   "metadata": {},
   "outputs": [],
   "source": [
    "import webbrowser\n",
    "#ou\n",
    "import webbrowser as wb"
   ]
  },
  {
   "cell_type": "code",
   "execution_count": 3,
   "id": "80da993a-ab02-421e-b60b-66f6af905316",
   "metadata": {},
   "outputs": [],
   "source": [
    "from webbrowser import open,open_new_tab"
   ]
  },
  {
   "cell_type": "markdown",
   "id": "3f4e8ad6-308d-4c70-9734-ed288168d611",
   "metadata": {},
   "source": [
    "-----------------------------------------------Modulo time------------------------------------------------------------------"
   ]
  },
  {
   "cell_type": "code",
   "execution_count": 4,
   "id": "a0fb7319-823d-48fd-9829-fe39d9ef7253",
   "metadata": {},
   "outputs": [],
   "source": [
    "import time"
   ]
  },
  {
   "cell_type": "code",
   "execution_count": 5,
   "id": "66be440f-6380-475a-919f-f90da3ff562d",
   "metadata": {},
   "outputs": [
    {
     "name": "stdout",
     "output_type": "stream",
     "text": [
      "1748538562.1724737\n"
     ]
    }
   ],
   "source": [
    "segundo_hoje=time.time()\n",
    "print(segundo_hoje)"
   ]
  },
  {
   "cell_type": "code",
   "execution_count": 6,
   "id": "ca2df304-95d3-4212-95d8-59a82f825d04",
   "metadata": {},
   "outputs": [
    {
     "name": "stdout",
     "output_type": "stream",
     "text": [
      "Começando\n",
      "Rodou 5 segundos após\n"
     ]
    }
   ],
   "source": [
    "#para esperar 5 segundos fazemos:\n",
    "print('Começando')\n",
    "time.sleep(5)\n",
    "print('Rodou 5 segundos após')"
   ]
  },
  {
   "cell_type": "code",
   "execution_count": 7,
   "id": "5d72a6e8-49fa-4357-96cc-1913cc624f6c",
   "metadata": {},
   "outputs": [
    {
     "name": "stdout",
     "output_type": "stream",
     "text": [
      "Thu May 29 14:10:35 2025\n"
     ]
    }
   ],
   "source": [
    "data_hoje=time.ctime()\n",
    "#ou entao data_hoje=time.ctime(time())\n",
    "print(data_hoje)"
   ]
  },
  {
   "cell_type": "code",
   "execution_count": 8,
   "id": "b5c0c3d5-8689-4718-8eb4-b6b66d0fb2b5",
   "metadata": {},
   "outputs": [
    {
     "name": "stdout",
     "output_type": "stream",
     "text": [
      "time.struct_time(tm_year=2025, tm_mon=5, tm_mday=29, tm_hour=17, tm_min=10, tm_sec=54, tm_wday=3, tm_yday=149, tm_isdst=0)\n"
     ]
    }
   ],
   "source": [
    "data_atual = time.gmtime()\n",
    "print(data_atual)"
   ]
  },
  {
   "cell_type": "markdown",
   "id": "91544433-d446-41df-a11e-8d15d6c606d4",
   "metadata": {},
   "source": [
    "-----------------------------------------------Métodos Avançados da biblioteca time------------------------------------------------------------------"
   ]
  },
  {
   "cell_type": "code",
   "execution_count": 9,
   "id": "25a8ceb2-0e4e-4ff5-ad77-6229d8dace5d",
   "metadata": {},
   "outputs": [
    {
     "name": "stdout",
     "output_type": "stream",
     "text": [
      "time.struct_time(tm_year=2025, tm_mon=5, tm_mday=29, tm_hour=14, tm_min=13, tm_sec=4, tm_wday=3, tm_yday=149, tm_isdst=0)\n"
     ]
    }
   ],
   "source": [
    "import time\n",
    "\n",
    "tempo_em_struct= time.localtime()\n",
    "print(tempo_em_struct)"
   ]
  },
  {
   "cell_type": "code",
   "execution_count": 13,
   "id": "d6effcc4-453c-46be-9aeb-04439e9669ba",
   "metadata": {},
   "outputs": [
    {
     "name": "stdout",
     "output_type": "stream",
     "text": [
      "29 May 2025\n"
     ]
    }
   ],
   "source": [
    "tempo_em_struct= time.localtime()\n",
    "print(time.strftime('%d %B %Y',tempo_em_struct))"
   ]
  },
  {
   "cell_type": "code",
   "execution_count": 14,
   "id": "2740b659-b06e-47df-aa0e-71d39d0ba734",
   "metadata": {},
   "outputs": [
    {
     "name": "stdout",
     "output_type": "stream",
     "text": [
      "14:15:08\n"
     ]
    }
   ],
   "source": [
    "tempo_em_struct= time.localtime()\n",
    "print(time.strftime('%H:%M:%S',tempo_em_struct))"
   ]
  },
  {
   "cell_type": "code",
   "execution_count": 15,
   "id": "60026fd5-b0ca-41bf-a288-6e56f5998ec4",
   "metadata": {},
   "outputs": [
    {
     "name": "stdout",
     "output_type": "stream",
     "text": [
      "Tempo formatado: Thursday, 29 de May de 2025, 14:16:24\n"
     ]
    }
   ],
   "source": [
    "tempo_em_struct= time.localtime()\n",
    "tempo_formatado=time.strftime('%A, %d de %B de %Y, %H:%M:%S',tempo_em_struct)\n",
    "print(f'Tempo formatado: {tempo_formatado}')"
   ]
  },
  {
   "cell_type": "code",
   "execution_count": 17,
   "id": "8c4fe9c7-7b34-4323-a7d7-9b3841c9d498",
   "metadata": {},
   "outputs": [
    {
     "name": "stdout",
     "output_type": "stream",
     "text": [
      "Tempo formatado: quinta-feira, 29 de maio de 2025, 14:19:31\n"
     ]
    }
   ],
   "source": [
    "import locale\n",
    "import time\n",
    "\n",
    "locale.setlocale(locale.LC_TIME,'pt_Br.UTF-8')\n",
    "tempo_em_struct=time.localtime()\n",
    "tempo_formatado=time.strftime('%A, %d de %B de %Y, %H:%M:%S',tempo_em_struct)\n",
    "print(f'Tempo formatado: {tempo_formatado}')"
   ]
  },
  {
   "cell_type": "code",
   "execution_count": 18,
   "id": "1d321737-6f20-4bfe-8df8-a8bdaca3eba9",
   "metadata": {},
   "outputs": [
    {
     "name": "stdout",
     "output_type": "stream",
     "text": [
      "Tempo em struct: time.struct_time(tm_year=2023, tm_mon=6, tm_mday=30, tm_hour=0, tm_min=0, tm_sec=0, tm_wday=4, tm_yday=181, tm_isdst=-1)\n"
     ]
    }
   ],
   "source": [
    "string_tempo='30 junho 2023'\n",
    "formato='%d %B %Y'\n",
    "tempo_em_struct=time.strptime(string_tempo,formato)\n",
    "\n",
    "print(f'Tempo em struct: {tempo_em_struct}')"
   ]
  },
  {
   "cell_type": "code",
   "execution_count": 19,
   "id": "9727931d-3ca0-4753-b08f-12f25a3f0644",
   "metadata": {},
   "outputs": [
    {
     "name": "stdout",
     "output_type": "stream",
     "text": [
      "Tempo em struct: time.struct_time(tm_year=2023, tm_mon=9, tm_mday=6, tm_hour=0, tm_min=0, tm_sec=0, tm_wday=2, tm_yday=249, tm_isdst=-1)\n"
     ]
    }
   ],
   "source": [
    "#data na forma dia/mês/ano\n",
    "string_tempo='06/09/2023'\n",
    "formato='%d/%m/%Y'\n",
    "tempo_em_struct=time.strptime(string_tempo,formato)\n",
    "\n",
    "print(f'Tempo em struct: {tempo_em_struct}')"
   ]
  },
  {
   "cell_type": "code",
   "execution_count": 20,
   "id": "c26ae09c-6e2e-46ea-a483-b3dec7138b1c",
   "metadata": {},
   "outputs": [
    {
     "name": "stdout",
     "output_type": "stream",
     "text": [
      "Tempo em segundos: 1748539592.0\n",
      "Tempo em segundos: 1748539592.8517897\n"
     ]
    }
   ],
   "source": [
    "tempo_em_struct=time.localtime()\n",
    "tempo_em_segundos = time.mktime(tempo_em_struct)\n",
    "print(f'Tempo em segundos: {tempo_em_segundos}')\n",
    "print(f'Tempo em segundos: {time.time()}')"
   ]
  },
  {
   "cell_type": "code",
   "execution_count": 21,
   "id": "da25607b-b597-4ebf-9919-f1717aa89374",
   "metadata": {},
   "outputs": [
    {
     "name": "stdout",
     "output_type": "stream",
     "text": [
      "Diferença em segundos: 75997682.0\n"
     ]
    }
   ],
   "source": [
    "tempo_atual=time.localtime()\n",
    "tempo_ano_novo=time.mktime((2023,1,1,0,0,0,0,0,0))\n",
    "\n",
    "diferenca=time.mktime(tempo_atual)-tempo_ano_novo\n",
    "print(f'Diferença em segundos: {diferenca}')"
   ]
  },
  {
   "cell_type": "markdown",
   "id": "050a1236-5771-4e41-a72f-082c7c679027",
   "metadata": {},
   "source": [
    "-----------------------------------------------Biblioteca datetime-Funcionamento------------------------------------------------------------------"
   ]
  },
  {
   "cell_type": "code",
   "execution_count": 22,
   "id": "d8802f2f-6b55-43a6-a238-7d38103eca66",
   "metadata": {},
   "outputs": [
    {
     "name": "stdout",
     "output_type": "stream",
     "text": [
      "Agora:2025-05-29 14:31:12.986837\n"
     ]
    }
   ],
   "source": [
    "from datetime import datetime\n",
    "\n",
    "agora=datetime.now()\n",
    "print(f'Agora:{agora}')"
   ]
  },
  {
   "cell_type": "code",
   "execution_count": 23,
   "id": "548d839f-7201-4731-b35b-ba3e903da211",
   "metadata": {},
   "outputs": [
    {
     "name": "stdout",
     "output_type": "stream",
     "text": [
      "Data: 2025-05-29\n",
      "Horário: 14:31:12.986837\n"
     ]
    }
   ],
   "source": [
    "print(f'Data: {agora.date()}')\n",
    "print(f'Horário: {agora.time()}')"
   ]
  },
  {
   "cell_type": "code",
   "execution_count": 25,
   "id": "1c5fd839-27a9-4718-b7d0-e9b649d40e68",
   "metadata": {},
   "outputs": [
    {
     "name": "stdout",
     "output_type": "stream",
     "text": [
      "Ano: 2025\n",
      "Mês: 5\n",
      "Dia: 29\n",
      "Hora: 14\n",
      "Minuto: 31\n",
      "Segundo: 12\n"
     ]
    }
   ],
   "source": [
    "print(f'Ano: {agora.year}')\n",
    "print(f'Mês: {agora.month}')\n",
    "print(f'Dia: {agora.day}')\n",
    "print(f'Hora: {agora.hour}')\n",
    "print(f'Minuto: {agora.minute}')\n",
    "print(f'Segundo: {agora.second}')"
   ]
  },
  {
   "cell_type": "code",
   "execution_count": 26,
   "id": "fa9c7fdf-53db-4c97-811f-dc5423029fd9",
   "metadata": {},
   "outputs": [
    {
     "name": "stdout",
     "output_type": "stream",
     "text": [
      "Data atual: 2025-05-29\n"
     ]
    }
   ],
   "source": [
    "from datetime import date\n",
    "\n",
    "hoje=date.today()\n",
    "print(f'Data atual: {hoje}')"
   ]
  },
  {
   "cell_type": "code",
   "execution_count": 27,
   "id": "2f96208f-0865-4b8d-87ab-c9b53d0ef940",
   "metadata": {},
   "outputs": [
    {
     "name": "stdout",
     "output_type": "stream",
     "text": [
      "Ano: 2025\n",
      "Mês: 5\n",
      "Dia: 29\n"
     ]
    }
   ],
   "source": [
    "print(f'Ano: {hoje.year}')\n",
    "print(f'Mês: {hoje.month}')\n",
    "print(f'Dia: {hoje.day}')"
   ]
  },
  {
   "cell_type": "code",
   "execution_count": 28,
   "id": "86504ae5-46de-4e68-9df9-a803f50dfbff",
   "metadata": {},
   "outputs": [
    {
     "name": "stdout",
     "output_type": "stream",
     "text": [
      "Data atual: 2025-05-29 14:36:06.147018\n",
      "Data 10 dias no futuro: 2025-06-08 14:36:06.147018\n",
      "Data 10 dias no passado: 2025-05-19 14:36:06.147018\n"
     ]
    }
   ],
   "source": [
    "from datetime import datetime, timedelta\n",
    "\n",
    "data_atual=datetime.now()\n",
    "print(f'Data atual: {data_atual}')\n",
    "\n",
    "data_futura=data_atual+timedelta(days=10)\n",
    "print(f'Data 10 dias no futuro: {data_futura}')\n",
    "\n",
    "data_passada= data_atual-timedelta(days=10)\n",
    "print(f'Data 10 dias no passado: {data_passada}')\n"
   ]
  },
  {
   "cell_type": "code",
   "execution_count": 29,
   "id": "37d4a8d8-78e6-49f1-bda5-7e93c74c600d",
   "metadata": {},
   "outputs": [
    {
     "name": "stdout",
     "output_type": "stream",
     "text": [
      "10 horas adiante: 2025-05-30 00:36:06.147018\n"
     ]
    }
   ],
   "source": [
    "dez_horas_adiante=data_atual+timedelta(hours=10)\n",
    "print(f'10 horas adiante: {dez_horas_adiante}')"
   ]
  },
  {
   "cell_type": "code",
   "execution_count": 30,
   "id": "66f78b7b-fdbd-4be0-941b-86e456ef8309",
   "metadata": {},
   "outputs": [
    {
     "name": "stdout",
     "output_type": "stream",
     "text": [
      "Data:2023-07-20 08:30:20\n"
     ]
    }
   ],
   "source": [
    "from datetime import datetime\n",
    "\n",
    "data=datetime(2023,7,20,8,30,20)\n",
    "print(f'Data:{data}')"
   ]
  },
  {
   "cell_type": "code",
   "execution_count": 31,
   "id": "f1ee6826-2bc3-4668-88db-03676afc8a33",
   "metadata": {},
   "outputs": [
    {
     "name": "stdout",
     "output_type": "stream",
     "text": [
      "Data:2023-07-20 00:00:00\n"
     ]
    }
   ],
   "source": [
    "data=datetime(2023,7,20)\n",
    "print(f'Data:{data}')"
   ]
  },
  {
   "cell_type": "code",
   "execution_count": 34,
   "id": "040eec1d-fa83-4c6d-bd11-901f149f019f",
   "metadata": {},
   "outputs": [
    {
     "name": "stdout",
     "output_type": "stream",
     "text": [
      "Data:2023-07-20 08:30:20.100000\n"
     ]
    }
   ],
   "source": [
    "data=datetime(2023,7,20,8,30,20,100000)\n",
    "print(f'Data:{data}')"
   ]
  },
  {
   "cell_type": "code",
   "execution_count": 35,
   "id": "21930b7a-47d9-4bad-9424-1008cc460a12",
   "metadata": {},
   "outputs": [
    {
     "name": "stdout",
     "output_type": "stream",
     "text": [
      "Data/hora:2023-06-26 15:30:20\n"
     ]
    }
   ],
   "source": [
    "data_hora_iso=datetime.fromisoformat('2023-06-26 15:30:20')\n",
    "print(f'Data/hora:{data_hora_iso}')"
   ]
  },
  {
   "cell_type": "code",
   "execution_count": 36,
   "id": "75adaf0a-0934-4e70-a739-2e551bbd2370",
   "metadata": {},
   "outputs": [
    {
     "name": "stdout",
     "output_type": "stream",
     "text": [
      "A diferenca entre as duas datas é de 30 dias\n"
     ]
    }
   ],
   "source": [
    "from datetime import datetime\n",
    "\n",
    "data1=datetime(2023,6,25)\n",
    "data2=datetime(2023,7,25)\n",
    "\n",
    "diferenca= data2-data1\n",
    "print(f'A diferenca entre as duas datas é de {diferenca.days} dias')"
   ]
  },
  {
   "cell_type": "code",
   "execution_count": 37,
   "id": "79cee40f-a734-4573-bed0-d5df9b0a46d5",
   "metadata": {},
   "outputs": [
    {
     "name": "stdout",
     "output_type": "stream",
     "text": [
      "As datas são iguais\n"
     ]
    }
   ],
   "source": [
    "from datetime import datetime\n",
    "\n",
    "data1=datetime(2023,7,25)\n",
    "data2=datetime(2023,7,25)\n",
    "\n",
    "if data1>data2:\n",
    "    print('A data1 é posterior à data2')\n",
    "elif data1<data2:\n",
    "    print('A data 1 é anterior à data2')\n",
    "else:\n",
    "    print('As datas são iguais')"
   ]
  },
  {
   "cell_type": "code",
   "execution_count": 39,
   "id": "95524114-6795-4653-bfcf-e23bfaff9fbe",
   "metadata": {},
   "outputs": [
    {
     "name": "stdout",
     "output_type": "stream",
     "text": [
      "A data1 é posterior à data2\n"
     ]
    }
   ],
   "source": [
    "from datetime import datetime\n",
    "\n",
    "data1=datetime(2023,7,25,8,30,30)\n",
    "data2=datetime(2023,7,25,8,30,20)\n",
    "\n",
    "if data1>data2:\n",
    "    print('A data1 é posterior à data2')\n",
    "elif data1<data2:\n",
    "    print('A data 1 é anterior à data2')\n",
    "else:\n",
    "    print('As datas são iguais')"
   ]
  },
  {
   "cell_type": "code",
   "execution_count": 40,
   "id": "5c37fb6d-ab1a-4b23-86a0-9937e88a764d",
   "metadata": {},
   "outputs": [
    {
     "name": "stdout",
     "output_type": "stream",
     "text": [
      "[datetime.datetime(2023, 5, 28, 0, 0), datetime.datetime(2023, 6, 18, 0, 0), datetime.datetime(2023, 6, 28, 0, 0), datetime.datetime(2023, 7, 28, 0, 0)]\n"
     ]
    }
   ],
   "source": [
    "from datetime import datetime\n",
    "\n",
    "datas=[\n",
    "    datetime(2023,6,28),\n",
    "    datetime(2023,5,28),\n",
    "    datetime(2023,7,28),\n",
    "    datetime(2023,6,18),\n",
    "]\n",
    "\n",
    "datas_ordenadas=sorted(datas)\n",
    "\n",
    "print(datas_ordenadas)"
   ]
  },
  {
   "cell_type": "markdown",
   "id": "46ba1ed0-9770-493f-b34e-219d1e941711",
   "metadata": {},
   "source": [
    "-----------------------------------------------Biblioteca datetime-Métodos Avançados------------------------------------------------------------------"
   ]
  },
  {
   "cell_type": "code",
   "execution_count": 41,
   "id": "3e2224e0-5407-4ea1-838a-df8d74785687",
   "metadata": {},
   "outputs": [
    {
     "name": "stdout",
     "output_type": "stream",
     "text": [
      "2025-05-29 14:44:56.131638\n"
     ]
    }
   ],
   "source": [
    "from datetime import datetime\n",
    "\n",
    "agora=datetime.now()\n",
    "print(agora)"
   ]
  },
  {
   "cell_type": "code",
   "execution_count": 42,
   "id": "6f398341-fc66-4189-b777-bdf90a599811",
   "metadata": {},
   "outputs": [
    {
     "name": "stdout",
     "output_type": "stream",
     "text": [
      "<class 'datetime.datetime'>\n"
     ]
    }
   ],
   "source": [
    "print(type(agora))"
   ]
  },
  {
   "cell_type": "code",
   "execution_count": 43,
   "id": "c003940b-f0eb-40c9-a178-8569bad153a0",
   "metadata": {},
   "outputs": [
    {
     "name": "stdout",
     "output_type": "stream",
     "text": [
      "quinta-feira, 29 de maio\n"
     ]
    }
   ],
   "source": [
    "print(agora.strftime('%A, %d de %B'))"
   ]
  },
  {
   "cell_type": "code",
   "execution_count": 45,
   "id": "7ef4188a-7996-48f3-ace9-d947098649be",
   "metadata": {},
   "outputs": [
    {
     "name": "stdout",
     "output_type": "stream",
     "text": [
      "Data formatada:quinta-feira, 29 de maio de 2025, 14:44:56\n"
     ]
    }
   ],
   "source": [
    "data_formatada=agora.strftime('%A, %d de %B de %Y, %H:%M:%S')\n",
    "\n",
    "print(f'Data formatada:{data_formatada}')"
   ]
  },
  {
   "cell_type": "code",
   "execution_count": 47,
   "id": "1277d788-ed21-4b66-9b67-c5414d093c41",
   "metadata": {},
   "outputs": [
    {
     "name": "stdout",
     "output_type": "stream",
     "text": [
      "Data formatada: quinta-feira, 29 de maio de 2025, 14:48:55\n"
     ]
    }
   ],
   "source": [
    "import locale\n",
    "from datetime import datetime\n",
    "\n",
    "#Definir a Localização para português\n",
    "locale.setlocale(locale.LC_TIME,'pt_BR.UTF-8')\n",
    "\n",
    "agora=datetime.now()\n",
    "\n",
    "data_formatada=agora.strftime('%A, %d de %B de %Y, %H:%M:%S')\n",
    "\n",
    "print(f'Data formatada: {data_formatada}')"
   ]
  },
  {
   "cell_type": "code",
   "execution_count": 48,
   "id": "dd89008e-5b1c-46f7-9cdb-93825b800a12",
   "metadata": {},
   "outputs": [
    {
     "name": "stdout",
     "output_type": "stream",
     "text": [
      "Data: 2023-06-30 15:30:20\n"
     ]
    }
   ],
   "source": [
    "from datetime import datetime\n",
    "\n",
    "string_data= '30 junho, 2023, 15:30:20'\n",
    "formato='%d %B, %Y, %H:%M:%S'\n",
    "data=datetime.strptime(string_data, formato)\n",
    "\n",
    "print(f'Data: {data}')"
   ]
  },
  {
   "cell_type": "code",
   "execution_count": 49,
   "id": "f108611f-6d51-4a52-8a62-d24b295f1d6d",
   "metadata": {},
   "outputs": [
    {
     "name": "stdout",
     "output_type": "stream",
     "text": [
      "Data:2023-06-09 15:30:20\n"
     ]
    }
   ],
   "source": [
    "#formato DD/MM/YYYY\n",
    "\n",
    "string_data='09/06/2023, 15:30:20'\n",
    "formato='%d/%m/%Y, %H:%M:%S'\n",
    "data=datetime.strptime(string_data, formato)\n",
    "\n",
    "print(f'Data:{data}')"
   ]
  },
  {
   "cell_type": "code",
   "execution_count": 50,
   "id": "9318d402-82fd-4963-9e53-0bb16a67db5f",
   "metadata": {},
   "outputs": [
    {
     "name": "stdout",
     "output_type": "stream",
     "text": [
      "Data:2023-09-06 15:30:20\n"
     ]
    }
   ],
   "source": [
    "#formato MM/DD/YYYY\n",
    "\n",
    "string_data='09/06/2023, 15:30:20'\n",
    "formato='%m/%d/%Y, %H:%M:%S'\n",
    "data=datetime.strptime(string_data, formato)\n",
    "\n",
    "print(f'Data:{data}')"
   ]
  },
  {
   "cell_type": "code",
   "execution_count": 56,
   "id": "800c8ddb-e783-4cf4-ae9f-e916f23d7f7c",
   "metadata": {},
   "outputs": [
    {
     "name": "stdout",
     "output_type": "stream",
     "text": [
      "Data/hora: 2023-06-26 15:30:20\n"
     ]
    }
   ],
   "source": [
    "from datetime import datetime\n",
    "\n",
    "data_hora=datetime(2023,6,26,15,30,20)\n",
    "print(f'Data/hora: {data_hora}')"
   ]
  },
  {
   "cell_type": "code",
   "execution_count": 57,
   "id": "b8cae89e-560a-4707-ac3b-1a9a15df54fa",
   "metadata": {},
   "outputs": [
    {
     "name": "stdout",
     "output_type": "stream",
     "text": [
      "Data/hora: 2023-06-26 15:30:20+00:00\n"
     ]
    }
   ],
   "source": [
    "#exemplo com fuso horário\n",
    "\n",
    "from datetime import datetime, timezone\n",
    "\n",
    "fuso_horario=timezone.utc\n",
    "data_hora=datetime(2023,6,26,15,30,20, tzinfo=fuso_horario)\n",
    "print(f'Data/hora: {data_hora}')"
   ]
  },
  {
   "cell_type": "code",
   "execution_count": 58,
   "id": "2463428b-6373-49de-8c44-c74040a23a2f",
   "metadata": {},
   "outputs": [
    {
     "name": "stdout",
     "output_type": "stream",
     "text": [
      "Data/hora: 2023-06-26 15:30:20-03:00\n"
     ]
    }
   ],
   "source": [
    "#exemplo com fuso horário de São Paulo\n",
    "\n",
    "from datetime import datetime, timezone\n",
    "\n",
    "fuso_horario_sao_paulo=timezone(timedelta(hours=-3))\n",
    "data_hora=datetime(2023,6,26,15,30,20, tzinfo=fuso_horario_sao_paulo)\n",
    "print(f'Data/hora: {data_hora}')"
   ]
  },
  {
   "cell_type": "code",
   "execution_count": 59,
   "id": "a872ef1e-b5b4-416b-a21b-9a23c0cc3bfd",
   "metadata": {},
   "outputs": [
    {
     "name": "stdout",
     "output_type": "stream",
     "text": [
      "Data/hora: 2023-06-26 15:30:20-03:00\n"
     ]
    }
   ],
   "source": [
    "#exemplo com fuso horário de São Paulo sem necessidade de timedelta\n",
    "\n",
    "from datetime import datetime, timezone\n",
    "from zoneinfo import ZoneInfo\n",
    "\n",
    "fuso_horario_sao_paulo=ZoneInfo('America/Sao_paulo')\n",
    "data_hora=datetime(2023,6,26,15,30,20, tzinfo=fuso_horario_sao_paulo)\n",
    "print(f'Data/hora: {data_hora}')"
   ]
  },
  {
   "cell_type": "code",
   "execution_count": 60,
   "id": "2db333cc-3339-46a5-96ba-f56f23422a44",
   "metadata": {},
   "outputs": [
    {
     "name": "stdout",
     "output_type": "stream",
     "text": [
      "Data/hora atual (fuso horário local): 2025-05-29 14:59:18.762170\n"
     ]
    }
   ],
   "source": [
    "from datetime import datetime, timezone\n",
    "from zoneinfo import ZoneInfo\n",
    "\n",
    "data_hora_atual=datetime.now()\n",
    "print(f'Data/hora atual (fuso horário local): {data_hora_atual}')"
   ]
  },
  {
   "cell_type": "code",
   "execution_count": 61,
   "id": "4446b04f-33fd-42e8-9ee3-d91932325332",
   "metadata": {},
   "outputs": [
    {
     "name": "stdout",
     "output_type": "stream",
     "text": [
      "Data/hora: 2025-05-29 14:59:18.762170-03:00\n"
     ]
    }
   ],
   "source": [
    "fuso_horario_sao_paulo=ZoneInfo('America/Sao_paulo')\n",
    "data_hora_sao_paulo=data_hora_atual.astimezone(fuso_horario_sao_paulo)\n",
    "print(f'Data/hora: {data_hora_sao_paulo}')"
   ]
  },
  {
   "cell_type": "code",
   "execution_count": 62,
   "id": "21a0f228-19e7-43ee-b0d2-9cd041d3a473",
   "metadata": {},
   "outputs": [
    {
     "name": "stdout",
     "output_type": "stream",
     "text": [
      "Data/hora atual em Nova York: 2025-05-29 13:59:18.762170-04:00\n"
     ]
    }
   ],
   "source": [
    "fuso_horario_ny=ZoneInfo('America/New_York')\n",
    "data_hora_ny=data_hora_atual.astimezone(fuso_horario_ny)\n",
    "print(f'Data/hora atual em Nova York: {data_hora_ny}')"
   ]
  },
  {
   "attachments": {},
   "cell_type": "markdown",
   "id": "e4269125-263f-4997-b50e-3af5f8ac0664",
   "metadata": {},
   "source": [
    "-----------------------------------------------Módulo de Gráficos- exibindo Gráficos no Python------------------------------------------------------------------"
   ]
  },
  {
   "cell_type": "code",
   "execution_count": 63,
   "id": "63cfb364-21c9-482e-b310-f249ba0e3bfa",
   "metadata": {},
   "outputs": [
    {
     "data": {
      "image/png": "[encoded data removed]",
      "text/plain": [
       "<Figure size 640x480 with 1 Axes>"
      ]
     },
     "metadata": {},
     "output_type": "display_data"
    }
   ],
   "source": [
    "vendas_meses=[1500,1727,1350,999,1050,1027,1022,1500,200,2362,2100,2762]\n",
    "meses=['jan','fev','mar','abr','mai','jun','jul','ago','set','out','nov','dez']\n",
    "\n",
    "#plotar o gráfico da forma mais simples\n",
    "import matplotlib.pyplot as plt\n",
    "\n",
    "plt.plot(meses,vendas_meses)\n",
    "plt.ylabel('Vendas')\n",
    "plt.xlabel('Meses')\n",
    "plt.axis([0,12,0,max(vendas_meses)+500])\n",
    "plt.show()"
   ]
  },
  {
   "cell_type": "markdown",
   "id": "81376124-c2bb-4e81-aa3e-9952589c2a76",
   "metadata": {},
   "source": [
    "-----------------------------------------------Mais edições de Gráficos e Módulo Numpy------------------------------------------------------------------"
   ]
  },
  {
   "cell_type": "code",
   "execution_count": 65,
   "id": "802681ba-3b1c-4a1a-8827-8e32524d1c57",
   "metadata": {},
   "outputs": [],
   "source": [
    "#importando o módulo numpy\n",
    "import numpy as np"
   ]
  },
  {
   "cell_type": "code",
   "execution_count": 66,
   "id": "0b455034-7aa9-4726-97bc-35d54f58252c",
   "metadata": {},
   "outputs": [
    {
     "name": "stdout",
     "output_type": "stream",
     "text": [
      "[ 1  2  3  4  5  6  7  8  9 10 11 12 13 14 15 16 17 18 19 20 21 22 23 24\n",
      " 25 26 27 28 29 30 31 32 33 34 35 36 37 38 39 40 41 42 43 44 45 46 47 48\n",
      " 49 50]\n"
     ]
    }
   ],
   "source": [
    "vendas=np.random.randint(1000,3000,50)\n",
    "meses=np.arange(1,51)\n",
    "print(meses)"
   ]
  },
  {
   "cell_type": "code",
   "execution_count": 67,
   "id": "d9f16604-8609-4866-ba8b-a3979e711c58",
   "metadata": {},
   "outputs": [
    {
     "data": {
      "image/png": "[encoded data removed]",
      "text/plain": [
       "<Figure size 640x480 with 1 Axes>"
      ]
     },
     "metadata": {},
     "output_type": "display_data"
    }
   ],
   "source": [
    "plt.plot(meses,vendas)\n",
    "plt.axis([0,50,0,max(vendas)+200])\n",
    "plt.xlabel('Meses')\n",
    "plt.ylabel('Vendas')\n",
    "plt.show()"
   ]
  },
  {
   "cell_type": "code",
   "execution_count": 68,
   "id": "2d0248b3-4fdb-4ecb-99f6-606733617c6a",
   "metadata": {},
   "outputs": [
    {
     "data": {
      "image/png": "[encoded data removed]",
      "text/plain": [
       "<Figure size 640x480 with 1 Axes>"
      ]
     },
     "metadata": {},
     "output_type": "display_data"
    }
   ],
   "source": [
    "plt.plot(meses,vendas,color='red')\n",
    "plt.axis([0,50,0,max(vendas)+200])\n",
    "plt.xlabel('Meses')\n",
    "plt.ylabel('Vendas')\n",
    "plt.show()"
   ]
  },
  {
   "cell_type": "code",
   "execution_count": null,
   "id": "250ed3d1-de48-4955-87b7-74d2835bccb9",
   "metadata": {},
   "outputs": [],
   "source": []
  }
 ],
 "metadata": {
  "kernelspec": {
   "display_name": "Python 3 (ipykernel)",
   "language": "python",
   "name": "python3"
  },
  "language_info": {
   "codemirror_mode": {
    "name": "ipython",
    "version": 3
   },
   "file_extension": ".py",
   "mimetype": "text/x-python",
   "name": "python",
   "nbconvert_exporter": "python",
   "pygments_lexer": "ipython3",
   "version": "3.12.7"
  }
 },
 "nbformat": 4,
 "nbformat_minor": 5
}
