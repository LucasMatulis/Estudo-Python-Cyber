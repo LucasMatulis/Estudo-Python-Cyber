{
 "cells": [
  {
   "cell_type": "markdown",
   "id": "229e1a6e-379a-483a-9e98-46ff4fbb1f3b",
   "metadata": {},
   "source": [
    "# Exercícios do Módulo 1 - Operações, Variáveis e Input\n",
    "\n",
    "### Parte 1 - Operações e Variáveis\n",
    "Crie um programa que imprima (print) os principais indicadores da loja Hashtag&Drink no último ano.\n",
    "Obs: faça tudo usando variáveis.\n",
    "\n",
    "Valores do último ano:\n",
    "\n",
    "Quantidade de Vendas de Coca = 150<br>\n",
    "Quantidade de Vendas de Pepsi = 130<br>\n",
    "Preço Unitário da Coca = 1,50 <br>\n",
    "Preço Unitário da Pepsi = 1,50<br>\n",
    "Custo da Loja: 2.500,00"
   ]
  },
  {
   "cell_type": "markdown",
   "id": "4cd0eeb8-865f-4375-b2d4-88c2edd00133",
   "metadata": {},
   "source": [
    "Use o bloco abaixo para criar todas as variáveis que precisar.\n"
   ]
  },
  {
   "cell_type": "code",
   "execution_count": 4,
   "id": "8c2c3dfd-27d1-43b1-b26e-926599b053bb",
   "metadata": {},
   "outputs": [],
   "source": [
    "qtd_coca=150\n",
    "qtd_pepsi=130\n",
    "preco_coca=1.5\n",
    "prco_pepsi=1.5\n",
    "custo_loja=2500"
   ]
  },
  {
   "cell_type": "markdown",
   "id": "2f897674-e24a-4faf-8f8c-c8ea548da96a",
   "metadata": {},
   "source": [
    "1. Qual foi o faturamento de Pepsi da Loja?"
   ]
  },
  {
   "cell_type": "code",
   "execution_count": 6,
   "id": "b59a2a0e-b7d7-4b4b-9183-ac7069beb27b",
   "metadata": {},
   "outputs": [
    {
     "name": "stdout",
     "output_type": "stream",
     "text": [
      "195.0\n"
     ]
    }
   ],
   "source": [
    "print(qtd_pepsi*prco_pepsi)"
   ]
  },
  {
   "cell_type": "markdown",
   "id": "afc6ae4f-0785-400b-81fc-1d7480874259",
   "metadata": {},
   "source": [
    "2. Qual foi o faturamento de Coca da Loja?"
   ]
  },
  {
   "cell_type": "code",
   "execution_count": 5,
   "id": "6f598cff-23be-4385-af98-1458a9a13d6d",
   "metadata": {},
   "outputs": [
    {
     "name": "stdout",
     "output_type": "stream",
     "text": [
      "225.0\n"
     ]
    }
   ],
   "source": [
    "print(qtd_coca*preco_coca)"
   ]
  },
  {
   "cell_type": "markdown",
   "id": "1d0822b4-dc08-4e26-a78f-d3bc115bed2f",
   "metadata": {},
   "source": [
    "3. Qual foi o Lucro da loja?"
   ]
  },
  {
   "cell_type": "code",
   "execution_count": 10,
   "id": "5bcc9858-a19d-48e5-9931-c2e055d7af82",
   "metadata": {},
   "outputs": [
    {
     "name": "stdout",
     "output_type": "stream",
     "text": [
      "-2080.0\n"
     ]
    }
   ],
   "source": [
    "faturamento=qtd_coca*preco_coca + qtd_pepsi*prco_pepsi\n",
    "lucro= faturamento-custo_loja\n",
    "print(lucro)"
   ]
  },
  {
   "cell_type": "markdown",
   "id": "c255d0a1-d216-419b-b94e-a0ff485eeeb2",
   "metadata": {},
   "source": [
    "4. Qual foi a Margem da Loja? (Lembre-se, margem = Lucro / Faturamento). Não precisa formatar em percentual"
   ]
  },
  {
   "cell_type": "code",
   "execution_count": 11,
   "id": "b007f05c-5fb1-4d7a-af20-7c677bbc0b66",
   "metadata": {},
   "outputs": [
    {
     "name": "stdout",
     "output_type": "stream",
     "text": [
      "-4.9523809523809526\n"
     ]
    }
   ],
   "source": [
    "print(lucro/faturamento)"
   ]
  },
  {
   "cell_type": "markdown",
   "id": "33197c0a-2d27-4dcd-9c09-285631a122e2",
   "metadata": {},
   "source": [
    "### Parte 2 - Inputs e Strings\n",
    "\n",
    "A maioria das empresas trabalham com um Código para cada produto que possuem. A Hashtag&Drink, por exemplo, tem mais de 1.000 produtos e possui um código para cada produto.\n",
    "Ex: \n",
    "Coca -> Código: BEB1300543<br>\n",
    "Pepsi -> Código: BEB1300545<br>\n",
    "Vinho Primitivo Lucarelli -> Código: BAC1546001<br>\n",
    "Vodka Smirnoff -> Código: BAC17675002<br>\n",
    "\n",
    "Repare que todas as bebidas não alcóolicas tem o início do Código \"BEB\" e todas as bebidas alcóolicas tem o início do código \"BAC\".\n",
    "\n",
    "Crie um programa de consulta de bebida que, dado um código qualquer, identifique se a bebida é alcóolica. O programa deve responder True para bebidas alcóolicas e False para bebidas não alcóolicas. Para inserir um código, use um input.\n",
    "\n",
    "Dica: Lembre-se do comando in para strings e sempre insira os códigos com letra maiúscula para facilitar."
   ]
  },
  {
   "cell_type": "code",
   "execution_count": 16,
   "id": "b7f32591-9aea-4215-b602-ad7c8f6c4df6",
   "metadata": {},
   "outputs": [
    {
     "name": "stdin",
     "output_type": "stream",
     "text": [
      "digite o código do produto BAC1231312312123123123\n"
     ]
    },
    {
     "name": "stdout",
     "output_type": "stream",
     "text": [
      "True\n"
     ]
    }
   ],
   "source": [
    "cod=input('digite o código do produto')\n",
    "\n",
    "print('BAC' in cod)"
   ]
  },
  {
   "cell_type": "code",
   "execution_count": null,
   "id": "a7e866a2-10dd-45c5-a2f6-d9143d3813d4",
   "metadata": {},
   "outputs": [],
   "source": []
  }
 ],
 "metadata": {
  "kernelspec": {
   "display_name": "Python 3 (ipykernel)",
   "language": "python",
   "name": "python3"
  },
  "language_info": {
   "codemirror_mode": {
    "name": "ipython",
    "version": 3
   },
   "file_extension": ".py",
   "mimetype": "text/x-python",
   "name": "python",
   "nbconvert_exporter": "python",
   "pygments_lexer": "ipython3",
   "version": "3.12.7"
  }
 },
 "nbformat": 4,
 "nbformat_minor": 5
}
