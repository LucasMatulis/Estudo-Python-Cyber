{
 "cells": [
  {
   "cell_type": "markdown",
   "id": "384c630a-a381-4986-9682-3fa771cf46f2",
   "metadata": {},
   "source": [
    "joao@hashtag.com<br>\n",
    "j o a o @ h a s h t a  g  .  c  o  m<br>\n",
    "0 1 2 3 4 5 6 7 8 9 10 11 12 13 14 15<br>"
   ]
  },
  {
   "cell_type": "code",
   "execution_count": 1,
   "id": "8843c4d1-cded-46dc-8ebd-8f6e0af6af81",
   "metadata": {},
   "outputs": [
    {
     "name": "stdout",
     "output_type": "stream",
     "text": [
      "j\n"
     ]
    }
   ],
   "source": [
    "email='joao@hashtag.com'\n",
    "print(email[0])"
   ]
  },
  {
   "cell_type": "code",
   "execution_count": 2,
   "id": "d6ae2110-d401-47d5-aeab-3126eb740cdd",
   "metadata": {},
   "outputs": [
    {
     "name": "stdout",
     "output_type": "stream",
     "text": [
      "joao@\n"
     ]
    }
   ],
   "source": [
    "print(email[0:5])"
   ]
  },
  {
   "cell_type": "code",
   "execution_count": 3,
   "id": "3fab8c22-9b34-47b0-9328-3cf0f1a3e8bf",
   "metadata": {},
   "outputs": [
    {
     "data": {
      "text/plain": [
       "16"
      ]
     },
     "execution_count": 3,
     "metadata": {},
     "output_type": "execute_result"
    }
   ],
   "source": [
    "email='joao@hashtag.com'\n",
    "len(email)"
   ]
  },
  {
   "cell_type": "code",
   "execution_count": 4,
   "id": "5b00b94d-3acc-4d45-b248-df2bfa520556",
   "metadata": {},
   "outputs": [
    {
     "data": {
      "text/plain": [
       "'joao@hashta'"
      ]
     },
     "execution_count": 4,
     "metadata": {},
     "output_type": "execute_result"
    }
   ],
   "source": [
    "email[:-5]"
   ]
  },
  {
   "cell_type": "code",
   "execution_count": 5,
   "id": "c288f77f-b4d8-4408-b4a8-589c8f926779",
   "metadata": {},
   "outputs": [
    {
     "data": {
      "text/plain": [
       "'g.com'"
      ]
     },
     "execution_count": 5,
     "metadata": {},
     "output_type": "execute_result"
    }
   ],
   "source": [
    "email[-5:]"
   ]
  },
  {
   "cell_type": "code",
   "execution_count": 6,
   "id": "e66b3d39-5902-41c7-8b8d-6566cb0c1fe3",
   "metadata": {},
   "outputs": [
    {
     "data": {
      "text/plain": [
       "'joao@hashtag.co'"
      ]
     },
     "execution_count": 6,
     "metadata": {},
     "output_type": "execute_result"
    }
   ],
   "source": [
    "email[-16:-1]"
   ]
  },
  {
   "cell_type": "code",
   "execution_count": 7,
   "id": "a58d063d-f6a6-4054-acf9-14293ae44c4b",
   "metadata": {},
   "outputs": [
    {
     "name": "stdout",
     "output_type": "stream",
     "text": [
      "O faturamento foi de: 2000. O custo foi de 500 e o Lucro foi de 1500\n"
     ]
    }
   ],
   "source": [
    "faturamento = 2000\n",
    "custo=500\n",
    "lucro = faturamento-custo\n",
    "\n",
    "print('O faturamento foi de: {0}. O custo foi de {1} e o Lucro foi de {2}'.format(faturamento,custo,lucro))"
   ]
  },
  {
   "cell_type": "code",
   "execution_count": 8,
   "id": "0863bb3b-c557-43ad-be24-eb3370f74c80",
   "metadata": {},
   "outputs": [
    {
     "name": "stdout",
     "output_type": "stream",
     "text": [
      "O faturamento foi de: 1500. O custo foi de 2000 e o Lucro foi de 500\n"
     ]
    }
   ],
   "source": [
    "faturamento = 2000\n",
    "custo=500\n",
    "lucro = faturamento-custo\n",
    "\n",
    "print('O faturamento foi de: {2}. O custo foi de {0} e o Lucro foi de {1}'.format(faturamento,custo,lucro))"
   ]
  },
  {
   "cell_type": "code",
   "execution_count": 9,
   "id": "d2accb97-1e9d-42d7-8dd4-c02f9baad902",
   "metadata": {},
   "outputs": [
    {
     "name": "stdout",
     "output_type": "stream",
     "text": [
      "O faturamento foi de: 2000. O custo foi de 2000 e o Lucro foi de 2000\n"
     ]
    }
   ],
   "source": [
    "faturamento = 2000\n",
    "custo=500\n",
    "lucro = faturamento-custo\n",
    "\n",
    "print('O faturamento foi de: {0}. O custo foi de {0} e o Lucro foi de {0}'.format(faturamento,custo,lucro))"
   ]
  },
  {
   "cell_type": "code",
   "execution_count": 10,
   "id": "231a70d2-084d-436c-80fb-100e7e288197",
   "metadata": {},
   "outputs": [
    {
     "name": "stdout",
     "output_type": "stream",
     "text": [
      "O faturamento foi de: 2000. O custo foi de 2000 e o Lucro foi de 2000\n"
     ]
    }
   ],
   "source": [
    "faturamento = 2000\n",
    "custo=500\n",
    "lucro = faturamento-custo\n",
    "\n",
    "print('O faturamento foi de: {0}. O custo foi de {0} e o Lucro foi de {0}'.format(faturamento))"
   ]
  },
  {
   "cell_type": "code",
   "execution_count": 11,
   "id": "8cb8d46a-3454-47ba-b8b1-1a3381f2584d",
   "metadata": {},
   "outputs": [
    {
     "name": "stdout",
     "output_type": "stream",
     "text": [
      "O faturamento foi de: 2000. O custo foi de 500 e o Lucro foi de 1500. Lembrando, o faturamento foi de 2000\n"
     ]
    }
   ],
   "source": [
    "faturamento = 2000\n",
    "custo=500\n",
    "lucro = faturamento-custo\n",
    "\n",
    "print('O faturamento foi de: {0}. O custo foi de {1} e o Lucro foi de {2}. Lembrando, o faturamento foi de {0}'.format(faturamento,custo,lucro))"
   ]
  },
  {
   "cell_type": "code",
   "execution_count": 12,
   "id": "31c10a43-1216-4ea5-b92e-c53f4d3b96aa",
   "metadata": {},
   "outputs": [
    {
     "name": "stdout",
     "output_type": "stream",
     "text": [
      "O faturamento foi de: faturamento\n"
     ]
    }
   ],
   "source": [
    "print('O faturamento foi de: %s' % 'faturamento')"
   ]
  },
  {
   "cell_type": "code",
   "execution_count": 15,
   "id": "10b98a62-a5f6-4f3f-b91b-3d4892d358f8",
   "metadata": {},
   "outputs": [
    {
     "name": "stdout",
     "output_type": "stream",
     "text": [
      "O faturamento foi de: 2000\n"
     ]
    }
   ],
   "source": [
    "print(\"O faturamento foi de: %d\" % faturamento )"
   ]
  },
  {
   "cell_type": "code",
   "execution_count": 16,
   "id": "2633cc33-c26b-421d-99e0-ba5de74f816c",
   "metadata": {},
   "outputs": [
    {
     "name": "stdout",
     "output_type": "stream",
     "text": [
      "O faturamento foi de: 2000. O custo foi de 500 e o Lucro foi de 1500\n"
     ]
    }
   ],
   "source": [
    "print('O faturamento foi de: %d. O custo foi de %d e o Lucro foi de %d' % (faturamento, custo, lucro))"
   ]
  },
  {
   "cell_type": "code",
   "execution_count": 17,
   "id": "041a5b64-5579-4070-82de-055428f3b940",
   "metadata": {},
   "outputs": [
    {
     "name": "stdout",
     "output_type": "stream",
     "text": [
      "Lira\n"
     ]
    }
   ],
   "source": [
    "texto='lira'\n",
    "print(texto.capitalize())"
   ]
  },
  {
   "cell_type": "code",
   "execution_count": 18,
   "id": "fe0378f6-4bf8-43d1-ad09-38ab0c780063",
   "metadata": {},
   "outputs": [
    {
     "name": "stdout",
     "output_type": "stream",
     "text": [
      "lira\n"
     ]
    }
   ],
   "source": [
    "texto='Lira'\n",
    "print(texto.casefold())"
   ]
  },
  {
   "cell_type": "code",
   "execution_count": 19,
   "id": "657f7178-7d54-4674-a47b-c48294e07773",
   "metadata": {},
   "outputs": [
    {
     "name": "stdout",
     "output_type": "stream",
     "text": [
      "2\n"
     ]
    }
   ],
   "source": [
    "texto='lira@yahoo.com.br'\n",
    "print(texto.count('.'))"
   ]
  },
  {
   "cell_type": "code",
   "execution_count": 20,
   "id": "3d653e5b-4877-49f5-be62-0d7d9ed1eac9",
   "metadata": {},
   "outputs": [
    {
     "name": "stdout",
     "output_type": "stream",
     "text": [
      "True\n"
     ]
    }
   ],
   "source": [
    "texto='lira@gmail.com'\n",
    "print(texto.endswith('gmail.com'))"
   ]
  },
  {
   "cell_type": "code",
   "execution_count": 21,
   "id": "95b48267-b3b4-49ed-9e4b-975fdd771738",
   "metadata": {},
   "outputs": [
    {
     "name": "stdout",
     "output_type": "stream",
     "text": [
      "4\n"
     ]
    }
   ],
   "source": [
    "texto='lira@gmail.com'\n",
    "print(texto.find('@'))"
   ]
  },
  {
   "cell_type": "code",
   "execution_count": 26,
   "id": "7a58c818-93a6-443c-a322-3a42927213ca",
   "metadata": {},
   "outputs": [
    {
     "name": "stdout",
     "output_type": "stream",
     "text": [
      "True\n",
      "False\n"
     ]
    }
   ],
   "source": [
    "texto='Joao123'\n",
    "print(texto.isalnum())\n",
    "texto='Joao123@'\n",
    "print(texto.isalnum())"
   ]
  },
  {
   "cell_type": "code",
   "execution_count": 27,
   "id": "5aea1494-197a-4852-80b3-5f4700cfacb7",
   "metadata": {},
   "outputs": [
    {
     "name": "stdout",
     "output_type": "stream",
     "text": [
      "True\n",
      "False\n"
     ]
    }
   ],
   "source": [
    "texto='Joao'\n",
    "print(texto.isalpha())\n",
    "texto='Joao1'\n",
    "print(texto.isalpha())"
   ]
  },
  {
   "cell_type": "code",
   "execution_count": 28,
   "id": "b73f4995-5407-4f49-9c58-55ce1e675c0d",
   "metadata": {},
   "outputs": [
    {
     "name": "stdout",
     "output_type": "stream",
     "text": [
      "True\n"
     ]
    }
   ],
   "source": [
    "texto='123'\n",
    "print(texto.isnumeric())"
   ]
  },
  {
   "cell_type": "code",
   "execution_count": 29,
   "id": "c635f9b5-39c5-466a-ad2f-374017700264",
   "metadata": {},
   "outputs": [
    {
     "name": "stdout",
     "output_type": "stream",
     "text": [
      "1000,00\n"
     ]
    }
   ],
   "source": [
    "texto='1000.00'\n",
    "print(texto.replace('.',','))"
   ]
  },
  {
   "cell_type": "code",
   "execution_count": 30,
   "id": "82278717-c7b0-4d79-acde-2aa763044881",
   "metadata": {},
   "outputs": [
    {
     "name": "stdout",
     "output_type": "stream",
     "text": [
      "['lira', 'gmail.com']\n"
     ]
    }
   ],
   "source": [
    "texto='lira@gmail.com'\n",
    "print(texto.split('@'))"
   ]
  },
  {
   "cell_type": "code",
   "execution_count": 31,
   "id": "b18453ca-69dc-477c-951f-b8954258a5ff",
   "metadata": {},
   "outputs": [
    {
     "name": "stdout",
     "output_type": "stream",
     "text": [
      "['Olá,bom dia', 'Venhor por meio desse email lhe informar o faturamento da loja no dia de hoje.', 'Faturamento = R$2.500,00']\n"
     ]
    }
   ],
   "source": [
    "texto='''Olá,bom dia\n",
    "Venhor por meio desse email lhe informar o faturamento da loja no dia de hoje.\n",
    "Faturamento = R$2.500,00\n",
    "'''\n",
    "print(texto.splitlines())"
   ]
  },
  {
   "cell_type": "code",
   "execution_count": 33,
   "id": "c036ceff-e87d-4b0b-afd1-1bd1a0010824",
   "metadata": {},
   "outputs": [
    {
     "name": "stdout",
     "output_type": "stream",
     "text": [
      "João Paulo Lira\n"
     ]
    }
   ],
   "source": [
    "texto='joão paulo lira'\n",
    "print(texto.title())"
   ]
  },
  {
   "cell_type": "code",
   "execution_count": 35,
   "id": "49e89a0c-8b2b-465c-9054-88eb4c490e52",
   "metadata": {},
   "outputs": [
    {
     "name": "stdout",
     "output_type": "stream",
     "text": [
      "BEB123453\n"
     ]
    }
   ],
   "source": [
    "texto=' BEB123453 '\n",
    "print(texto.strip())"
   ]
  },
  {
   "cell_type": "code",
   "execution_count": 36,
   "id": "21427507-4e79-45f4-86fd-9c90339e4f48",
   "metadata": {},
   "outputs": [
    {
     "name": "stdout",
     "output_type": "stream",
     "text": [
      "True\n"
     ]
    }
   ],
   "source": [
    "texto='BEB123453'\n",
    "print(texto.startswith('BEB'))"
   ]
  },
  {
   "cell_type": "code",
   "execution_count": 37,
   "id": "2f3ca2c2-d33a-4a58-ae68-f58c97af6691",
   "metadata": {},
   "outputs": [
    {
     "name": "stdout",
     "output_type": "stream",
     "text": [
      "BEB123453\n"
     ]
    }
   ],
   "source": [
    "texto='beb123453'\n",
    "print(texto.upper())"
   ]
  },
  {
   "cell_type": "code",
   "execution_count": 38,
   "id": "5188f794-113f-4706-acb3-ee94696cb174",
   "metadata": {},
   "outputs": [
    {
     "name": "stdout",
     "output_type": "stream",
     "text": [
      "meu e-mail não é lira@gmail.com, show?\n"
     ]
    }
   ],
   "source": [
    "email='lira@gmail.com'\n",
    "print('meu e-mail não é {}, show?'.format(email))"
   ]
  },
  {
   "cell_type": "code",
   "execution_count": 39,
   "id": "1533375d-0bc8-4216-a992-68483f39730c",
   "metadata": {},
   "outputs": [
    {
     "name": "stdout",
     "output_type": "stream",
     "text": [
      "meu e-mail não é lira@gmail.com                , show?\n"
     ]
    }
   ],
   "source": [
    "email='lira@gmail.com'\n",
    "print('meu e-mail não é {:<30}, show?'.format(email))"
   ]
  },
  {
   "cell_type": "code",
   "execution_count": 40,
   "id": "f55db719-7370-4d27-972f-ea164b4505ab",
   "metadata": {},
   "outputs": [
    {
     "name": "stdout",
     "output_type": "stream",
     "text": [
      "meu e-mail não é                 lira@gmail.com, show?\n"
     ]
    }
   ],
   "source": [
    "email='lira@gmail.com'\n",
    "print('meu e-mail não é {:>30}, show?'.format(email))"
   ]
  },
  {
   "cell_type": "code",
   "execution_count": 42,
   "id": "21e7d103-b2dd-4f14-bdb1-956939578860",
   "metadata": {},
   "outputs": [
    {
     "name": "stdout",
     "output_type": "stream",
     "text": [
      "meu e-mail não é         lira@gmail.com        , show?\n"
     ]
    }
   ],
   "source": [
    "email='lira@gmail.com'\n",
    "print('meu e-mail não é {:^30}, show?'.format(email))"
   ]
  },
  {
   "cell_type": "code",
   "execution_count": 43,
   "id": "19074fa1-786a-4ffc-b6c6-69981bc3af75",
   "metadata": {},
   "outputs": [
    {
     "name": "stdout",
     "output_type": "stream",
     "text": [
      "meu e-mail não é                   lira@gmail.com                  , show?\n"
     ]
    }
   ],
   "source": [
    "email='lira@gmail.com'\n",
    "print('meu e-mail não é {:^50}, show?'.format(email))"
   ]
  },
  {
   "cell_type": "code",
   "execution_count": 48,
   "id": "1c8f6818-c719-4ad2-9cdf-92ee62fc54be",
   "metadata": {},
   "outputs": [
    {
     "name": "stdout",
     "output_type": "stream",
     "text": [
      "faturamento foi +270 e lucro foi -230\n"
     ]
    }
   ],
   "source": [
    "custo = 500\n",
    "faturamento= 270\n",
    "lucro = faturamento -custo\n",
    "print('faturamento foi {:+} e lucro foi {:+}'.format(faturamento, lucro))"
   ]
  },
  {
   "cell_type": "code",
   "execution_count": 49,
   "id": "e56dc51b-d6f3-4e7d-88d7-3d50fa5e3a2a",
   "metadata": {},
   "outputs": [
    {
     "name": "stdout",
     "output_type": "stream",
     "text": [
      "faturamento foi 2,700 e lucro foi -2,300\n"
     ]
    }
   ],
   "source": [
    "custo = 5000\n",
    "faturamento= 2700\n",
    "lucro = faturamento -custo\n",
    "print('faturamento foi {:,} e lucro foi {:,}'.format(faturamento, lucro))"
   ]
  },
  {
   "cell_type": "code",
   "execution_count": 50,
   "id": "bb5a620b-4947-4bbb-812a-b882e3b13b48",
   "metadata": {},
   "outputs": [
    {
     "name": "stdout",
     "output_type": "stream",
     "text": [
      "faturamento foi +2,700 e lucro foi -2,300\n"
     ]
    }
   ],
   "source": [
    "custo = 5000\n",
    "faturamento= 2700\n",
    "lucro = faturamento -custo\n",
    "print('faturamento foi {:+,} e lucro foi {:+,}'.format(faturamento, lucro))"
   ]
  },
  {
   "cell_type": "code",
   "execution_count": 51,
   "id": "c96cb4db-7258-41f0-a182-4f767eecd38e",
   "metadata": {},
   "outputs": [
    {
     "name": "stdout",
     "output_type": "stream",
     "text": [
      "faturamento foi 270.000000 e lucro foi -230.000000\n"
     ]
    }
   ],
   "source": [
    "custo = 500\n",
    "faturamento= 270\n",
    "lucro = faturamento -custo\n",
    "print('faturamento foi {:f} e lucro foi {:f}'.format(faturamento, lucro))"
   ]
  },
  {
   "cell_type": "code",
   "execution_count": 54,
   "id": "54095b00-98a5-4bdf-9f1e-d5a2399d7477",
   "metadata": {},
   "outputs": [
    {
     "name": "stdout",
     "output_type": "stream",
     "text": [
      "faturamento foi 270.00 e lucro foi -230.0\n"
     ]
    }
   ],
   "source": [
    "custo = 500\n",
    "faturamento= 270\n",
    "lucro = faturamento -custo\n",
    "print('faturamento foi {:.2f} e lucro foi {:.1f}'.format(faturamento, lucro))"
   ]
  },
  {
   "cell_type": "code",
   "execution_count": 55,
   "id": "f6a29ee8-3e35-4477-8c9a-c5658137f062",
   "metadata": {},
   "outputs": [
    {
     "name": "stdout",
     "output_type": "stream",
     "text": [
      "Margem de luco foi de 61.538462%\n"
     ]
    }
   ],
   "source": [
    "custo = 500\n",
    "faturamento= 1300\n",
    "lucro = faturamento -custo\n",
    "margem= lucro/faturamento\n",
    "print('Margem de luco foi de {:%}'.format(margem))"
   ]
  },
  {
   "cell_type": "code",
   "execution_count": 56,
   "id": "7f4f2b28-fdb7-4044-b695-59a12be64679",
   "metadata": {},
   "outputs": [
    {
     "name": "stdout",
     "output_type": "stream",
     "text": [
      "Margem de luco foi de 61.54%\n"
     ]
    }
   ],
   "source": [
    "custo = 500\n",
    "faturamento= 1300\n",
    "lucro = faturamento -custo\n",
    "margem= lucro/faturamento\n",
    "print('Margem de luco foi de {:.2%}'.format(margem))"
   ]
  },
  {
   "cell_type": "code",
   "execution_count": 57,
   "id": "2b6667c6-895c-4109-806c-3f2e482c2141",
   "metadata": {},
   "outputs": [
    {
     "name": "stdout",
     "output_type": "stream",
     "text": [
      "Faturamento foi R$ 27,000.00 e lucro foi R$ 22,000.00\n"
     ]
    }
   ],
   "source": [
    "custo = 5000\n",
    "faturamento= 27000\n",
    "lucro = faturamento -custo\n",
    "print('Faturamento foi R$ {:,.2f} e lucro foi R$ {:,.2f}'.format(faturamento,lucro))"
   ]
  },
  {
   "cell_type": "code",
   "execution_count": 58,
   "id": "0fb333c9-c68f-494e-a990-6cd245018b5f",
   "metadata": {},
   "outputs": [
    {
     "name": "stdout",
     "output_type": "stream",
     "text": [
      "R$22.000,00\n"
     ]
    }
   ],
   "source": [
    "lucro_texto= 'R${:_.2f}'.format(lucro)\n",
    "print(lucro_texto.replace('.',',').replace('_','.'))"
   ]
  },
  {
   "cell_type": "code",
   "execution_count": 59,
   "id": "3c3fc4f8-03e3-4174-9986-07beb2f8fe95",
   "metadata": {},
   "outputs": [
    {
     "name": "stdout",
     "output_type": "stream",
     "text": [
      "Imposto sobre o preço é de 15.8\n"
     ]
    }
   ],
   "source": [
    "imposto=0.15758\n",
    "preco=100\n",
    "valor_imposto=round(preco*imposto,1)\n",
    "print('Imposto sobre o preço é de {}'.format(valor_imposto))"
   ]
  },
  {
   "cell_type": "code",
   "execution_count": 60,
   "id": "2f44e75e-4539-4d60-95e1-9a95ed8018fa",
   "metadata": {},
   "outputs": [
    {
     "name": "stdout",
     "output_type": "stream",
     "text": [
      "J\n",
      "o\n",
      "ã\n",
      "o\n"
     ]
    }
   ],
   "source": [
    "nome='João'\n",
    "print(nome[0])\n",
    "print(nome[1])\n",
    "print(nome[2])\n",
    "print(nome[3])"
   ]
  },
  {
   "cell_type": "code",
   "execution_count": 61,
   "id": "7cb4fd8b-2671-4984-b203-91519d1caefd",
   "metadata": {},
   "outputs": [
    {
     "name": "stdout",
     "output_type": "stream",
     "text": [
      "Joã\n"
     ]
    }
   ],
   "source": [
    "nome='João'\n",
    "print(nome[0:3])"
   ]
  },
  {
   "cell_type": "code",
   "execution_count": 63,
   "id": "4a82a269-1036-4b42-a732-9349a0766c06",
   "metadata": {},
   "outputs": [
    {
     "name": "stdout",
     "output_type": "stream",
     "text": [
      "25\n"
     ]
    }
   ],
   "source": [
    "precos='Jan: 25, Fev: 27, Mar: 29'\n",
    "preco_janeiro=precos[5:7]\n",
    "print(preco_janeiro)"
   ]
  },
  {
   "cell_type": "code",
   "execution_count": 64,
   "id": "32ef0dbc-63a5-4bd0-b062-b9975ff71902",
   "metadata": {},
   "outputs": [
    {
     "name": "stdout",
     "output_type": "stream",
     "text": [
      "Jan: 25\n"
     ]
    }
   ],
   "source": [
    "precos='Jan: 25, Fev: 27, Mar: 29'\n",
    "preco_janeiro=precos[:7]\n",
    "print(preco_janeiro)"
   ]
  },
  {
   "cell_type": "code",
   "execution_count": 65,
   "id": "8dfacd1e-a088-4387-9f0f-bf70b69ae010",
   "metadata": {},
   "outputs": [
    {
     "name": "stdout",
     "output_type": "stream",
     "text": [
      "Mar: 29\n"
     ]
    }
   ],
   "source": [
    "precos='Jan: 25, Fev: 27, Mar: 29'\n",
    "preco_janeiro=precos[18:]\n",
    "print(preco_janeiro)"
   ]
  },
  {
   "cell_type": "code",
   "execution_count": 67,
   "id": "b95371a8-e4ea-4844-bc3e-29fd496b15a7",
   "metadata": {},
   "outputs": [
    {
     "name": "stdout",
     "output_type": "stream",
     "text": [
      "27\n",
      "27\n"
     ]
    }
   ],
   "source": [
    "preco_fev=precos[14:16]\n",
    "print(preco_fev)\n",
    "preco_fev2=precos[-11:-9]\n",
    "print(preco_fev2)"
   ]
  },
  {
   "cell_type": "code",
   "execution_count": 68,
   "id": "054bdbc4-25a3-43cb-b062-c69c12c47229",
   "metadata": {},
   "outputs": [
    {
     "name": "stdout",
     "output_type": "stream",
     "text": [
      "1234512347\n"
     ]
    }
   ],
   "source": [
    "codigo='1.2.3.4,5,1,2.3.4,7.9'\n",
    "num_codigos=codigo[0:-1:2]\n",
    "print(num_codigos)"
   ]
  },
  {
   "cell_type": "code",
   "execution_count": null,
   "id": "319996dc-7cc8-4c4d-b5ec-a73e4f2140df",
   "metadata": {},
   "outputs": [],
   "source": []
  }
 ],
 "metadata": {
  "kernelspec": {
   "display_name": "Python 3 (ipykernel)",
   "language": "python",
   "name": "python3"
  },
  "language_info": {
   "codemirror_mode": {
    "name": "ipython",
    "version": 3
   },
   "file_extension": ".py",
   "mimetype": "text/x-python",
   "name": "python",
   "nbconvert_exporter": "python",
   "pygments_lexer": "ipython3",
   "version": "3.12.7"
  }
 },
 "nbformat": 4,
 "nbformat_minor": 5
}
