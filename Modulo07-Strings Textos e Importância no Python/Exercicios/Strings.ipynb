{
 "cells": [
  {
   "cell_type": "markdown",
   "id": "2b04bbea",
   "metadata": {},
   "source": [
    "# Strings\n",
    "\n",
    "<span style=\"color: red;\"><b>Todos os exercícios são feitos partindo-se do pressuposto de que todas as entradas são dadas de forma correta. Casos limite não mencionados no enunciado não são abordados porque não fazem parte do exercício.</b></span>"
   ]
  },
  {
   "cell_type": "markdown",
   "id": "5b1f33b9",
   "metadata": {},
   "source": [
    "#### 1. Tamanho de strings. Faça um programa que leia 2 strings e informe o conteúdo delas seguido do seu comprimento. Informe também se as duas strings possuem o mesmo comprimento e são iguais ou diferentes no conteúdo.\n",
    "<pre>\n",
    "Compara duas strings\n",
    "String 1: Brasil Hexa 2006\n",
    "String 2: Brasil! Hexa 2006!\n",
    "Tamanho de \"Brasil Hexa 2006\": 16 caracteres\n",
    "Tamanho de \"Brasil! Hexa 2006!\": 18 caracteres\n",
    "As duas strings são de tamanhos diferentes.\n",
    "As duas strings possuem conteúdo diferente.\n",
    "</pre>"
   ]
  },
  {
   "cell_type": "code",
   "execution_count": 6,
   "id": "c492b657",
   "metadata": {},
   "outputs": [
    {
     "name": "stdin",
     "output_type": "stream",
     "text": [
      "Digite a primeira palavra Brasil Hexa 2006\n",
      "Digite a segunda palavra Brasil Hexa 2006!\n"
     ]
    },
    {
     "name": "stdout",
     "output_type": "stream",
     "text": [
      "As duas strings são de tamanhos diferentes\n",
      "As duas strings possuem conteúdos diferente\n"
     ]
    }
   ],
   "source": [
    "texto1=input('Digite a primeira palavra')\n",
    "texto2=input('Digite a segunda palavra')\n",
    "\n",
    "len_texto=len(texto1)\n",
    "len_texto2=len(texto2)\n",
    "\n",
    "if len_texto==len_texto2:\n",
    "    print('As duas strings são de tamanhos iguais')\n",
    "else:\n",
    "    print('As duas strings são de tamanhos diferentes')\n",
    "\n",
    "\n",
    "if texto1==texto2:\n",
    "    print('As duas strings possuem o mesmo conteúdo')\n",
    "else:\n",
    "    print('As duas strings possuem conteúdos diferente')"
   ]
  },
  {
   "cell_type": "markdown",
   "id": "c3068a53",
   "metadata": {},
   "source": [
    "#### 2. Valida e corrige número de telefone. Faça um programa que leia um número de telefone, e corrija o número no caso deste conter somente 7 dígitos, acrescentando o '3' na frente. O usuário pode informar o número com ou sem o traço separador.\n",
    "<pre>\n",
    "Valida e corrige número de telefone\n",
    "Telefone: 461-0133\n",
    "Telefone possui 7 dígitos. Vou acrescentar o digito três na frente.\n",
    "Telefone corrigido sem formatação: 34610133\n",
    "Telefone corrigido com formatação: 3461-0133\n",
    "</pre>"
   ]
  },
  {
   "cell_type": "code",
   "execution_count": 15,
   "id": "0308566d",
   "metadata": {},
   "outputs": [
    {
     "name": "stdin",
     "output_type": "stream",
     "text": [
      "Vaçia e corrige número de telefone 4610133\n"
     ]
    },
    {
     "name": "stdout",
     "output_type": "stream",
     "text": [
      "Telefone: 461-0133\n",
      "Telefone possui 7 dígitos. Vou acrescentar o digito três na frente\n",
      "Telefone corrigido sem formatação: 34610133\n",
      "Telefone corrigido com formatação: 3461-0133\n"
     ]
    }
   ],
   "source": [
    "numero=input('Vaçia e corrige número de telefone')\n",
    "print('Telefone: {}'.format(numero[0:3]+'-'+numero[3:]))\n",
    "if len(numero)==7:\n",
    "    print('Telefone possui 7 dígitos. Vou acrescentar o digito três na frente')\n",
    "    numero='3'+numero\n",
    "    print('Telefone corrigido sem formatação: {}'.format(numero))\n",
    "    numero=numero[0:4]+'-'+numero[4:]\n",
    "    print('Telefone corrigido com formatação: {}'.format(numero))"
   ]
  },
  {
   "cell_type": "code",
   "execution_count": null,
   "id": "7f87cccc-6273-41e1-87c4-373f2cf04df2",
   "metadata": {},
   "outputs": [],
   "source": []
  }
 ],
 "metadata": {
  "kernelspec": {
   "display_name": "Python 3 (ipykernel)",
   "language": "python",
   "name": "python3"
  },
  "language_info": {
   "codemirror_mode": {
    "name": "ipython",
    "version": 3
   },
   "file_extension": ".py",
   "mimetype": "text/x-python",
   "name": "python",
   "nbconvert_exporter": "python",
   "pygments_lexer": "ipython3",
   "version": "3.12.7"
  }
 },
 "nbformat": 4,
 "nbformat_minor": 5
}
