{
 "cells": [
  {
   "cell_type": "markdown",
   "id": "ae0cd5b3-d740-496d-a7b1-d5b4587f2a86",
   "metadata": {},
   "source": [
    "----------------------------------------------------------------------Functions no Python----------------------------------------------------"
   ]
  },
  {
   "cell_type": "code",
   "execution_count": 1,
   "id": "4e0bffe1-fb7d-4ba4-a777-99456627d5a9",
   "metadata": {},
   "outputs": [
    {
     "name": "stdin",
     "output_type": "stream",
     "text": [
      "Insira nota 1: 3\n",
      "Insira nota 2: 3\n"
     ]
    },
    {
     "name": "stdout",
     "output_type": "stream",
     "text": [
      "A média das notas é: 3.0\n"
     ]
    }
   ],
   "source": [
    "nota1=input('Insira nota 1:')\n",
    "nota2=input('Insira nota 2:')\n",
    "media=(float(nota1)+float(nota2))/2\n",
    "print('A média das notas é: {}' .format(media))"
   ]
  },
  {
   "cell_type": "code",
   "execution_count": 4,
   "id": "ea5f2a2e-76a3-4dea-9179-38e3011b5194",
   "metadata": {},
   "outputs": [],
   "source": [
    "def calcular_media(nota1,nota2):\n",
    "    media=(float(nota1)+float(nota2))/2\n",
    "    print('A média das notas é: {}' .format(media))"
   ]
  },
  {
   "cell_type": "code",
   "execution_count": 5,
   "id": "ff7693b6-300e-4d71-ac6d-6e691837abf6",
   "metadata": {},
   "outputs": [
    {
     "name": "stdout",
     "output_type": "stream",
     "text": [
      "A média das notas é: 9.5\n"
     ]
    }
   ],
   "source": [
    "calcular_media(9,10)"
   ]
  },
  {
   "cell_type": "markdown",
   "id": "fc1b1f46-bc1d-49e8-bd79-3d807d4e9c76",
   "metadata": {},
   "source": [
    "-----------------------------------------------Retornar um valor na Function=----------------------------------------------------------------------------"
   ]
  },
  {
   "cell_type": "code",
   "execution_count": 6,
   "id": "aed1589b-40f1-4650-a3ef-8da396949408",
   "metadata": {},
   "outputs": [],
   "source": [
    "def calcular_media(nota1,nota2):\n",
    "    media=(float(nota1)+float(nota2))/2\n",
    "    return print('A média das notas é: {}' .format(media))"
   ]
  },
  {
   "cell_type": "code",
   "execution_count": 7,
   "id": "0eef80be-0bd0-4b29-9652-1c0397ef8f8e",
   "metadata": {},
   "outputs": [
    {
     "name": "stdout",
     "output_type": "stream",
     "text": [
      "A média das notas é: 7.5\n"
     ]
    }
   ],
   "source": [
    "calcular_media(10,5)"
   ]
  },
  {
   "cell_type": "markdown",
   "id": "143a1c4d-bcb1-47b5-a5c4-b5c2a1fefd5d",
   "metadata": {},
   "source": [
    "----------------------------------------------------------------Aplicação em um exemplo de argumento----------------------------------------------------"
   ]
  },
  {
   "cell_type": "code",
   "execution_count": 8,
   "id": "f2e1162d-4ad5-4b5a-9756-73e1aaa28fe1",
   "metadata": {},
   "outputs": [
    {
     "name": "stdout",
     "output_type": "stream",
     "text": [
      "Enviar beb1234 para setor de bebidas alcóolicas\n",
      "Enviar beb12093819023 para setor de bebidas alcóolicas\n"
     ]
    }
   ],
   "source": [
    "def ehalcoolico(bebida):\n",
    "    bebida=bebida.upper()\n",
    "    if 'BEB' in bebida:\n",
    "        return True\n",
    "    else:\n",
    "        return False\n",
    "\n",
    "produtos=['beb1234','TFA12314','beb12093819023','tsf1231231','Pop123123123']\n",
    "\n",
    "\n",
    "for produto in produtos:\n",
    "    if ehalcoolico(produto):\n",
    "        print('Enviar {} para setor de bebidas alcóolicas'.format(produto))"
   ]
  },
  {
   "cell_type": "markdown",
   "id": "44ddf809-efc6-4ec8-a771-c759d35ae324",
   "metadata": {},
   "source": [
    "---------------------------------------Varios parametros e tipos de parametros------------------------------------------------------------------------"
   ]
  },
  {
   "cell_type": "code",
   "execution_count": 9,
   "id": "78d53f66-f567-465a-afd5-dddd78c2d811",
   "metadata": {},
   "outputs": [
    {
     "ename": "SyntaxError",
     "evalue": "positional argument follows keyword argument (1559894351.py, line 22)",
     "output_type": "error",
     "traceback": [
      "  \u001b[36mCell\u001b[39m\u001b[36m \u001b[39m\u001b[32mIn[9]\u001b[39m\u001b[32m, line 22\u001b[39m\n\u001b[31m    \u001b[39m\u001b[31mif eh_da_categoria(cod_categoria='BEB',produto):\u001b[39m\n                                                  ^\n\u001b[31mSyntaxError\u001b[39m\u001b[31m:\u001b[39m positional argument follows keyword argument\n"
     ]
    }
   ],
   "source": [
    "def eh_da_categoria(bebida,cod_categoria):\n",
    "    bebida=bebida.upper()\n",
    "    if cod_categoria in bebida:\n",
    "        return True\n",
    "    else:\n",
    "        return False\n",
    "\n",
    "\n",
    "for produto in produtos:\n",
    "    if eh_da_categoria(produto,'BEB'):\n",
    "        print('Enviar {} para setor de bebidas alcóolicas'.format(produto))\n",
    "    else:\n",
    "        print('Enviar {} para setor de bebidas não alcóolicas'.format(produto))\n",
    "\n",
    "for produto in produtos:\n",
    "    if eh_da_categoria(cod_categoria='BEB',bebida=produto):\n",
    "        print('Enviar {} para setor de bebidas alcóolicas'.format(produto))\n",
    "    else:\n",
    "        print('Enviar {} para setor de bebidas não alcóolicas'.format(produto))\n",
    "\n",
    "for produto in produtos:\n",
    "    if eh_da_categoria(cod_categoria='BEB',produto):\n",
    "        print('Enviar {} para setor de bebidas alcóolicas'.format(produto))\n",
    "    else:\n",
    "        print('Enviar {} para setor de bebidas não alcóolicas'.format(produto))"
   ]
  },
  {
   "cell_type": "code",
   "execution_count": 10,
   "id": "1a2d0baf-2d46-4902-8a67-4bffa34a499b",
   "metadata": {},
   "outputs": [
    {
     "name": "stdout",
     "output_type": "stream",
     "text": [
      "Quantidade total de produtos: \n",
      "5\n",
      "texto2\n",
      "texto3\n"
     ]
    }
   ],
   "source": [
    "qtde_produtos=len(produtos)\n",
    "print('Quantidade total de produtos: ',qtde_produtos,'texto2','texto3', sep='\\n')"
   ]
  },
  {
   "cell_type": "markdown",
   "id": "2c193986-43f0-4ba2-a7b9-e6a3749c7543",
   "metadata": {},
   "source": [
    "----------------------------------------------------------------Dicas e Exemplos com Argumentos em Function---------------------------------------------"
   ]
  },
  {
   "cell_type": "code",
   "execution_count": 12,
   "id": "dc11e5bf-3644-42ce-9b29-eb1b0ba7b414",
   "metadata": {},
   "outputs": [
    {
     "name": "stdout",
     "output_type": "stream",
     "text": [
      "BEB12312312\n"
     ]
    }
   ],
   "source": [
    "cod_produto='beb12312312'\n",
    "print(cod_produto.upper())"
   ]
  },
  {
   "cell_type": "code",
   "execution_count": 13,
   "id": "393e0b0e-beff-4af5-aa4f-300249f00669",
   "metadata": {},
   "outputs": [
    {
     "name": "stdout",
     "output_type": "stream",
     "text": [
      "[789, 300, 240, 200, 100, 90, 60, 55, 50, 10]\n"
     ]
    }
   ],
   "source": [
    "vendas_ano=[100,200,50,90,240,300,55,10,789,60]\n",
    "vendas_ano.sort(reverse=True)\n",
    "print(vendas_ano)"
   ]
  },
  {
   "cell_type": "code",
   "execution_count": 14,
   "id": "38dc75d0-b2ea-4331-abbd-aef9c3ed2043",
   "metadata": {},
   "outputs": [
    {
     "name": "stdout",
     "output_type": "stream",
     "text": [
      "[100, 200, 50, 90, 240, 300, 55, 10, 789, 60, 500, 1555]\n"
     ]
    }
   ],
   "source": [
    "vendas_ano=[100,200,50,90,240,300,55,10,789,60]\n",
    "vendas_novdez=[500,1555]\n",
    "vendas_ano.extend(vendas_novdez)\n",
    "print(vendas_ano)"
   ]
  },
  {
   "cell_type": "code",
   "execution_count": 15,
   "id": "db675ac7-f6d8-4bbe-a05a-ada5e3d1f6f3",
   "metadata": {},
   "outputs": [
    {
     "name": "stdout",
     "output_type": "stream",
     "text": [
      "É uma bebida alcóolica\n"
     ]
    }
   ],
   "source": [
    "def eh_da_categoria(bebida,cod_categoria):\n",
    "    bebida=bebida.upper()\n",
    "    if cod_categoria in bebida:\n",
    "        return True\n",
    "    else:\n",
    "        return False\n",
    "\n",
    "if eh_da_categoria(cod_produto,'BEB'):\n",
    "    print('É uma bebida alcóolica')"
   ]
  },
  {
   "cell_type": "markdown",
   "id": "e845f258-246b-4594-ad80-2612142b6288",
   "metadata": {},
   "source": [
    "----------------------------------------------Valores padrões para argumentos--------------------------------------------------------------------"
   ]
  },
  {
   "cell_type": "code",
   "execution_count": 16,
   "id": "36a432a4-2e29-443d-ae75-a9fe47952b1d",
   "metadata": {},
   "outputs": [
    {
     "name": "stdout",
     "output_type": "stream",
     "text": [
      "Ordem crescente\n",
      "[15, 30, 35, 65, 70, 94, 100]\n",
      "Ordem decrescente\n",
      "[100, 94, 70, 65, 35, 30, 15]\n"
     ]
    }
   ],
   "source": [
    "vendas=[100,30,70,94,15,65,35]\n",
    "vendas.sort()\n",
    "print('Ordem crescente')\n",
    "print(vendas)\n",
    "vendas.sort(reverse=True)\n",
    "print('Ordem decrescente')\n",
    "print(vendas)"
   ]
  },
  {
   "cell_type": "code",
   "execution_count": 17,
   "id": "6db29761-8acb-4555-9fc0-9c3b514b510e",
   "metadata": {},
   "outputs": [
    {
     "name": "stdout",
     "output_type": "stream",
     "text": [
      "['abc12', 'abc34', 'abc37']\n"
     ]
    }
   ],
   "source": [
    "def padronizar_codigos(lista_codigos,padrao='m'):\n",
    "    for i, item in enumerate(lista_codigos):\n",
    "        item=item.replace('  ', ' ')\n",
    "        item=item.strip()\n",
    "        if padrao=='m':\n",
    "            item=item.casefold()\n",
    "        elif padrao=='M':\n",
    "            item=item.upper()\n",
    "        lista_codigos[i]=item\n",
    "    return lista_codigos\n",
    "\n",
    "\n",
    "cod_produtos=['ABC12','abc34','AbC37']\n",
    "print(padronizar_codigos(cod_produtos,))     "
   ]
  },
  {
   "cell_type": "code",
   "execution_count": 18,
   "id": "ba154229-7841-406b-8101-c87ead49419e",
   "metadata": {},
   "outputs": [
    {
     "name": "stdout",
     "output_type": "stream",
     "text": [
      "['ABC12', 'ABC34', 'ABC37']\n"
     ]
    }
   ],
   "source": [
    "cod_produtos=['ABC12','abc34','AbC37']\n",
    "print(padronizar_codigos(cod_produtos,padrao='M'))     "
   ]
  },
  {
   "cell_type": "markdown",
   "id": "80bc6f8f-4363-49e5-bc6a-5b09dd3ae78c",
   "metadata": {},
   "source": [
    "------------------------------------------------Return com mais de uma informação---------------------------------------------------------------------"
   ]
  },
  {
   "cell_type": "code",
   "execution_count": 19,
   "id": "441ed8f0-557e-499a-9dbc-fdd3f55626ee",
   "metadata": {},
   "outputs": [
    {
     "name": "stdout",
     "output_type": "stream",
     "text": [
      "(12, 8, 20, 5.0)\n"
     ]
    }
   ],
   "source": [
    "def operacoes_basicas(num1,num2):\n",
    "    soma=num1+num2\n",
    "    diferenca=num1-num2\n",
    "    mult=num1*num2\n",
    "    divisao=num1/num2\n",
    "    return(soma,diferenca,mult,divisao)\n",
    "\n",
    "print(operacoes_basicas(10,2))"
   ]
  },
  {
   "cell_type": "code",
   "execution_count": 22,
   "id": "65f67fb2-0d90-4c67-ac4e-d7dd9b08d76a",
   "metadata": {},
   "outputs": [
    {
     "name": "stdout",
     "output_type": "stream",
     "text": [
      "0.5\n",
      "['Joao', 'Julia', 'Ana']\n"
     ]
    }
   ],
   "source": [
    "meta =10000\n",
    "vendas={\n",
    "    'Joao':15000,\n",
    "    'Julia':27000,\n",
    "    'Marcus':9900,\n",
    "    'Maria':3750,\n",
    "    'Ana':10300,\n",
    "    'Alon':7870,\n",
    "}\n",
    "\n",
    "def calculo_meta(meta,vendas):\n",
    "    bateram_meta=[]\n",
    "    for vendedor in vendas:\n",
    "        if vendas[vendedor]>=meta:\n",
    "            bateram_meta.append(vendedor)\n",
    "    perc_baterammeta=len(bateram_meta)/len(vendas)\n",
    "    return perc_baterammeta, bateram_meta\n",
    "\n",
    "\n",
    "p_meta,vendedores_acima_meta=calculo_meta(meta,vendas)\n",
    "print(p_meta)\n",
    "print(vendedores_acima_meta)"
   ]
  },
  {
   "cell_type": "markdown",
   "id": "b90d67d5-a325-4d82-8a28-6cd5885d1ae5",
   "metadata": {},
   "source": [
    "------------------------------------------------------Docstrings e annotations-------------------------------------------------------------------------"
   ]
  },
  {
   "cell_type": "code",
   "execution_count": 24,
   "id": "390803cf-f2ad-4c34-9159-4d30698bd89d",
   "metadata": {},
   "outputs": [
    {
     "data": {
      "text/plain": [
       "6"
      ]
     },
     "execution_count": 24,
     "metadata": {},
     "output_type": "execute_result"
    }
   ],
   "source": [
    "def minha_funcao(arg1,arg2,arg3):\n",
    "    '''O que minha função faz.\n",
    "    Meus argumentos:\n",
    "    arg1(tipo do meu argumento):Comentário sobre o argumento\n",
    "    arg2(tipo do meu argumento):Comentário sobre o argumento\n",
    "    arg3(tipo do meu argumento):Comentário sobre o argumento\n",
    "\n",
    "    return\n",
    "    O retorno da minha função\n",
    "    '''\n",
    "    soma=arg1+arg2+arg3\n",
    "    return soma\n",
    "\n",
    "minha_funcao(1,2,3)"
   ]
  },
  {
   "cell_type": "code",
   "execution_count": 25,
   "id": "fab76f00-196c-4819-9142-267dba63b969",
   "metadata": {},
   "outputs": [
    {
     "data": {
      "text/plain": [
       "9.1"
      ]
     },
     "execution_count": 25,
     "metadata": {},
     "output_type": "execute_result"
    }
   ],
   "source": [
    "def minha_funcao(arg1:int,arg2:float,arg3:int)->float:\n",
    "\n",
    "    soma=arg1+arg2+arg3\n",
    "    return soma\n",
    "\n",
    "minha_funcao(1,5.1,3)"
   ]
  },
  {
   "cell_type": "markdown",
   "id": "2e614f6d-7b58-46d7-8964-25c3a36e22b0",
   "metadata": {},
   "source": [
    "--------------------------------------------------Exceções e erros em funções--------------------------------------------------------------------------"
   ]
  },
  {
   "cell_type": "code",
   "execution_count": 27,
   "id": "7e1c65ca-8c21-4c6c-bed7-eeeba5f3a9c4",
   "metadata": {},
   "outputs": [
    {
     "name": "stdin",
     "output_type": "stream",
     "text": [
      "Qual o seu e-mail? asdadads\n"
     ]
    },
    {
     "ename": "ValueError",
     "evalue": "Email digitado não tem @, digite novamente",
     "output_type": "error",
     "traceback": [
      "\u001b[31m---------------------------------------------------------------------------\u001b[39m",
      "\u001b[31mValueError\u001b[39m                                Traceback (most recent call last)",
      "\u001b[36mCell\u001b[39m\u001b[36m \u001b[39m\u001b[32mIn[27]\u001b[39m\u001b[32m, line 3\u001b[39m, in \u001b[36mdescobrir_servidor\u001b[39m\u001b[34m(email)\u001b[39m\n\u001b[32m      2\u001b[39m \u001b[38;5;28;01mtry\u001b[39;00m:\n\u001b[32m----> \u001b[39m\u001b[32m3\u001b[39m     posicao_a=\u001b[43memail\u001b[49m\u001b[43m.\u001b[49m\u001b[43mindex\u001b[49m\u001b[43m(\u001b[49m\u001b[33;43m'\u001b[39;49m\u001b[33;43m@\u001b[39;49m\u001b[33;43m'\u001b[39;49m\u001b[43m)\u001b[49m\n\u001b[32m      4\u001b[39m \u001b[38;5;28;01mexcept\u001b[39;00m:\n",
      "\u001b[31mValueError\u001b[39m: substring not found",
      "\nDuring handling of the above exception, another exception occurred:\n",
      "\u001b[31mValueError\u001b[39m                                Traceback (most recent call last)",
      "\u001b[36mCell\u001b[39m\u001b[36m \u001b[39m\u001b[32mIn[27]\u001b[39m\u001b[32m, line 21\u001b[39m\n\u001b[32m     17\u001b[39m             \u001b[38;5;28;01mreturn\u001b[39;00m \u001b[33m'\u001b[39m\u001b[33mnão determinado\u001b[39m\u001b[33m'\u001b[39m\n\u001b[32m     20\u001b[39m email=\u001b[38;5;28minput\u001b[39m(\u001b[33m'\u001b[39m\u001b[33mQual o seu e-mail?\u001b[39m\u001b[33m'\u001b[39m)\n\u001b[32m---> \u001b[39m\u001b[32m21\u001b[39m \u001b[38;5;28mprint\u001b[39m(\u001b[43mdescobrir_servidor\u001b[49m\u001b[43m(\u001b[49m\u001b[43memail\u001b[49m\u001b[43m)\u001b[49m)\n",
      "\u001b[36mCell\u001b[39m\u001b[36m \u001b[39m\u001b[32mIn[27]\u001b[39m\u001b[32m, line 5\u001b[39m, in \u001b[36mdescobrir_servidor\u001b[39m\u001b[34m(email)\u001b[39m\n\u001b[32m      3\u001b[39m     posicao_a=email.index(\u001b[33m'\u001b[39m\u001b[33m@\u001b[39m\u001b[33m'\u001b[39m)\n\u001b[32m      4\u001b[39m \u001b[38;5;28;01mexcept\u001b[39;00m:\n\u001b[32m----> \u001b[39m\u001b[32m5\u001b[39m     \u001b[38;5;28;01mraise\u001b[39;00m \u001b[38;5;167;01mValueError\u001b[39;00m(\u001b[33m'\u001b[39m\u001b[33mEmail digitado não tem @, digite novamente\u001b[39m\u001b[33m'\u001b[39m)\n\u001b[32m      6\u001b[39m \u001b[38;5;28;01melse\u001b[39;00m:\n\u001b[32m      7\u001b[39m     servidor=email[posicao_a:]\n",
      "\u001b[31mValueError\u001b[39m: Email digitado não tem @, digite novamente"
     ]
    }
   ],
   "source": [
    "def descobrir_servidor(email):\n",
    "    try:\n",
    "        posicao_a=email.index('@')\n",
    "    except:\n",
    "        raise ValueError('Email digitado não tem @, digite novamente')\n",
    "    else:\n",
    "        servidor=email[posicao_a:]\n",
    "        if 'gmail' in servidor:\n",
    "            return 'gmail'\n",
    "        elif 'hotmail' in servidor or 'outlook' in servidor or 'live' in servidor:\n",
    "            return 'hotmail'\n",
    "        elif 'yahoo' in servidor:\n",
    "            return 'yeahoo'\n",
    "        elif 'uol' in servidor or 'bol' in servidor:\n",
    "            return 'uol'\n",
    "        else:\n",
    "            return 'não determinado'\n",
    "\n",
    "\n",
    "email=input('Qual o seu e-mail?')\n",
    "print(descobrir_servidor(email))"
   ]
  },
  {
   "cell_type": "markdown",
   "id": "96a45cb6-f045-4fee-b3ea-2d3b662a5cb8",
   "metadata": {},
   "source": [
    "---------------------------------------------Multiplocas Argumentos para uma Function-------------------------------------------------------------------"
   ]
  },
  {
   "cell_type": "code",
   "execution_count": 29,
   "id": "43e5c566-1405-4274-af70-06d30d57e557",
   "metadata": {},
   "outputs": [
    {
     "name": "stdout",
     "output_type": "stream",
     "text": [
      "5.181818181818182\n",
      "5.0\n"
     ]
    }
   ],
   "source": [
    "def calcular_media(*notas):\n",
    "    soma=0\n",
    "    for nota in notas:\n",
    "        soma+=nota\n",
    "    return(soma/len(notas))\n",
    "\n",
    "print(calcular_media(10,0,5,6,1,4,6,7,9,1,8))\n",
    "print(calcular_media(10,0))"
   ]
  },
  {
   "cell_type": "code",
   "execution_count": 31,
   "id": "004c666a-adc2-44dd-b5a6-88044e207e7f",
   "metadata": {},
   "outputs": [
    {
     "name": "stdout",
     "output_type": "stream",
     "text": [
      "{'desconto': 0.1, 'imposto': 0.3}\n",
      "1170.0\n"
     ]
    }
   ],
   "source": [
    "def preco_final(preco,**adicionais):\n",
    "    print(adicionais)\n",
    "    if 'desconto' in adicionais:\n",
    "        preco*=(1-adicionais['desconto'])\n",
    "    if 'garantia_extra' in adicionais:\n",
    "        preco+= adicionais['garantia_extra']\n",
    "    if 'imposto' in adicionais:\n",
    "        preco *= (1+adicionais['imposto'])\n",
    "    return preco\n",
    "\n",
    "print(preco_final(1000,desconto=0.1,imposto=0.3))"
   ]
  },
  {
   "cell_type": "code",
   "execution_count": null,
   "id": "05995135-c8e0-4e83-a253-a9b7f7b5a812",
   "metadata": {},
   "outputs": [],
   "source": []
  }
 ],
 "metadata": {
  "kernelspec": {
   "display_name": "Python 3 (ipykernel)",
   "language": "python",
   "name": "python3"
  },
  "language_info": {
   "codemirror_mode": {
    "name": "ipython",
    "version": 3
   },
   "file_extension": ".py",
   "mimetype": "text/x-python",
   "name": "python",
   "nbconvert_exporter": "python",
   "pygments_lexer": "ipython3",
   "version": "3.12.7"
  }
 },
 "nbformat": 4,
 "nbformat_minor": 5
}
