{
 "cells": [
  {
   "cell_type": "markdown",
   "id": "48489692-feef-41a1-bd32-ae4ec77c21bd",
   "metadata": {},
   "source": [
    "--------------------------------------------------Arrays Numby vs Listas-------------------------------------------------------------------------------"
   ]
  },
  {
   "cell_type": "code",
   "execution_count": 1,
   "id": "b83008d4-5bf8-45f4-a533-38d70fac210a",
   "metadata": {},
   "outputs": [
    {
     "name": "stdout",
     "output_type": "stream",
     "text": [
      "Requirement already satisfied: numpy in c:\\users\\black\\anaconda3\\lib\\site-packages (1.26.4)\n"
     ]
    }
   ],
   "source": [
    "!pip install numpy"
   ]
  },
  {
   "cell_type": "code",
   "execution_count": 2,
   "id": "be451bc9-2e85-47b0-8a86-66363e1d149e",
   "metadata": {},
   "outputs": [],
   "source": [
    "import numpy as np"
   ]
  },
  {
   "cell_type": "code",
   "execution_count": 3,
   "id": "c6e129ce-93e9-493d-8b4c-ed5b5a508d6e",
   "metadata": {},
   "outputs": [
    {
     "name": "stdout",
     "output_type": "stream",
     "text": [
      "[1 2 3 4 5]\n"
     ]
    }
   ],
   "source": [
    "array= np.array([1,2,3,4,5])\n",
    "print(array)"
   ]
  },
  {
   "cell_type": "code",
   "execution_count": 4,
   "id": "e2fd0d4d-8c24-41e2-87e0-794bbbdb4c3e",
   "metadata": {},
   "outputs": [
    {
     "name": "stdout",
     "output_type": "stream",
     "text": [
      "[1, 'dois', 3.0]\n"
     ]
    }
   ],
   "source": [
    "lista =[1,'dois',3.0]\n",
    "print(lista)"
   ]
  },
  {
   "cell_type": "code",
   "execution_count": 5,
   "id": "99f1192f-4777-4cac-a4d4-fe1a6f4a70ca",
   "metadata": {},
   "outputs": [
    {
     "name": "stdout",
     "output_type": "stream",
     "text": [
      "<class 'list'>\n"
     ]
    }
   ],
   "source": [
    "print(type(lista))"
   ]
  },
  {
   "cell_type": "code",
   "execution_count": 6,
   "id": "65029919-aa05-48d2-ac51-911c7758184b",
   "metadata": {},
   "outputs": [
    {
     "name": "stdout",
     "output_type": "stream",
     "text": [
      "<class 'int'>\n",
      "<class 'str'>\n",
      "<class 'float'>\n"
     ]
    }
   ],
   "source": [
    "for elemento in lista:\n",
    "    print(type(elemento))"
   ]
  },
  {
   "cell_type": "code",
   "execution_count": 7,
   "id": "347b9aef-8d1f-4b7e-8105-54438c04a7d3",
   "metadata": {},
   "outputs": [
    {
     "name": "stdout",
     "output_type": "stream",
     "text": [
      "['1' 'dois' '3.0']\n"
     ]
    }
   ],
   "source": [
    "import numpy as np\n",
    "\n",
    "array=np.array(lista)\n",
    "print(array)"
   ]
  },
  {
   "cell_type": "code",
   "execution_count": 8,
   "id": "1e8fb3c0-d3f6-4c6e-a4d8-7f83c1397016",
   "metadata": {},
   "outputs": [
    {
     "name": "stdout",
     "output_type": "stream",
     "text": [
      "<class 'numpy.ndarray'>\n"
     ]
    }
   ],
   "source": [
    "print(type(array))"
   ]
  },
  {
   "cell_type": "code",
   "execution_count": 9,
   "id": "1e9062b4-6080-46be-a8a0-034598ac50d6",
   "metadata": {},
   "outputs": [
    {
     "name": "stdout",
     "output_type": "stream",
     "text": [
      "<U32\n"
     ]
    }
   ],
   "source": [
    "print(array.dtype)"
   ]
  },
  {
   "cell_type": "code",
   "execution_count": 10,
   "id": "df8cb7cf-ee16-454a-822e-179e83009964",
   "metadata": {},
   "outputs": [
    {
     "ename": "TypeError",
     "evalue": "can only concatenate list (not \"int\") to list",
     "output_type": "error",
     "traceback": [
      "\u001b[31m---------------------------------------------------------------------------\u001b[39m",
      "\u001b[31mTypeError\u001b[39m                                 Traceback (most recent call last)",
      "\u001b[36mCell\u001b[39m\u001b[36m \u001b[39m\u001b[32mIn[10]\u001b[39m\u001b[32m, line 2\u001b[39m\n\u001b[32m      1\u001b[39m lista=[\u001b[32m1\u001b[39m,\u001b[32m2\u001b[39m,\u001b[32m3\u001b[39m,\u001b[32m4\u001b[39m,\u001b[32m5\u001b[39m]\n\u001b[32m----> \u001b[39m\u001b[32m2\u001b[39m nova_lista=\u001b[43mlista\u001b[49m\u001b[43m+\u001b[49m\u001b[32;43m1\u001b[39;49m\u001b[38;5;66;03m#isso causara um erro\u001b[39;00m\n\u001b[32m      3\u001b[39m \u001b[38;5;28mprint\u001b[39m(nova_lista)\n",
      "\u001b[31mTypeError\u001b[39m: can only concatenate list (not \"int\") to list"
     ]
    }
   ],
   "source": [
    "lista=[1,2,3,4,5]\n",
    "nova_lista=lista+1#isso causara um erro\n",
    "print(nova_lista)"
   ]
  },
  {
   "cell_type": "code",
   "execution_count": 11,
   "id": "90b8ba8f-6359-451b-ba87-5cd0ab170a27",
   "metadata": {},
   "outputs": [
    {
     "name": "stdout",
     "output_type": "stream",
     "text": [
      "[1, 2, 3, 4, 5, 1]\n"
     ]
    }
   ],
   "source": [
    "print(lista+[1])"
   ]
  },
  {
   "cell_type": "code",
   "execution_count": 12,
   "id": "0d686131-1404-4bf3-9313-4433c051f25f",
   "metadata": {},
   "outputs": [
    {
     "name": "stdout",
     "output_type": "stream",
     "text": [
      "[2, 3, 4, 5, 6]\n"
     ]
    }
   ],
   "source": [
    "nova_lista=[]\n",
    "\n",
    "for numero in lista:\n",
    "    nova_lista.append(numero+1)\n",
    "\n",
    "print(nova_lista)"
   ]
  },
  {
   "cell_type": "code",
   "execution_count": 13,
   "id": "ed748b2e-fb6c-4a6f-b9c9-171771ef8431",
   "metadata": {},
   "outputs": [
    {
     "name": "stdout",
     "output_type": "stream",
     "text": [
      "[2 3 4 5 6]\n"
     ]
    }
   ],
   "source": [
    "import numpy as np\n",
    "\n",
    "array=np.array([1,2,3,4,5])\n",
    "novo_array=array+1 #isso adicionara 1 a todos os elementos\n",
    "print(novo_array)"
   ]
  },
  {
   "cell_type": "code",
   "execution_count": 14,
   "id": "ba36e1ea-6e46-4575-8ed2-08a9dd36e35e",
   "metadata": {},
   "outputs": [
    {
     "name": "stdout",
     "output_type": "stream",
     "text": [
      "Tempo para somar todos os números na lista: 0.06299829483032227 segundos\n",
      "Tempo para somar todos os números na lista: 0.002996206283569336 segundos\n"
     ]
    }
   ],
   "source": [
    "import numpy as np\n",
    "import time\n",
    "#Crie uma lisa e um array com 10 milhçoes de números\n",
    "lista=list(range(1,10_000_001))\n",
    "array= np.array(range(1,10_000_001))\n",
    "\n",
    "#Calcule a soma de todos os numeros na lista\n",
    "inicio=time.time()\n",
    "soma_lista=sum(lista)\n",
    "fim=time.time()\n",
    "print(f'Tempo para somar todos os números na lista: {fim-inicio} segundos')\n",
    "\n",
    "#Calcule a soma de todos os números no array\n",
    "inicio=time.time()\n",
    "soma_array=np.sum(array)\n",
    "fim=time.time()\n",
    "print(f'Tempo para somar todos os números na lista: {fim-inicio} segundos')\n"
   ]
  },
  {
   "cell_type": "markdown",
   "id": "95be8402-0fc7-4408-856a-c8771f410158",
   "metadata": {},
   "source": [
    "--------------------------------------------------Array Explicado-------------------------------------------------------------------------------"
   ]
  },
  {
   "cell_type": "code",
   "execution_count": 16,
   "id": "7b2ea0da-fd92-4506-8e3e-7aee3c30a7d8",
   "metadata": {},
   "outputs": [
    {
     "name": "stdout",
     "output_type": "stream",
     "text": [
      "['a' 'b' 'c' 'd' 'e']\n"
     ]
    }
   ],
   "source": [
    "import numpy as np\n",
    "\n",
    "#Criação de um array\n",
    "\n",
    "array=np.array(['a','b','c','d','e'])\n",
    "print(array)"
   ]
  },
  {
   "cell_type": "code",
   "execution_count": 18,
   "id": "e5713f53-61c3-4b76-bfb7-97fa2774cd59",
   "metadata": {},
   "outputs": [
    {
     "name": "stdout",
     "output_type": "stream",
     "text": [
      "a\n",
      "b\n",
      "c\n",
      "d\n",
      "e\n",
      "e\n"
     ]
    }
   ],
   "source": [
    "print(array[0])\n",
    "print(array[1])\n",
    "print(array[2])\n",
    "print(array[3])\n",
    "print(array[4])\n",
    "print(array[-1])"
   ]
  },
  {
   "cell_type": "code",
   "execution_count": 19,
   "id": "390d2b30-0f6d-4093-a884-320269fdd0c6",
   "metadata": {},
   "outputs": [
    {
     "name": "stdout",
     "output_type": "stream",
     "text": [
      "['b' 'c' 'd']\n",
      "['a' 'b' 'c' 'd']\n",
      "['a' 'b' 'c' 'd']\n"
     ]
    }
   ],
   "source": [
    "print(array[1:4])\n",
    "print(array[0:4])\n",
    "print(array[0:-1])"
   ]
  },
  {
   "cell_type": "code",
   "execution_count": 20,
   "id": "8bf512e5-7c1a-4ffc-8398-5208088d3f95",
   "metadata": {},
   "outputs": [
    {
     "name": "stdout",
     "output_type": "stream",
     "text": [
      "['a' 'c']\n"
     ]
    }
   ],
   "source": [
    "print(array[0:-1:2])"
   ]
  },
  {
   "cell_type": "code",
   "execution_count": 22,
   "id": "f9512230-3dca-42fe-a9e4-3c50db1fe0a4",
   "metadata": {},
   "outputs": [
    {
     "name": "stdout",
     "output_type": "stream",
     "text": [
      "['a' 'c' 'e']\n",
      "['a' 'c' 'e']\n",
      "['a' 'b' 'c' 'd' 'e']\n",
      "['e' 'd' 'c' 'b' 'a']\n"
     ]
    }
   ],
   "source": [
    "print(array[0::2])\n",
    "print(array[::2])\n",
    "print(array[::])\n",
    "print(array[::-1])"
   ]
  },
  {
   "cell_type": "markdown",
   "id": "e9446c24-5898-46bb-9598-6dae01fd3eba",
   "metadata": {},
   "source": [
    "--------------------------------------------------Funções Basicas de Array-------------------------------------------------------------------------------"
   ]
  },
  {
   "cell_type": "code",
   "execution_count": 23,
   "id": "6bdede4f-2cfe-4d9e-b647-ca3a42336a83",
   "metadata": {},
   "outputs": [
    {
     "name": "stdout",
     "output_type": "stream",
     "text": [
      "[22.  27.5 33.  27.5 44. ]\n"
     ]
    }
   ],
   "source": [
    "import numpy as np\n",
    "precos=np.array([20,25,30,25,40])\n",
    "\n",
    "novos_precos=precos*1.10\n",
    "print(novos_precos)"
   ]
  },
  {
   "cell_type": "code",
   "execution_count": 24,
   "id": "6aaf62ac-bd83-4fe1-92b5-694cec43514c",
   "metadata": {},
   "outputs": [
    {
     "name": "stdout",
     "output_type": "stream",
     "text": [
      "1180\n"
     ]
    }
   ],
   "source": [
    "import numpy as np\n",
    "vendas=np.array([200,220,250,210,300])\n",
    "\n",
    "total_vendas=np.sum(vendas)\n",
    "print(total_vendas)"
   ]
  },
  {
   "cell_type": "code",
   "execution_count": 25,
   "id": "2ee7e1ff-43be-48bd-8d24-d9dbf52beacc",
   "metadata": {},
   "outputs": [
    {
     "name": "stdout",
     "output_type": "stream",
     "text": [
      "236.0\n",
      "A média de vendas foi de R$236.00\n"
     ]
    }
   ],
   "source": [
    "import numpy as np\n",
    "vendas=np.array([200,220,250,210,300])\n",
    "\n",
    "media_vendas=np.mean(vendas)\n",
    "print(media_vendas)\n",
    "print(f'A média de vendas foi de R${media_vendas:.2f}')"
   ]
  },
  {
   "cell_type": "code",
   "execution_count": 26,
   "id": "27f851d7-a318-4e68-9254-75eacfa07a07",
   "metadata": {},
   "outputs": [
    {
     "name": "stdout",
     "output_type": "stream",
     "text": [
      "40 20\n",
      "Produto mais caro: 40\n",
      "Produto mais barato: 20\n"
     ]
    }
   ],
   "source": [
    "import numpy as np\n",
    "precos=np.array([20,25,30,25,40])\n",
    "\n",
    "produto_mais_caro=np.max(precos)\n",
    "produto_mais_barato=np.min(precos)\n",
    "print(produto_mais_caro,produto_mais_barato)\n",
    "print(f'Produto mais caro: {produto_mais_caro}')\n",
    "print(f'Produto mais barato: {produto_mais_barato}')"
   ]
  },
  {
   "cell_type": "code",
   "execution_count": 27,
   "id": "29849ec7-4196-4d83-b94b-eafd7b21dedf",
   "metadata": {},
   "outputs": [
    {
     "name": "stdout",
     "output_type": "stream",
     "text": [
      "[200 210 220 250 300]\n"
     ]
    }
   ],
   "source": [
    "import numpy as np\n",
    "vendas=np.array([200,220,250,210,300])\n",
    "\n",
    "vendas_ordenadas=np.sort(vendas)\n",
    "print(vendas_ordenadas)"
   ]
  },
  {
   "cell_type": "code",
   "execution_count": 30,
   "id": "b34eb3cf-5dfa-461a-8f5e-8d992e84ac31",
   "metadata": {},
   "outputs": [
    {
     "name": "stdout",
     "output_type": "stream",
     "text": [
      "[ 50 200 450 800]\n",
      "1500\n"
     ]
    }
   ],
   "source": [
    "import numpy as np\n",
    "\n",
    "quantidades= np.array([10,20,30,40])\n",
    "\n",
    "precos=np.array([5,10,15,20])\n",
    "\n",
    "print(quantidades*precos)\n",
    "print(np.sum(quantidades*precos))"
   ]
  },
  {
   "cell_type": "code",
   "execution_count": 31,
   "id": "f88f1f06-b350-4c02-8fc2-218d07381367",
   "metadata": {},
   "outputs": [
    {
     "name": "stdout",
     "output_type": "stream",
     "text": [
      "1500\n"
     ]
    }
   ],
   "source": [
    "total_vendas=np.dot(quantidades,precos)\n",
    "print(total_vendas)"
   ]
  },
  {
   "cell_type": "markdown",
   "id": "a59e9ee6-4540-4413-966e-ba2737eee83e",
   "metadata": {},
   "source": [
    "--------------------------------------------------Aleatoris e Estatisticas-------------------------------------------------------------------------------"
   ]
  },
  {
   "cell_type": "code",
   "execution_count": 32,
   "id": "24d0076f-ad6e-4c90-9ad0-e9360f2bb0a6",
   "metadata": {},
   "outputs": [
    {
     "name": "stdout",
     "output_type": "stream",
     "text": [
      "0.5182470467782622\n"
     ]
    }
   ],
   "source": [
    "import numpy as np\n",
    "\n",
    "rng=np.random.default_rng()\n",
    "\n",
    "numero_aleatorio=rng.random()\n",
    "print(numero_aleatorio)"
   ]
  },
  {
   "cell_type": "code",
   "execution_count": 33,
   "id": "adc587ae-993b-4e57-9c84-a01b11904fb9",
   "metadata": {},
   "outputs": [
    {
     "name": "stdout",
     "output_type": "stream",
     "text": [
      "8.422323070891624\n"
     ]
    }
   ],
   "source": [
    "numero_aleatorio=rng.random()*10\n",
    "print(numero_aleatorio)"
   ]
  },
  {
   "cell_type": "code",
   "execution_count": 36,
   "id": "dcd94128-40be-42a2-9378-6cbf142ff39e",
   "metadata": {},
   "outputs": [
    {
     "name": "stdout",
     "output_type": "stream",
     "text": [
      "[0.08640562 0.98640108 0.90098257]\n"
     ]
    }
   ],
   "source": [
    "array_aleatorio=rng.random(3)\n",
    "print(array_aleatorio)"
   ]
  },
  {
   "cell_type": "code",
   "execution_count": 37,
   "id": "8a189a48-6375-4322-937d-513db6b7eca8",
   "metadata": {},
   "outputs": [
    {
     "name": "stdout",
     "output_type": "stream",
     "text": [
      "[0.86405618 9.86401078 9.00982569]\n"
     ]
    }
   ],
   "source": [
    "print(array_aleatorio*10)"
   ]
  },
  {
   "cell_type": "code",
   "execution_count": 38,
   "id": "f92163a0-7cdb-4692-9cfe-4efdaf300239",
   "metadata": {},
   "outputs": [
    {
     "name": "stdout",
     "output_type": "stream",
     "text": [
      "[ 63 166 148 115 114 178  62 154  80  64 128 196 160 164 157 167 126  69\n",
      " 175 117 125 105  77 189 167 146 110 173 131 116]\n"
     ]
    }
   ],
   "source": [
    "rng=np.random.default_rng(seed=42)\n",
    "dados_vendas=rng.integers(low=50, high=200, size=30)\n",
    "print(dados_vendas)"
   ]
  },
  {
   "cell_type": "code",
   "execution_count": 40,
   "id": "badde231-f5ec-4443-b989-8089ce5d95b9",
   "metadata": {},
   "outputs": [
    {
     "name": "stdout",
     "output_type": "stream",
     "text": [
      "O dia com as vendas mais altas foi o dia 12 com 196 vendas\n"
     ]
    }
   ],
   "source": [
    "vendas_maximas=np.max(dados_vendas)\n",
    "dia_vendas_maximas=np.argmax(dados_vendas)+1\n",
    "print(f'O dia com as vendas mais altas foi o dia {dia_vendas_maximas} com {vendas_maximas} vendas')"
   ]
  },
  {
   "cell_type": "code",
   "execution_count": 41,
   "id": "d594d907-4b7f-4b66-ab13-8a2eb28e10cf",
   "metadata": {},
   "outputs": [
    {
     "name": "stdout",
     "output_type": "stream",
     "text": [
      "O dia com as vendas mais baixas foi o dia 12 com 62 vendas\n"
     ]
    }
   ],
   "source": [
    "vendas_minimas=np.min(dados_vendas)\n",
    "dia_vendas_minimas=np.argmax(dados_vendas)+1\n",
    "print(f'O dia com as vendas mais baixas foi o dia {dia_vendas_minimas} com {vendas_minimas} vendas')"
   ]
  },
  {
   "cell_type": "code",
   "execution_count": 42,
   "id": "8419fe94-df6c-4338-ab42-a9542f447ed9",
   "metadata": {},
   "outputs": [
    {
     "name": "stdout",
     "output_type": "stream",
     "text": [
      "A média de vendas durante o mês foi de 131.4 vendas por dia.\n"
     ]
    }
   ],
   "source": [
    "media_vendas=np.mean(dados_vendas)\n",
    "print(f'A média de vendas durante o mês foi de {media_vendas} vendas por dia.')"
   ]
  },
  {
   "cell_type": "code",
   "execution_count": 43,
   "id": "c7783234-32f6-442a-be9d-6cc3d9b3cfa9",
   "metadata": {},
   "outputs": [
    {
     "name": "stdout",
     "output_type": "stream",
     "text": [
      "129.5\n"
     ]
    }
   ],
   "source": [
    "#Mediana\n",
    "print(np.median(dados_vendas))"
   ]
  },
  {
   "cell_type": "code",
   "execution_count": 44,
   "id": "523a73c6-4f6d-4bad-b92e-54ccbde9d9de",
   "metadata": {},
   "outputs": [
    {
     "name": "stdout",
     "output_type": "stream",
     "text": [
      "129.5\n"
     ]
    }
   ],
   "source": [
    "#percentil\n",
    "print(np.percentile(dados_vendas, 50))"
   ]
  },
  {
   "cell_type": "code",
   "execution_count": 45,
   "id": "d67b724a-540a-45c3-9a53-46448b31d7fc",
   "metadata": {},
   "outputs": [
    {
     "name": "stdout",
     "output_type": "stream",
     "text": [
      "39.305300745149715\n"
     ]
    }
   ],
   "source": [
    "#Desvio padrão\n",
    "print(np.std(dados_vendas))"
   ]
  },
  {
   "cell_type": "code",
   "execution_count": 46,
   "id": "7211df1e-1d9c-4189-a5b0-7a7a38d31478",
   "metadata": {},
   "outputs": [
    {
     "name": "stdout",
     "output_type": "stream",
     "text": [
      "1544.9066666666665\n"
     ]
    }
   ],
   "source": [
    "#Variância\n",
    "print(np.var(dados_vendas))"
   ]
  },
  {
   "cell_type": "markdown",
   "id": "a1940d3e-dc94-4ff6-8ea4-ccc22e278d7a",
   "metadata": {},
   "source": [
    "--------------------------------------------------Where no Numpy-------------------------------------------------------------------------------"
   ]
  },
  {
   "cell_type": "code",
   "execution_count": 48,
   "id": "fe755ec5-09bb-4306-91e1-b6a24445fe03",
   "metadata": {},
   "outputs": [
    {
     "name": "stdout",
     "output_type": "stream",
     "text": [
      "3714.285714285714\n"
     ]
    }
   ],
   "source": [
    "import numpy as np\n",
    "\n",
    "salarios = np.array([3000,3500,4000,2000,4500,4000,5000])\n",
    "\n",
    "#calcular a média salarial\n",
    "media_salarial=np.mean(salarios)\n",
    "\n",
    "print(media_salarial)"
   ]
  },
  {
   "cell_type": "code",
   "execution_count": 49,
   "id": "897a2753-8d69-4434-a074-630e90601ce8",
   "metadata": {},
   "outputs": [
    {
     "name": "stdout",
     "output_type": "stream",
     "text": [
      "(array([2, 4, 5, 6], dtype=int64),)\n"
     ]
    }
   ],
   "source": [
    "#INdentificar funcionarios com salarios acima da media\n",
    "funcionarios_acima_media=np.where(salarios>media_salarial)\n",
    "print(funcionarios_acima_media)"
   ]
  },
  {
   "cell_type": "code",
   "execution_count": 50,
   "id": "8d92f261-e3f7-4911-b7a9-19a59def3f5a",
   "metadata": {},
   "outputs": [
    {
     "name": "stdout",
     "output_type": "stream",
     "text": [
      "[4000 4500 4000 5000]\n"
     ]
    }
   ],
   "source": [
    "print(salarios[funcionarios_acima_media])"
   ]
  },
  {
   "cell_type": "code",
   "execution_count": 51,
   "id": "7aed54f2-082a-40d7-9b73-f125ff9b30a0",
   "metadata": {},
   "outputs": [
    {
     "name": "stdout",
     "output_type": "stream",
     "text": [
      "[False False  True False  True  True  True]\n"
     ]
    }
   ],
   "source": [
    "print(salarios>media_salarial)"
   ]
  },
  {
   "cell_type": "code",
   "execution_count": 52,
   "id": "c6e8b6cc-9995-4702-80f2-acb05d446e88",
   "metadata": {},
   "outputs": [
    {
     "name": "stdout",
     "output_type": "stream",
     "text": [
      "[4000 4500 4000 5000]\n"
     ]
    }
   ],
   "source": [
    "print(salarios[salarios>media_salarial])"
   ]
  },
  {
   "cell_type": "code",
   "execution_count": 53,
   "id": "b34f8ed4-383e-47d0-81a5-f57ceac516a6",
   "metadata": {},
   "outputs": [
    {
     "name": "stdout",
     "output_type": "stream",
     "text": [
      "['abaixo da média' 'abaixo da média' 'acima da média' 'abaixo da média'\n",
      " 'acima da média' 'acima da média' 'acima da média']\n"
     ]
    }
   ],
   "source": [
    "print(np.where(salarios>media_salarial,'acima da média','abaixo da média'))"
   ]
  },
  {
   "cell_type": "code",
   "execution_count": 54,
   "id": "840d210a-6614-4f55-9c2b-331eeb74a86a",
   "metadata": {},
   "outputs": [
    {
     "name": "stdout",
     "output_type": "stream",
     "text": [
      "[3000 3500 4000 2000 4500 4000 5000]\n",
      "[3300. 3850. 4000. 2200. 4500. 4000. 5000.]\n"
     ]
    }
   ],
   "source": [
    "#dar bonus de 10% para os funcionarios com salarios abaixo da media\n",
    "salarios_bonus=np.where(salarios<media_salarial,salarios*1.1,salarios)\n",
    "print(salarios)\n",
    "print(salarios_bonus)"
   ]
  },
  {
   "cell_type": "code",
   "execution_count": 55,
   "id": "b56f6136-24e2-4ae9-8593-912e054321d4",
   "metadata": {},
   "outputs": [
    {
     "name": "stdout",
     "output_type": "stream",
     "text": [
      "(array([0, 1, 2, 4, 5], dtype=int64),)\n"
     ]
    }
   ],
   "source": [
    "print(np.where((salarios>=3000) & (salarios<=4500)))"
   ]
  },
  {
   "cell_type": "code",
   "execution_count": 57,
   "id": "b98dc25f-e7d1-48b6-a13d-a6c9a0695a27",
   "metadata": {},
   "outputs": [
    {
     "name": "stdout",
     "output_type": "stream",
     "text": [
      "[3150. 3675. 4200. 2000. 4725. 4200. 5000.]\n"
     ]
    }
   ],
   "source": [
    "salarios_ajustados=np.where((salarios>=3000) & (salarios<=4500), salarios*1.05, salarios)\n",
    "print(salarios_ajustados)"
   ]
  },
  {
   "cell_type": "code",
   "execution_count": 58,
   "id": "9d6b6661-753e-4f07-afb2-689f2e854d24",
   "metadata": {},
   "outputs": [
    {
     "name": "stdout",
     "output_type": "stream",
     "text": [
      "(array([3, 4, 6], dtype=int64),)\n"
     ]
    }
   ],
   "source": [
    "print(np.where((salarios_ajustados<3000) | (salarios_ajustados>4500)))"
   ]
  },
  {
   "cell_type": "code",
   "execution_count": 59,
   "id": "eb0ef6d7-a075-4f41-8bc6-1538f6bdb37e",
   "metadata": {},
   "outputs": [
    {
     "name": "stdout",
     "output_type": "stream",
     "text": [
      "[3150. 3675. 4200. 2200. 4725. 4200. 5500.]\n"
     ]
    }
   ],
   "source": [
    "salarios_ajustados=np.where((salarios<3000) | (salarios>4500), salarios_ajustados*1.1, salarios_ajustados)\n",
    "print(salarios_ajustados)"
   ]
  },
  {
   "cell_type": "markdown",
   "id": "2289387d-96c0-4e43-8918-97a583426a45",
   "metadata": {},
   "source": [
    "--------------------------------------------------Reshape-------------------------------------------------------------------------------"
   ]
  },
  {
   "cell_type": "code",
   "execution_count": 61,
   "id": "d297d264-4c0e-41fa-8dd4-3b2761a3808d",
   "metadata": {},
   "outputs": [
    {
     "name": "stdout",
     "output_type": "stream",
     "text": [
      "[[200 220 250 210 300 280 230]\n",
      " [210 220 240 230 210 280 220]]\n"
     ]
    }
   ],
   "source": [
    "import numpy as np\n",
    "\n",
    "vendas=np.array([200,220,250,210,300,280,230,210,220,240,230,210,280,220])\n",
    "\n",
    "vendas_reshaped=np.reshape(vendas,(2,7))\n",
    "print(vendas_reshaped)"
   ]
  },
  {
   "cell_type": "code",
   "execution_count": 62,
   "id": "90857679-da23-4f1d-9d88-5bb8567e1577",
   "metadata": {},
   "outputs": [
    {
     "name": "stdout",
     "output_type": "stream",
     "text": [
      "1\n"
     ]
    }
   ],
   "source": [
    "#retorna o numero de dimensões\n",
    "print(vendas.ndim)"
   ]
  },
  {
   "cell_type": "code",
   "execution_count": 63,
   "id": "401ad0f5-eb32-4016-b9f3-bf5e806b8982",
   "metadata": {},
   "outputs": [
    {
     "name": "stdout",
     "output_type": "stream",
     "text": [
      "(14,)\n"
     ]
    }
   ],
   "source": [
    "#retorna a quantidade de elementos em cada tupla\n",
    "print(vendas.shape)"
   ]
  },
  {
   "cell_type": "code",
   "execution_count": 64,
   "id": "d98a581f-8c1e-475d-b867-50810f877654",
   "metadata": {},
   "outputs": [
    {
     "name": "stdout",
     "output_type": "stream",
     "text": [
      "2\n",
      "(2, 7)\n"
     ]
    }
   ],
   "source": [
    "print(vendas_reshaped.ndim)\n",
    "print(vendas_reshaped.shape)"
   ]
  },
  {
   "cell_type": "code",
   "execution_count": 65,
   "id": "c2242e17-6cfb-4e43-801c-4abfac42c849",
   "metadata": {},
   "outputs": [
    {
     "name": "stdout",
     "output_type": "stream",
     "text": [
      "[[200 220 250 210 300 280 230]\n",
      " [210 220 240 230 210 280 220]]\n"
     ]
    }
   ],
   "source": [
    "print(vendas_reshaped)"
   ]
  },
  {
   "cell_type": "code",
   "execution_count": 66,
   "id": "862351fc-d9ba-434c-8bf1-3e468dc632cc",
   "metadata": {},
   "outputs": [
    {
     "name": "stdout",
     "output_type": "stream",
     "text": [
      "[200 220 250 210 300 280 230]\n"
     ]
    }
   ],
   "source": [
    "print(vendas_reshaped[0])"
   ]
  },
  {
   "cell_type": "code",
   "execution_count": 67,
   "id": "7a454215-ca80-4aa0-95dc-c3caa5d90a91",
   "metadata": {},
   "outputs": [
    {
     "name": "stdout",
     "output_type": "stream",
     "text": [
      "[210 220 240 230 210 280 220]\n"
     ]
    }
   ],
   "source": [
    "print(vendas_reshaped[1])"
   ]
  },
  {
   "cell_type": "code",
   "execution_count": 68,
   "id": "0816583d-f2ba-4819-8151-46db4294828f",
   "metadata": {},
   "outputs": [
    {
     "name": "stdout",
     "output_type": "stream",
     "text": [
      "200\n",
      "220\n",
      "210\n",
      "280\n"
     ]
    }
   ],
   "source": [
    "print(vendas_reshaped[0][0])\n",
    "print(vendas_reshaped[0][1])\n",
    "print(vendas_reshaped[1][0])\n",
    "print(vendas_reshaped[1][5])"
   ]
  },
  {
   "cell_type": "code",
   "execution_count": 69,
   "id": "46c00f03-4f63-4b87-be62-fdf8eba59682",
   "metadata": {},
   "outputs": [
    {
     "name": "stdout",
     "output_type": "stream",
     "text": [
      "3300\n"
     ]
    }
   ],
   "source": [
    "print(vendas_reshaped.sum())"
   ]
  },
  {
   "cell_type": "code",
   "execution_count": 70,
   "id": "44939b41-1aa6-42e6-9cbb-6815805d9d05",
   "metadata": {},
   "outputs": [
    {
     "name": "stdout",
     "output_type": "stream",
     "text": [
      "[410 440 490 440 510 560 450]\n"
     ]
    }
   ],
   "source": [
    "#soma os elementos da primeira linha com a segunda\n",
    "print(vendas_reshaped.sum(axis=0))"
   ]
  },
  {
   "cell_type": "code",
   "execution_count": 72,
   "id": "aecc7197-5e92-44ee-a03f-e80de0f164fc",
   "metadata": {},
   "outputs": [
    {
     "name": "stdout",
     "output_type": "stream",
     "text": [
      "[1690 1610]\n"
     ]
    }
   ],
   "source": [
    "#soma os elementos da primeira linha e soma os elementos da segunda\n",
    "print(vendas_reshaped.sum(axis=1))"
   ]
  },
  {
   "cell_type": "code",
   "execution_count": 73,
   "id": "4586344a-a8d8-46cd-bd3a-afb50fb7d4c9",
   "metadata": {},
   "outputs": [
    {
     "name": "stdout",
     "output_type": "stream",
     "text": [
      "[241.42857143 230.        ]\n"
     ]
    }
   ],
   "source": [
    "print(vendas_reshaped.mean(axis=1))"
   ]
  },
  {
   "cell_type": "code",
   "execution_count": null,
   "id": "07a27f43-1a03-4711-85e4-dec362abde92",
   "metadata": {},
   "outputs": [],
   "source": []
  }
 ],
 "metadata": {
  "kernelspec": {
   "display_name": "Python 3 (ipykernel)",
   "language": "python",
   "name": "python3"
  },
  "language_info": {
   "codemirror_mode": {
    "name": "ipython",
    "version": 3
   },
   "file_extension": ".py",
   "mimetype": "text/x-python",
   "name": "python",
   "nbconvert_exporter": "python",
   "pygments_lexer": "ipython3",
   "version": "3.12.7"
  }
 },
 "nbformat": 4,
 "nbformat_minor": 5
}
