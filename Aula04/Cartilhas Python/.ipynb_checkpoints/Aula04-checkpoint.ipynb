{
 "cells": [
  {
   "cell_type": "markdown",
   "id": "600f0c65-e425-4797-bd7c-06711a8c487f",
   "metadata": {},
   "source": [
    "#PRIMEIRA VEZ USANDO O JUPYTER"
   ]
  },
  {
   "cell_type": "code",
   "execution_count": 31,
   "id": "371792c6-6a8c-48f5-9c71-1d5b829679dc",
   "metadata": {},
   "outputs": [
    {
     "name": "stdout",
     "output_type": "stream",
     "text": [
      "Meu primeiro código em python. Usando 2 aspas\n",
      "Meu primeiro código em python. Usando 1 aspa\n",
      "Os 2 jeitos funcionam\n",
      "Mas sem as aspas não funciona!\n",
      "Se colocar o print=também não vai funcionar!!\n",
      "123\n",
      "Com número também funciona\n"
     ]
    }
   ],
   "source": [
    "print(\"Meu primeiro código em python. Usando 2 aspas\")\n",
    "print('Meu primeiro código em python. Usando 1 aspa')\n",
    "print('Os 2 jeitos funcionam')\n",
    "print('Mas sem as aspas não funciona!')\n",
    "print('Se colocar o print=também não vai funcionar!!')\n",
    "print(123)\n",
    "print('Com número também funciona')"
   ]
  },
  {
   "cell_type": "code",
   "execution_count": 32,
   "id": "991445f8-f34b-448c-9896-ec1cca2b3a87",
   "metadata": {},
   "outputs": [
    {
     "name": "stdout",
     "output_type": "stream",
     "text": [
      "1+1\n",
      "para operações que só contenham números as aspas não são necessárias\n",
      "2\n",
      "0\n",
      "3.5\n",
      "6\n",
      "9\n",
      "1\n"
     ]
    }
   ],
   "source": [
    "print('1+1')\n",
    "print('para operações que só contenham números as aspas não são necessárias')\n",
    "print(1+1)\n",
    "print(1-1)\n",
    "print(7/2)\n",
    "print(3*2)\n",
    "print(3**2)\n",
    "print(7%2)"
   ]
  },
  {
   "cell_type": "code",
   "execution_count": 33,
   "id": "d1e8429a-d79c-41a9-86ab-06a10f7cb4f5",
   "metadata": {},
   "outputs": [
    {
     "name": "stdout",
     "output_type": "stream",
     "text": [
      "20\n",
      "5.0\n",
      "5.0\n",
      "5.0\n",
      "5.0\n"
     ]
    }
   ],
   "source": [
    "print(10*2)\n",
    "print(10/2)\n",
    "print(10.0/2)\n",
    "print(10/2.0)\n",
    "print(10.0/2.0)"
   ]
  },
  {
   "cell_type": "code",
   "execution_count": 34,
   "id": "697eafb0-1546-4f8b-a2fe-fcaf1592ee2d",
   "metadata": {},
   "outputs": [
    {
     "name": "stdout",
     "output_type": "stream",
     "text": [
      "5.0\n"
     ]
    },
    {
     "ename": "ZeroDivisionError",
     "evalue": "division by zero",
     "output_type": "error",
     "traceback": [
      "\u001b[31m---------------------------------------------------------------------------\u001b[39m",
      "\u001b[31mZeroDivisionError\u001b[39m                         Traceback (most recent call last)",
      "\u001b[36mCell\u001b[39m\u001b[36m \u001b[39m\u001b[32mIn[34]\u001b[39m\u001b[32m, line 2\u001b[39m\n\u001b[32m      1\u001b[39m \u001b[38;5;28mprint\u001b[39m(\u001b[32m10\u001b[39m/\u001b[32m2\u001b[39m)\n\u001b[32m----> \u001b[39m\u001b[32m2\u001b[39m \u001b[38;5;28mprint\u001b[39m(\u001b[32;43m10\u001b[39;49m\u001b[43m/\u001b[49m\u001b[32;43m0\u001b[39;49m)\n",
      "\u001b[31mZeroDivisionError\u001b[39m: division by zero"
     ]
    }
   ],
   "source": [
    "print(10/2)\n",
    "print(10/0)"
   ]
  },
  {
   "cell_type": "code",
   "execution_count": null,
   "id": "4ea4be95-5e9d-4d71-a572-17252bf2d85a",
   "metadata": {},
   "outputs": [],
   "source": [
    "print(10*2+5)\n",
    "print(10*(2+5))"
   ]
  },
  {
   "cell_type": "code",
   "execution_count": null,
   "id": "2d3a3f15-278e-4bee-9878-5ea569d1d1ef",
   "metadata": {},
   "outputs": [],
   "source": [
    "print('Daniel')\n",
    "print('Candiotto')\n",
    "print('Daniel'+'Candiotto')\n",
    "print('Daniel', 'Candiotto')"
   ]
  },
  {
   "cell_type": "code",
   "execution_count": null,
   "id": "dd75222e-6ee3-469f-929a-0fcc9eb1f88a",
   "metadata": {},
   "outputs": [],
   "source": [
    "'D' in 'Daniel'"
   ]
  },
  {
   "cell_type": "code",
   "execution_count": null,
   "id": "9038fc8f-9748-4430-8d49-34d8963eb145",
   "metadata": {},
   "outputs": [],
   "source": [
    "'Da' in 'Daniel'"
   ]
  },
  {
   "cell_type": "code",
   "execution_count": null,
   "id": "b3b7c192-58e5-4dca-bd4b-efe5a65b8be5",
   "metadata": {},
   "outputs": [],
   "source": [
    "'J' in 'Daniel'"
   ]
  },
  {
   "cell_type": "code",
   "execution_count": null,
   "id": "b9bc8a82-b502-42c6-9bfe-52819b286d74",
   "metadata": {},
   "outputs": [],
   "source": [
    "'d' in 'Daniel'"
   ]
  },
  {
   "cell_type": "code",
   "execution_count": null,
   "id": "2f87bfd2-1ab8-4efd-914f-e55cf21bb0f4",
   "metadata": {},
   "outputs": [],
   "source": [
    "nota1=10\n",
    "nota2=9.5\n",
    "nota3=9\n",
    "media_geral=((nota1+nota2+nota3)/3)\n",
    "print(media_geral)"
   ]
  },
  {
   "cell_type": "code",
   "execution_count": null,
   "id": "27b28e40-49e9-4540-98db-5129fb5a70b7",
   "metadata": {},
   "outputs": [],
   "source": [
    "nota1=5\n",
    "nota2=5.5\n",
    "nota3=6\n",
    "media_geral=((nota1+nota2+nota3)/3)\n",
    "print(media_geral)"
   ]
  },
  {
   "cell_type": "code",
   "execution_count": null,
   "id": "752c9d26-6a81-4a83-9738-cb157ac6e03f",
   "metadata": {},
   "outputs": [],
   "source": [
    "faturamento=100\n",
    "custo=60"
   ]
  },
  {
   "cell_type": "code",
   "execution_count": 35,
   "id": "aa981bff-6fdc-432e-af66-1caf2d89bbf6",
   "metadata": {},
   "outputs": [
    {
     "name": "stdout",
     "output_type": "stream",
     "text": [
      "40\n"
     ]
    }
   ],
   "source": [
    "lucro=faturamento-custo\n",
    "print(lucro)"
   ]
  },
  {
   "cell_type": "code",
   "execution_count": 36,
   "id": "9c6c8b6a-e51d-44a4-a930-3d1ff40c0c63",
   "metadata": {},
   "outputs": [
    {
     "name": "stdin",
     "output_type": "stream",
     "text": [
      "Qual o seu nome? Lucas\n"
     ]
    },
    {
     "data": {
      "text/plain": [
       "'Lucas'"
      ]
     },
     "execution_count": 36,
     "metadata": {},
     "output_type": "execute_result"
    }
   ],
   "source": [
    "input(\"Qual o seu nome?\")"
   ]
  },
  {
   "cell_type": "code",
   "execution_count": 39,
   "id": "e7e1799d-4afd-4d67-9ca7-87c00d0ffa97",
   "metadata": {},
   "outputs": [
    {
     "name": "stdin",
     "output_type": "stream",
     "text": [
      "Qual o seu nome? asdadsadasdasd\n"
     ]
    }
   ],
   "source": [
    "nome=input('Qual o seu nome?')"
   ]
  },
  {
   "cell_type": "code",
   "execution_count": 40,
   "id": "17564be9-49e2-44c7-aeb9-fba773b2f058",
   "metadata": {},
   "outputs": [
    {
     "name": "stdout",
     "output_type": "stream",
     "text": [
      "asdadsadasdasd\n"
     ]
    }
   ],
   "source": [
    "print(nome)"
   ]
  },
  {
   "cell_type": "code",
   "execution_count": 41,
   "id": "c651bf19-3f9a-4b71-be56-956be0052226",
   "metadata": {},
   "outputs": [
    {
     "name": "stdin",
     "output_type": "stream",
     "text": [
      "Insira o faturamentno da empresa 1000\n",
      "Insira o custo da empresa 20000\n"
     ]
    }
   ],
   "source": [
    "faturamento=input('Insira o faturamentno da empresa')\n",
    "custo=input('Insira o custo da empresa')"
   ]
  },
  {
   "cell_type": "code",
   "execution_count": null,
   "id": "f5f765eb-4e52-493e-b99d-fef9203e53d8",
   "metadata": {},
   "outputs": [],
   "source": []
  }
 ],
 "metadata": {
  "kernelspec": {
   "display_name": "Python 3 (ipykernel)",
   "language": "python",
   "name": "python3"
  },
  "language_info": {
   "codemirror_mode": {
    "name": "ipython",
    "version": 3
   },
   "file_extension": ".py",
   "mimetype": "text/x-python",
   "name": "python",
   "nbconvert_exporter": "python",
   "pygments_lexer": "ipython3",
   "version": "3.12.7"
  }
 },
 "nbformat": 4,
 "nbformat_minor": 5
}
