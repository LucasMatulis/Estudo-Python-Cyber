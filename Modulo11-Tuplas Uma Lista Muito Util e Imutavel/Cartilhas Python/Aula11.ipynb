{
 "cells": [
  {
   "cell_type": "markdown",
   "id": "d74bf102-48a1-4f5b-877e-82ed82181b0a",
   "metadata": {},
   "source": [
    "----------------------------------------------------------Tuplas---------------------------------------------------------------------------------------"
   ]
  },
  {
   "cell_type": "code",
   "execution_count": 1,
   "id": "a16690a5-d9e9-4a05-8b7f-54b762b8ca50",
   "metadata": {},
   "outputs": [
    {
     "name": "stdout",
     "output_type": "stream",
     "text": [
      "('Lira', '25/08/2020', '15/02/1994', 2000, 'Estagiário')\n"
     ]
    }
   ],
   "source": [
    "vendas=('Lira', '25/08/2020', '15/02/1994', 2000, 'Estagiário')\n",
    "print(vendas)\n",
    "\n",
    "nome=vendas[0]\n",
    "data_contratacao=vendas[1]\n",
    "data_nascimento=vendas[2]\n",
    "salario=vendas[3]\n",
    "cargo=vendas[4]"
   ]
  },
  {
   "cell_type": "code",
   "execution_count": 2,
   "id": "d7482bd7-cdd1-4559-978e-8a60e90bd759",
   "metadata": {},
   "outputs": [
    {
     "name": "stdout",
     "output_type": "stream",
     "text": [
      "('Lira', '25/08/2020', '15/02/1994', 2000, 'Estagiário')\n"
     ]
    },
    {
     "ename": "TypeError",
     "evalue": "'tuple' object does not support item assignment",
     "output_type": "error",
     "traceback": [
      "\u001b[31m---------------------------------------------------------------------------\u001b[39m",
      "\u001b[31mTypeError\u001b[39m                                 Traceback (most recent call last)",
      "\u001b[36mCell\u001b[39m\u001b[36m \u001b[39m\u001b[32mIn[2]\u001b[39m\u001b[32m, line 11\u001b[39m\n\u001b[32m      8\u001b[39m cargo=vendas[\u001b[32m4\u001b[39m]\n\u001b[32m     10\u001b[39m \u001b[38;5;66;03m#tentando alterar a posição\u001b[39;00m\n\u001b[32m---> \u001b[39m\u001b[32m11\u001b[39m \u001b[43mvendas\u001b[49m\u001b[43m[\u001b[49m\u001b[32;43m0\u001b[39;49m\u001b[43m]\u001b[49m=\u001b[33m'\u001b[39m\u001b[33mJoão\u001b[39m\u001b[33m'\u001b[39m\n",
      "\u001b[31mTypeError\u001b[39m: 'tuple' object does not support item assignment"
     ]
    }
   ],
   "source": [
    "vendas=('Lira', '25/08/2020', '15/02/1994', 2000, 'Estagiário')\n",
    "print(vendas)\n",
    "\n",
    "nome=vendas[0]\n",
    "data_contratacao=vendas[1]\n",
    "data_nascimento=vendas[2]\n",
    "salario=vendas[3]\n",
    "cargo=vendas[4]\n",
    "\n",
    "#tentando alterar a posição\n",
    "vendas[0]='João'"
   ]
  },
  {
   "cell_type": "markdown",
   "id": "6945393a-36bf-4dde-a38a-ef0a8828581b",
   "metadata": {},
   "source": [
    "---------------------------------------------------------------------------Unpacking em Tuplas----------------------------------------------------------"
   ]
  },
  {
   "cell_type": "code",
   "execution_count": 3,
   "id": "849d8381-2b38-46be-afba-76b445cf8e57",
   "metadata": {},
   "outputs": [
    {
     "name": "stdout",
     "output_type": "stream",
     "text": [
      "Lira\n",
      "25/08/2020\n",
      "15/02/1994\n",
      "2000\n",
      "Estagiário\n"
     ]
    }
   ],
   "source": [
    "vendas=('Lira', '25/08/2020', '15/02/1994', 2000, 'Estagiário')\n",
    "nome,data_contratacao,data_nascimento,salario,cargo=vendas\n",
    "\n",
    "print(nome)\n",
    "print(data_contratacao)\n",
    "print(data_nascimento)\n",
    "print(salario)\n",
    "print(cargo)"
   ]
  },
  {
   "cell_type": "code",
   "execution_count": 4,
   "id": "560cc2a2-4a70-4084-bace-58dfc95e4141",
   "metadata": {},
   "outputs": [
    {
     "ename": "ValueError",
     "evalue": "too many values to unpack (expected 4)",
     "output_type": "error",
     "traceback": [
      "\u001b[31m---------------------------------------------------------------------------\u001b[39m",
      "\u001b[31mValueError\u001b[39m                                Traceback (most recent call last)",
      "\u001b[36mCell\u001b[39m\u001b[36m \u001b[39m\u001b[32mIn[4]\u001b[39m\u001b[32m, line 2\u001b[39m\n\u001b[32m      1\u001b[39m vendas=(\u001b[33m'\u001b[39m\u001b[33mLira\u001b[39m\u001b[33m'\u001b[39m, \u001b[33m'\u001b[39m\u001b[33m25/08/2020\u001b[39m\u001b[33m'\u001b[39m, \u001b[33m'\u001b[39m\u001b[33m15/02/1994\u001b[39m\u001b[33m'\u001b[39m, \u001b[32m2000\u001b[39m, \u001b[33m'\u001b[39m\u001b[33mEstagiário\u001b[39m\u001b[33m'\u001b[39m)\n\u001b[32m----> \u001b[39m\u001b[32m2\u001b[39m nome,data_contratacao,data_nascimento,cargo=vendas\n",
      "\u001b[31mValueError\u001b[39m: too many values to unpack (expected 4)"
     ]
    }
   ],
   "source": [
    "vendas=('Lira', '25/08/2020', '15/02/1994', 2000, 'Estagiário')\n",
    "nome,data_contratacao,data_nascimento,cargo=vendas"
   ]
  },
  {
   "cell_type": "code",
   "execution_count": 9,
   "id": "67ea5a49-b373-497a-aedb-8417c55d7695",
   "metadata": {},
   "outputs": [
    {
     "name": "stdout",
     "output_type": "stream",
     "text": [
      "0\n",
      "1000\n",
      "1\n",
      "2000\n",
      "2\n",
      "300\n",
      "3\n",
      "300\n",
      "4\n",
      "150\n"
     ]
    }
   ],
   "source": [
    "vendas=[1000,2000,300,300,150]\n",
    "funcionarios=['João','Lira','Ana','Maria','Paula']\n",
    "\n",
    "for i,item in enumerate(vendas):\n",
    "    vendas[i]=item\n",
    "    print(i)\n",
    "    print(item)"
   ]
  },
  {
   "cell_type": "code",
   "execution_count": 10,
   "id": "7f4ecfbf-e77d-4cf1-bc0a-22d07363b09e",
   "metadata": {},
   "outputs": [
    {
     "name": "stdout",
     "output_type": "stream",
     "text": [
      "O funcionário João vendeu 1000.\n",
      "O funcionário Lira vendeu 2000.\n",
      "O funcionário Ana vendeu 300.\n",
      "O funcionário Maria vendeu 300.\n",
      "O funcionário Paula vendeu 150.\n"
     ]
    }
   ],
   "source": [
    "vendas=[1000,2000,300,300,150]\n",
    "funcionarios=['João','Lira','Ana','Maria','Paula']\n",
    "\n",
    "for i,venda in enumerate(vendas):\n",
    "    print('O funcionário {} vendeu {}.'.format(funcionarios[i],venda))"
   ]
  },
  {
   "cell_type": "markdown",
   "id": "cc626562-ec8f-4bb4-8350-e982d357b1d9",
   "metadata": {},
   "source": [
    "-------------------------------------------------Lista de Tuplas----------------------------------------------------------------------------------------"
   ]
  },
  {
   "cell_type": "code",
   "execution_count": 14,
   "id": "48dd2955-893a-495c-85a2-a651a54b2156",
   "metadata": {},
   "outputs": [
    {
     "name": "stdout",
     "output_type": "stream",
     "text": [
      "O faturamento de Iphone no dia 20/08/2020 foi de 7400000\n"
     ]
    }
   ],
   "source": [
    "vendas=[\n",
    "    ('20/08/2020', 'iphone x', 'azul', '128gb', 350, 4000),\n",
    "    ('20/08/2020', 'iphone x', 'prata', '128gb', 1500, 4000),\n",
    "    ('20/08/2020', 'ipad', 'prata', '256gb', 127, 6000),\n",
    "    ('20/08/2020', 'ipad', 'prata', '128gb', 981, 5000),\n",
    "    ('21/08/2020', 'iphone x', 'azul', '128gb', 397, 4000),\n",
    "    ('21/08/2020', 'iphone x', 'prata', '128gb', 1017, 4000),\n",
    "    ('21/08/2020', 'ipad', 'prata', '256gb', 50, 6000),\n",
    "    ('21/08/2020', 'ipad', 'prata', '128gb', 4000, 45000),\n",
    "]\n",
    "\n",
    "faturamento=0\n",
    "for item in vendas:\n",
    "    data,produto,cor,capacidade,unidades,valor_unitario=item\n",
    "    if produto =='iphone x' and data== '20/08/2020':\n",
    "        faturamento+=unidades*valor_unitario\n",
    "\n",
    "print('O faturamento de Iphone no dia 20/08/2020 foi de {}'.format(faturamento))"
   ]
  },
  {
   "cell_type": "code",
   "execution_count": 15,
   "id": "c126f608-2ebc-4b3c-a898-e179ca83fcd9",
   "metadata": {},
   "outputs": [
    {
     "name": "stdout",
     "output_type": "stream",
     "text": [
      "Meu produto mais vendido no dia 21/08/2020 foi o ipad com 4000 unidades\n"
     ]
    }
   ],
   "source": [
    "vendas=[\n",
    "    ('20/08/2020', 'iphone x', 'azul', '128gb', 350, 4000),\n",
    "    ('20/08/2020', 'iphone x', 'prata', '128gb', 1500, 4000),\n",
    "    ('20/08/2020', 'ipad', 'prata', '256gb', 127, 6000),\n",
    "    ('20/08/2020', 'ipad', 'prata', '128gb', 981, 5000),\n",
    "    ('21/08/2020', 'iphone x', 'azul', '128gb', 397, 4000),\n",
    "    ('21/08/2020', 'iphone x', 'prata', '128gb', 1017, 4000),\n",
    "    ('21/08/2020', 'ipad', 'prata', '256gb', 50, 6000),\n",
    "    ('21/08/2020', 'ipad', 'prata', '128gb', 4000, 45000),\n",
    "]\n",
    "\n",
    "faturamento=0\n",
    "qtde_produto_mais_vendido=0\n",
    "produto_mais_vendido=''\n",
    "for item in vendas:\n",
    "    data,produto,cor,capacidade,unidades,valor_unitario=item\n",
    "    if data== '21/08/2020':\n",
    "        if unidades>qtde_produto_mais_vendido:\n",
    "            produto_mais_vendido=produto\n",
    "            qtde_produto_mais_vendido=unidades\n",
    "\n",
    "print('Meu produto mais vendido no dia 21/08/2020 foi o {} com {} unidades'.format(produto_mais_vendido,qtde_produto_mais_vendido))"
   ]
  },
  {
   "cell_type": "code",
   "execution_count": null,
   "id": "520b0377-2090-453d-b163-0247eaa5ddc1",
   "metadata": {},
   "outputs": [],
   "source": []
  }
 ],
 "metadata": {
  "kernelspec": {
   "display_name": "Python 3 (ipykernel)",
   "language": "python",
   "name": "python3"
  },
  "language_info": {
   "codemirror_mode": {
    "name": "ipython",
    "version": 3
   },
   "file_extension": ".py",
   "mimetype": "text/x-python",
   "name": "python",
   "nbconvert_exporter": "python",
   "pygments_lexer": "ipython3",
   "version": "3.12.7"
  }
 },
 "nbformat": 4,
 "nbformat_minor": 5
}
