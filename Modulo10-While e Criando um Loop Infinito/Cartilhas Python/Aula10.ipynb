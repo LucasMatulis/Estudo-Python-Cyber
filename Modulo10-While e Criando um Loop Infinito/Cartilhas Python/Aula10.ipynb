{
 "cells": [
  {
   "cell_type": "markdown",
   "id": "7c766fbe-2fce-4abb-83bf-be797df95e23",
   "metadata": {},
   "source": [
    "---------------------------------------------------------------------Estrutura While----------------------------------------------------------------------"
   ]
  },
  {
   "cell_type": "code",
   "execution_count": 1,
   "id": "525127e6-a72d-466f-9c62-c1f00b6fef35",
   "metadata": {},
   "outputs": [
    {
     "name": "stdin",
     "output_type": "stream",
     "text": [
      "Registre um produto. Para cancelar o registro de um novo produto, basta apertar enter com a caixa vazia a\n",
      "Registre um produto. Para cancelar o registro de um novo produto, basta apertar enter com a caixa vazia b\n",
      "Registre um produto. Para cancelar o registro de um novo produto, basta apertar enter com a caixa vazia c\n",
      "Registre um produto. Para cancelar o registro de um novo produto, basta apertar enter com a caixa vazia d\n",
      "Registre um produto. Para cancelar o registro de um novo produto, basta apertar enter com a caixa vazia e\n",
      "Registre um produto. Para cancelar o registro de um novo produto, basta apertar enter com a caixa vazia f\n",
      "Registre um produto. Para cancelar o registro de um novo produto, basta apertar enter com a caixa vazia g\n",
      "Registre um produto. Para cancelar o registro de um novo produto, basta apertar enter com a caixa vazia \n"
     ]
    },
    {
     "name": "stdout",
     "output_type": "stream",
     "text": [
      "Registro Finalizado. As vendas cadastradas foram ['a', 'b', 'c', 'd', 'e', 'f', 'g']\n"
     ]
    }
   ],
   "source": [
    "venda= input('Registre um produto. Para cancelar o registro de um novo produto, basta apertar enter com a caixa vazia')\n",
    "vendas=[]\n",
    "\n",
    "while venda!='':\n",
    "    vendas.append(venda)\n",
    "    venda=input('Registre um produto. Para cancelar o registro de um novo produto, basta apertar enter com a caixa vazia')\n",
    "\n",
    "print('Registro Finalizado. As vendas cadastradas foram {}'.format(vendas))"
   ]
  },
  {
   "cell_type": "markdown",
   "id": "538ddd77-7fe5-49f3-bd19-a91ad239803c",
   "metadata": {},
   "source": [
    "-------------------------------------------------Loop infinito no While----------------------------------------------------------------------------------"
   ]
  },
  {
   "cell_type": "code",
   "execution_count": null,
   "id": "d2fc6ec4-b042-4b4d-a223-2890dbaa0944",
   "metadata": {},
   "outputs": [],
   "source": [
    "#NÃO RODA O CÓDIGO POIS ISSO IRA GERAR UM LOOP INFINITO PQ O VENDAS[I] É IGUAL A 0, E SENDO Q O I NUNCA MUDA FICARA EM UM LOOP INFINITO Q SÓ \n",
    "#Q SÓ PODE SER RESOLVIDO DESLIGANDO O JUPYTER \n",
    "\n",
    "vendas=[941,20,90]\n",
    "vendedores=['Maria', 'José', 'Antônio']\n",
    "meta=50\n",
    "i=0\n",
    "\n",
    "while vendas[i]>meta:\n",
    "    print('{} bateu a meta. Vendas: {}'.format(vendedores[i], vendas[i]))"
   ]
  }
 ],
 "metadata": {
  "kernelspec": {
   "display_name": "Python 3 (ipykernel)",
   "language": "python",
   "name": "python3"
  },
  "language_info": {
   "codemirror_mode": {
    "name": "ipython",
    "version": 3
   },
   "file_extension": ".py",
   "mimetype": "text/x-python",
   "name": "python",
   "nbconvert_exporter": "python",
   "pygments_lexer": "ipython3",
   "version": "3.12.7"
  }
 },
 "nbformat": 4,
 "nbformat_minor": 5
}
