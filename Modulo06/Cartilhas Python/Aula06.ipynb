{
 "cells": [
  {
   "cell_type": "code",
   "execution_count": 2,
   "id": "124e8940-b5b7-4974-b732-7e179d1e3fee",
   "metadata": {},
   "outputs": [
    {
     "name": "stdout",
     "output_type": "stream",
     "text": [
      "aprovado\n"
     ]
    }
   ],
   "source": [
    "nota = 10\n",
    "\n",
    "if nota>=7:\n",
    "    print('aprovado')\n",
    "else:\n",
    "    print('Não aprovado')"
   ]
  },
  {
   "cell_type": "code",
   "execution_count": 3,
   "id": "5d6b02c4-6cbc-43a7-9e1e-021a7ff803ea",
   "metadata": {},
   "outputs": [
    {
     "name": "stdout",
     "output_type": "stream",
     "text": [
      "Não aprovado\n"
     ]
    }
   ],
   "source": [
    "nota = 5\n",
    "\n",
    "if nota>=7:\n",
    "    print('aprovado')\n",
    "else:\n",
    "    print('Não aprovado')"
   ]
  },
  {
   "cell_type": "code",
   "execution_count": 5,
   "id": "7f250ac4-6234-40a2-a38c-df89a44d199d",
   "metadata": {},
   "outputs": [
    {
     "name": "stdout",
     "output_type": "stream",
     "text": [
      "Não aprovado/Reprovado direto\n"
     ]
    }
   ],
   "source": [
    "nota = 6\n",
    "\n",
    "if nota>=7:\n",
    "    print('aprovado')\n",
    "else:\n",
    "    if nota>=5:\n",
    "        print('Não aprovado/Recuperação')\n",
    "    else:\n",
    "        print('Não aprovado/Reprovado direto')"
   ]
  },
  {
   "cell_type": "code",
   "execution_count": 6,
   "id": "6ac7ff17-c6a0-4086-aed4-6c015979b92d",
   "metadata": {},
   "outputs": [
    {
     "name": "stdout",
     "output_type": "stream",
     "text": [
      "Não aprovado/Recuperação\n",
      "Não aprovado/Reprovado direto\n"
     ]
    }
   ],
   "source": [
    "nota = 6\n",
    "\n",
    "if nota>=7:\n",
    "    print('aprovado')\n",
    "else:\n",
    "    if nota>=5:\n",
    "        print('Não aprovado/Recuperação')\n",
    "\n",
    "    print('Não aprovado/Reprovado direto')"
   ]
  },
  {
   "cell_type": "code",
   "execution_count": 11,
   "id": "1388601e-4adf-4bd4-9d18-15277f98da40",
   "metadata": {},
   "outputs": [
    {
     "name": "stdout",
     "output_type": "stream",
     "text": [
      "Ganhou 750.0 de bônus\n"
     ]
    }
   ],
   "source": [
    "meta = 20000\n",
    "vendas=25000\n",
    "\n",
    "if vendas<meta:\n",
    "    print('Não ganhou bônus')\n",
    "elif vendas>(meta*2):\n",
    "    bonus=0.07*vendas\n",
    "    print('Ganhou {} de bônus'.format(bonus))\n",
    "else:\n",
    "    bonus= 0.03*vendas\n",
    "    print('Ganhou {} de bônus'.format(bonus))"
   ]
  },
  {
   "cell_type": "code",
   "execution_count": 12,
   "id": "42e9084f-e3d5-41bc-8089-1739bcbd67df",
   "metadata": {},
   "outputs": [
    {
     "name": "stdout",
     "output_type": "stream",
     "text": [
      "não é igual\n"
     ]
    }
   ],
   "source": [
    "faturamento = 100\n",
    "custo=200\n",
    "\n",
    "if faturamento==custo:\n",
    "    print('igual')\n",
    "else:\n",
    "    print('não é igual')"
   ]
  },
  {
   "cell_type": "code",
   "execution_count": 13,
   "id": "1e9b8041-d1a9-4dc8-963c-f7872d47ab8f",
   "metadata": {},
   "outputs": [
    {
     "name": "stdout",
     "output_type": "stream",
     "text": [
      "é diferente\n"
     ]
    }
   ],
   "source": [
    "faturamento = 100\n",
    "custo=200\n",
    "\n",
    "if faturamento!=custo:\n",
    "    print('é diferente')\n",
    "else:\n",
    "    print('não é diferente')"
   ]
  },
  {
   "cell_type": "code",
   "execution_count": 14,
   "id": "8ea8498d-733e-4f69-af4a-e5fb8391b8f3",
   "metadata": {},
   "outputs": [
    {
     "name": "stdout",
     "output_type": "stream",
     "text": [
      "não é maior\n"
     ]
    }
   ],
   "source": [
    "faturamento = 100\n",
    "custo=200\n",
    "\n",
    "if faturamento>custo:\n",
    "    print('maior')\n",
    "else:\n",
    "    print('não é maior')"
   ]
  },
  {
   "cell_type": "code",
   "execution_count": 15,
   "id": "9cdc3c4a-6e1f-4f04-8006-c903a5b992bf",
   "metadata": {},
   "outputs": [
    {
     "name": "stdout",
     "output_type": "stream",
     "text": [
      "não é maior ou igual\n"
     ]
    }
   ],
   "source": [
    "faturamento = 100\n",
    "custo=200\n",
    "\n",
    "if faturamento>=custo:\n",
    "    print('maior ou igual')\n",
    "else:\n",
    "    print('não é maior ou igual')"
   ]
  },
  {
   "cell_type": "code",
   "execution_count": 16,
   "id": "22ad5c0d-955f-479d-ae2d-86438a9e91d8",
   "metadata": {},
   "outputs": [
    {
     "name": "stdout",
     "output_type": "stream",
     "text": [
      "menor\n"
     ]
    }
   ],
   "source": [
    "faturamento = 100\n",
    "custo=200\n",
    "\n",
    "if faturamento<custo:\n",
    "    print('menor')\n",
    "else:\n",
    "    print('não é menor')"
   ]
  },
  {
   "cell_type": "code",
   "execution_count": 17,
   "id": "bba85b96-d9af-41b2-b6e7-5bf3689ec108",
   "metadata": {},
   "outputs": [
    {
     "name": "stdout",
     "output_type": "stream",
     "text": [
      "menor ou igual\n"
     ]
    }
   ],
   "source": [
    "faturamento = 100\n",
    "custo=200\n",
    "\n",
    "if faturamento<=custo:\n",
    "    print('menor ou igual')\n",
    "else:\n",
    "    print('não é menor ou igual')"
   ]
  },
  {
   "cell_type": "code",
   "execution_count": 18,
   "id": "5fb87932-8ac4-4f2b-9ac4-16674eccbca5",
   "metadata": {},
   "outputs": [
    {
     "name": "stdout",
     "output_type": "stream",
     "text": [
      "TEM @\n"
     ]
    }
   ],
   "source": [
    "if '@' in 'lira@hashtagtreinamentos.com.br':\n",
    "    print('TEM @')\n",
    "else:\n",
    "    print('Não tem @')"
   ]
  },
  {
   "cell_type": "code",
   "execution_count": 19,
   "id": "ad11e771-19d7-4147-adff-b996dd23f970",
   "metadata": {},
   "outputs": [
    {
     "name": "stdout",
     "output_type": "stream",
     "text": [
      "NÃO TEM #\n"
     ]
    }
   ],
   "source": [
    "if not '#' in 'lira@hashtagtreinamentos.com.br':\n",
    "    print('NÃO TEM #')\n",
    "else:\n",
    "    print('TEM #')"
   ]
  },
  {
   "cell_type": "code",
   "execution_count": 25,
   "id": "52c31860-8233-4c92-afd7-bdbc52ba5007",
   "metadata": {},
   "outputs": [
    {
     "name": "stdout",
     "output_type": "stream",
     "text": [
      "Funcionário não ganhou bônus\n"
     ]
    }
   ],
   "source": [
    "meta_funcionario=10000\n",
    "meta_loja= 250000\n",
    "vendas_funcionario=15000\n",
    "vendas_loja=0\n",
    "\n",
    "if vendas_funcionario> meta_funcionario and vendas_loja>meta_loja:\n",
    "    bonus=0.03*vendas_funcionario\n",
    "    print('Bonus do funcionário foi de {}'.format(bonus))\n",
    "else:\n",
    "    print('Funcionário não ganhou bônus')"
   ]
  },
  {
   "cell_type": "code",
   "execution_count": 22,
   "id": "da2d0368-8961-48d6-a340-267d238a3cfa",
   "metadata": {},
   "outputs": [
    {
     "name": "stdout",
     "output_type": "stream",
     "text": [
      "Bonus do funcionário foi de 450.0\n"
     ]
    }
   ],
   "source": [
    "meta_funcionario=10000\n",
    "meta_loja= 250000\n",
    "vendas_funcionario=15000\n",
    "vendas_loja=400000\n",
    "\n",
    "if vendas_funcionario> meta_funcionario and vendas_loja>meta_loja:\n",
    "    bonus=0.03*vendas_funcionario\n",
    "    print('Bonus do funcionário foi de {}'.format(bonus))\n",
    "else:\n",
    "    print('Funcionário não ganhou bônus')"
   ]
  },
  {
   "cell_type": "code",
   "execution_count": 24,
   "id": "48d54702-f1f3-41e1-a0f5-59a5b1e167de",
   "metadata": {},
   "outputs": [
    {
     "name": "stdout",
     "output_type": "stream",
     "text": [
      "Bonus do funcionário foi de 450.0\n"
     ]
    }
   ],
   "source": [
    "meta_funcionario=10000\n",
    "meta_loja= 250000\n",
    "vendas_funcionario=15000\n",
    "vendas_loja=0\n",
    "\n",
    "if vendas_funcionario> meta_funcionario or vendas_loja>meta_loja:\n",
    "    bonus=0.03*vendas_funcionario\n",
    "    print('Bonus do funcionário foi de {}'.format(bonus))\n",
    "else:\n",
    "    print('Funcionário não ganhou bônus')"
   ]
  },
  {
   "cell_type": "code",
   "execution_count": 26,
   "id": "c6764dad-34a7-42a8-bf63-3e33eb99c395",
   "metadata": {},
   "outputs": [
    {
     "name": "stdout",
     "output_type": "stream",
     "text": [
      "Funcionário não ganhou bônus\n"
     ]
    }
   ],
   "source": [
    "meta_funcionario=10000\n",
    "meta_loja= 250000\n",
    "vendas_funcionario=0\n",
    "vendas_loja=0\n",
    "\n",
    "if vendas_funcionario> meta_funcionario or vendas_loja>meta_loja:\n",
    "    bonus=0.03*vendas_funcionario\n",
    "    print('Bonus do funcionário foi de {}'.format(bonus))\n",
    "else:\n",
    "    print('Funcionário não ganhou bônus')"
   ]
  },
  {
   "cell_type": "code",
   "execution_count": 28,
   "id": "39125753-6077-4c8a-88da-78f4a49e3fe8",
   "metadata": {},
   "outputs": [
    {
     "name": "stdin",
     "output_type": "stream",
     "text": [
      "Qual foi o faturamento da loja nesse mês:  \n",
      "Qual foi o custo da loja nesse mês:  \n"
     ]
    },
    {
     "ename": "ValueError",
     "evalue": "invalid literal for int() with base 10: ''",
     "output_type": "error",
     "traceback": [
      "\u001b[31m---------------------------------------------------------------------------\u001b[39m",
      "\u001b[31mValueError\u001b[39m                                Traceback (most recent call last)",
      "\u001b[36mCell\u001b[39m\u001b[36m \u001b[39m\u001b[32mIn[28]\u001b[39m\u001b[32m, line 4\u001b[39m\n\u001b[32m      1\u001b[39m faturamento = \u001b[38;5;28minput\u001b[39m(\u001b[33m'\u001b[39m\u001b[33mQual foi o faturamento da loja nesse mês: \u001b[39m\u001b[33m'\u001b[39m)\n\u001b[32m      2\u001b[39m custo= \u001b[38;5;28minput\u001b[39m(\u001b[33m'\u001b[39m\u001b[33mQual foi o custo da loja nesse mês: \u001b[39m\u001b[33m'\u001b[39m)\n\u001b[32m----> \u001b[39m\u001b[32m4\u001b[39m lucro = \u001b[38;5;28;43mint\u001b[39;49m\u001b[43m(\u001b[49m\u001b[43mfaturamento\u001b[49m\u001b[43m)\u001b[49m - \u001b[38;5;28mint\u001b[39m(custo)\n\u001b[32m      6\u001b[39m \u001b[38;5;28mprint\u001b[39m(\u001b[33m'\u001b[39m\u001b[33mO lucro da loja foi de \u001b[39m\u001b[38;5;132;01m{}\u001b[39;00m\u001b[33m reais\u001b[39m\u001b[33m'\u001b[39m.format(lucro))\n",
      "\u001b[31mValueError\u001b[39m: invalid literal for int() with base 10: ''"
     ]
    }
   ],
   "source": [
    "faturamento = input('Qual foi o faturamento da loja nesse mês: ')\n",
    "custo= input('Qual foi o custo da loja nesse mês: ')\n",
    "\n",
    "lucro = int(faturamento) - int(custo)\n",
    "\n",
    "print('O lucro da loja foi de {} reais'.format(lucro))"
   ]
  },
  {
   "cell_type": "code",
   "execution_count": 30,
   "id": "b76cc99b-92db-4a3c-858a-f05a53131d96",
   "metadata": {},
   "outputs": [
    {
     "name": "stdin",
     "output_type": "stream",
     "text": [
      "Qual foi o faturamento da loja nesse mês:  \n",
      "Qual foi o custo da loja nesse mês:  \n"
     ]
    },
    {
     "name": "stdout",
     "output_type": "stream",
     "text": [
      "Algum valor não foi fornecido\n"
     ]
    }
   ],
   "source": [
    "faturamento = input('Qual foi o faturamento da loja nesse mês: ')\n",
    "custo= input('Qual foi o custo da loja nesse mês: ')\n",
    "\n",
    "if faturamento !='' and custo != '':\n",
    "    lucro = int(faturamento) - int(custo)\n",
    "    print('O lucro da loja foi de {} reais'.format(lucro))\n",
    "else:\n",
    "    print('Algum valor não foi fornecido')"
   ]
  },
  {
   "cell_type": "code",
   "execution_count": 31,
   "id": "6ae37280-b75c-44af-bb49-6a614dcdf2d7",
   "metadata": {},
   "outputs": [
    {
     "name": "stdin",
     "output_type": "stream",
     "text": [
      "Qual foi o faturamento da loja nesse mês:  \n",
      "Qual foi o custo da loja nesse mês:  \n"
     ]
    },
    {
     "name": "stdout",
     "output_type": "stream",
     "text": [
      "Algum valor não foi fornecido\n"
     ]
    }
   ],
   "source": [
    "faturamento = input('Qual foi o faturamento da loja nesse mês: ')\n",
    "custo= input('Qual foi o custo da loja nesse mês: ')\n",
    "\n",
    "if faturamento and custo:\n",
    "    lucro = int(faturamento) - int(custo)\n",
    "    print('O lucro da loja foi de {} reais'.format(lucro))\n",
    "else:\n",
    "    print('Algum valor não foi fornecido')"
   ]
  },
  {
   "cell_type": "code",
   "execution_count": null,
   "id": "bc1173a1-2515-439a-9985-4a441d45ecc5",
   "metadata": {},
   "outputs": [],
   "source": []
  }
 ],
 "metadata": {
  "kernelspec": {
   "display_name": "Python 3 (ipykernel)",
   "language": "python",
   "name": "python3"
  },
  "language_info": {
   "codemirror_mode": {
    "name": "ipython",
    "version": 3
   },
   "file_extension": ".py",
   "mimetype": "text/x-python",
   "name": "python",
   "nbconvert_exporter": "python",
   "pygments_lexer": "ipython3",
   "version": "3.12.7"
  }
 },
 "nbformat": 4,
 "nbformat_minor": 5
}
