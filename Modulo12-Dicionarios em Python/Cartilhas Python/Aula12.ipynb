{
 "cells": [
  {
   "cell_type": "markdown",
   "id": "f0474c84-c589-441e-bba3-d3a09f7aa8d1",
   "metadata": {},
   "source": [
    "-------------------------------------------------Dicionarios em Python-------------------------------------------------------------------------------------"
   ]
  },
  {
   "cell_type": "code",
   "execution_count": 1,
   "id": "fba7d5ed-9ffa-4b66-adb0-738eea608386",
   "metadata": {},
   "outputs": [
    {
     "name": "stdout",
     "output_type": "stream",
     "text": [
      "o alquimista\n"
     ]
    }
   ],
   "source": [
    "mais_vendidos={'tecnologia':'iphone', 'refrigeracao':'ar consul 12000 btu','livros': 'o alquimista'}\n",
    "livro=mais_vendidos['livros']\n",
    "print(livro)"
   ]
  },
  {
   "cell_type": "markdown",
   "id": "92660bb8-023d-48ff-b5b8-a2a2e3a8e83e",
   "metadata": {},
   "source": [
    "------------------------------------------Pegar item Dicionario e Verificar Item DIcionario"
   ]
  },
  {
   "cell_type": "code",
   "execution_count": 2,
   "id": "87d94b1f-4361-43de-9ba7-34044ffb74e7",
   "metadata": {},
   "outputs": [
    {
     "name": "stdout",
     "output_type": "stream",
     "text": [
      "o alquimista\n",
      "o alquimista\n"
     ]
    }
   ],
   "source": [
    "mais_vendidos={'tecnologia':'iphone', 'refrigeracao':'ar consul 12000 btu','livros': 'o alquimista'}\n",
    "vendas_tecnologia={'iphone':15000, 'samsung galaxy':12000, 'tv samsung': 10000, 'ps5':14300, 'tablet':1720, 'ipad':1000}\n",
    "\n",
    "print(mais_vendidos['livros'])\n",
    "print(mais_vendidos.get('livros'))\n"
   ]
  },
  {
   "cell_type": "code",
   "execution_count": 3,
   "id": "9f5f245a-3e21-4227-801e-57849ffd1725",
   "metadata": {},
   "outputs": [
    {
     "ename": "KeyError",
     "evalue": "'geladeiras'",
     "output_type": "error",
     "traceback": [
      "\u001b[31m---------------------------------------------------------------------------\u001b[39m",
      "\u001b[31mKeyError\u001b[39m                                  Traceback (most recent call last)",
      "\u001b[36mCell\u001b[39m\u001b[36m \u001b[39m\u001b[32mIn[3]\u001b[39m\u001b[32m, line 4\u001b[39m\n\u001b[32m      1\u001b[39m mais_vendidos={\u001b[33m'\u001b[39m\u001b[33mtecnologia\u001b[39m\u001b[33m'\u001b[39m:\u001b[33m'\u001b[39m\u001b[33miphone\u001b[39m\u001b[33m'\u001b[39m, \u001b[33m'\u001b[39m\u001b[33mrefrigeracao\u001b[39m\u001b[33m'\u001b[39m:\u001b[33m'\u001b[39m\u001b[33mar consul 12000 btu\u001b[39m\u001b[33m'\u001b[39m,\u001b[33m'\u001b[39m\u001b[33mlivros\u001b[39m\u001b[33m'\u001b[39m: \u001b[33m'\u001b[39m\u001b[33mo alquimista\u001b[39m\u001b[33m'\u001b[39m}\n\u001b[32m      2\u001b[39m vendas_tecnologia={\u001b[33m'\u001b[39m\u001b[33miphone\u001b[39m\u001b[33m'\u001b[39m:\u001b[32m15000\u001b[39m, \u001b[33m'\u001b[39m\u001b[33msamsung galaxy\u001b[39m\u001b[33m'\u001b[39m:\u001b[32m12000\u001b[39m, \u001b[33m'\u001b[39m\u001b[33mtv samsung\u001b[39m\u001b[33m'\u001b[39m: \u001b[32m10000\u001b[39m, \u001b[33m'\u001b[39m\u001b[33mps5\u001b[39m\u001b[33m'\u001b[39m:\u001b[32m14300\u001b[39m, \u001b[33m'\u001b[39m\u001b[33mtablet\u001b[39m\u001b[33m'\u001b[39m:\u001b[32m1720\u001b[39m, \u001b[33m'\u001b[39m\u001b[33mipad\u001b[39m\u001b[33m'\u001b[39m:\u001b[32m1000\u001b[39m}\n\u001b[32m----> \u001b[39m\u001b[32m4\u001b[39m \u001b[38;5;28mprint\u001b[39m(\u001b[43mmais_vendidos\u001b[49m\u001b[43m[\u001b[49m\u001b[33;43m'\u001b[39;49m\u001b[33;43mgeladeiras\u001b[39;49m\u001b[33;43m'\u001b[39;49m\u001b[43m]\u001b[49m)\n",
      "\u001b[31mKeyError\u001b[39m: 'geladeiras'"
     ]
    }
   ],
   "source": [
    "mais_vendidos={'tecnologia':'iphone', 'refrigeracao':'ar consul 12000 btu','livros': 'o alquimista'}\n",
    "vendas_tecnologia={'iphone':15000, 'samsung galaxy':12000, 'tv samsung': 10000, 'ps5':14300, 'tablet':1720, 'ipad':1000}\n",
    "\n",
    "print(mais_vendidos['geladeiras'])\n",
    "\n"
   ]
  },
  {
   "cell_type": "code",
   "execution_count": 4,
   "id": "b354766a-6b8f-4611-be4c-0f709a442bef",
   "metadata": {},
   "outputs": [
    {
     "name": "stdout",
     "output_type": "stream",
     "text": [
      "None\n"
     ]
    }
   ],
   "source": [
    "mais_vendidos={'tecnologia':'iphone', 'refrigeracao':'ar consul 12000 btu','livros': 'o alquimista'}\n",
    "vendas_tecnologia={'iphone':15000, 'samsung galaxy':12000, 'tv samsung': 10000, 'ps5':14300, 'tablet':1720, 'ipad':1000}\n",
    "\n",
    "print(mais_vendidos.get('geladeiras'))"
   ]
  },
  {
   "cell_type": "markdown",
   "id": "fd463751-4152-4442-aff7-bded67c16cce",
   "metadata": {},
   "source": [
    "--------------------------------------------------Adicionar, Modificar e Remover itens do Dicionario---------------------------------------------------"
   ]
  },
  {
   "cell_type": "code",
   "execution_count": 7,
   "id": "cc9bb2b1-8204-4ebd-a208-5abfb351f758",
   "metadata": {},
   "outputs": [
    {
     "name": "stdout",
     "output_type": "stream",
     "text": [
      "{'João': 100}\n",
      "{'João': 100, 'Lira': 50, 'Alon': 80}\n"
     ]
    }
   ],
   "source": [
    "vendas_vendedores={}\n",
    "\n",
    "vendas_vendedores['João']=100\n",
    "print(vendas_vendedores)\n",
    "\n",
    "vendas_vendedores.update({'Lira':50,'Alon':80})\n",
    "print(vendas_vendedores)"
   ]
  },
  {
   "cell_type": "code",
   "execution_count": 8,
   "id": "4f71d233-8d36-4cb9-8786-9d7bb029764e",
   "metadata": {},
   "outputs": [
    {
     "name": "stdout",
     "output_type": "stream",
     "text": [
      "{'João': 70, 'Lira': 50, 'Alon': 80}\n",
      "{'João': 70, 'Lira': 67, 'Alon': 12}\n"
     ]
    }
   ],
   "source": [
    "vendas_vendedores['João']=70\n",
    "print(vendas_vendedores)\n",
    "\n",
    "vendas_vendedores.update({'Lira':67,'Alon':12})\n",
    "print(vendas_vendedores)"
   ]
  },
  {
   "cell_type": "code",
   "execution_count": 9,
   "id": "adf6dadb-33f7-415b-9956-10b2f2fe663f",
   "metadata": {},
   "outputs": [
    {
     "name": "stdout",
     "output_type": "stream",
     "text": [
      "{'abril': 88000, 'maio': 89000}\n"
     ]
    }
   ],
   "source": [
    "lucro_1tri={'janeiro': 100000, 'fevereiro':120000, 'março': 90000}\n",
    "lucro_2tri={'abril': 88000, 'maio': 89000, 'junho':120000}\n",
    "\n",
    "del lucro_2tri['junho']\n",
    "print(lucro_2tri)"
   ]
  },
  {
   "cell_type": "code",
   "execution_count": 11,
   "id": "b908f7c3-93c4-492e-a6de-4fccb4e4c234",
   "metadata": {},
   "outputs": [
    {
     "name": "stdout",
     "output_type": "stream",
     "text": [
      "{'abril': 88000, 'maio': 89000}\n",
      "120000\n"
     ]
    }
   ],
   "source": [
    "lucro_1tri={'janeiro': 100000, 'fevereiro':120000, 'março': 90000}\n",
    "lucro_2tri={'abril': 88000, 'maio': 89000, 'junho':120000}\n",
    "\n",
    "lucro_jun=lucro_2tri.pop('junho')\n",
    "print(lucro_2tri)\n",
    "print(lucro_jun)"
   ]
  },
  {
   "cell_type": "code",
   "execution_count": 12,
   "id": "ddeb5bd3-c19f-4c19-bc1c-4062ce58b02c",
   "metadata": {},
   "outputs": [
    {
     "name": "stdout",
     "output_type": "stream",
     "text": [
      "{}\n"
     ]
    }
   ],
   "source": [
    "lucro_1tri={'janeiro': 100000, 'fevereiro':120000, 'março': 90000}\n",
    "lucro_2tri={'abril': 88000, 'maio': 89000, 'junho':120000}\n",
    "\n",
    "lucro_2tri.clear()\n",
    "print(lucro_2tri)"
   ]
  },
  {
   "cell_type": "markdown",
   "id": "350a48d3-98de-46d1-8372-555e0b2ee4d7",
   "metadata": {},
   "source": [
    "--------------------------------------------------For em Dicionarios-------------------------------------------------------------------------------------"
   ]
  },
  {
   "cell_type": "code",
   "execution_count": 13,
   "id": "c8064f0c-93b5-4264-8eb1-972299f895d0",
   "metadata": {},
   "outputs": [
    {
     "name": "stdout",
     "output_type": "stream",
     "text": [
      "iphone\n",
      "samsung galaxy\n",
      "tv samsung\n",
      "ps5\n",
      "tablet\n",
      "ipad\n"
     ]
    }
   ],
   "source": [
    "vendas_tecnologia={'iphone':15000, 'samsung galaxy':12000, 'tv samsung': 10000, 'ps5':14300, 'tablet':1720, 'ipad':1000}\n",
    "\n",
    "for chave in vendas_tecnologia:\n",
    "    print(chave)"
   ]
  },
  {
   "cell_type": "code",
   "execution_count": 14,
   "id": "b5a30792-b102-4eeb-8dfd-fce8d528dd54",
   "metadata": {},
   "outputs": [
    {
     "name": "stdout",
     "output_type": "stream",
     "text": [
      "O produto iphone vendeu 15000 unidades\n",
      "O produto samsung galaxy vendeu 12000 unidades\n",
      "O produto tv samsung vendeu 10000 unidades\n",
      "O produto ps5 vendeu 14300 unidades\n",
      "O produto tablet vendeu 1720 unidades\n",
      "O produto ipad vendeu 1000 unidades\n"
     ]
    }
   ],
   "source": [
    "vendas_tecnologia={'iphone':15000, 'samsung galaxy':12000, 'tv samsung': 10000, 'ps5':14300, 'tablet':1720, 'ipad':1000}\n",
    "\n",
    "for chave in vendas_tecnologia:\n",
    "    print('O produto {} vendeu {} unidades'.format(chave,vendas_tecnologia[chave]))"
   ]
  },
  {
   "cell_type": "markdown",
   "id": "ff880d95-b5b1-4656-b7d6-cf4824e0c33e",
   "metadata": {},
   "source": [
    "---------------------------------------------------Metodos Uteis Dicionarios (Parte 1)- itens----------------------------------------------------------------"
   ]
  },
  {
   "cell_type": "code",
   "execution_count": 15,
   "id": "2d327cd9-e39c-4b40-bef6-9437aaba859b",
   "metadata": {},
   "outputs": [
    {
     "name": "stdout",
     "output_type": "stream",
     "text": [
      "('iphone', 15000)\n",
      "('samsung galaxy', 12000)\n",
      "('tv samsung', 10000)\n",
      "('ps5', 14300)\n",
      "('tablet', 1720)\n",
      "('ipad', 1000)\n"
     ]
    }
   ],
   "source": [
    "vendas_tecnologia={'iphone':15000, 'samsung galaxy':12000, 'tv samsung': 10000, 'ps5':14300, 'tablet':1720, 'ipad':1000}\n",
    "\n",
    "for item in vendas_tecnologia.items():\n",
    "    print(item)"
   ]
  },
  {
   "cell_type": "code",
   "execution_count": 16,
   "id": "93f6db12-d3c7-44e2-9a1e-11af50bf8709",
   "metadata": {},
   "outputs": [
    {
     "name": "stdout",
     "output_type": "stream",
     "text": [
      "iphone: 15000 de unidades\n",
      "samsung galaxy: 12000 de unidades\n",
      "tv samsung: 10000 de unidades\n",
      "ps5: 14300 de unidades\n",
      "tablet: 1720 de unidades\n",
      "ipad: 1000 de unidades\n"
     ]
    }
   ],
   "source": [
    "vendas_tecnologia={'iphone':15000, 'samsung galaxy':12000, 'tv samsung': 10000, 'ps5':14300, 'tablet':1720, 'ipad':1000}\n",
    "\n",
    "for produto, vendas in vendas_tecnologia.items():\n",
    "    print('{}: {} de unidades'.format(produto,vendas))"
   ]
  },
  {
   "cell_type": "markdown",
   "id": "4889027a-c02b-4f80-af7d-16e6549f4ae1",
   "metadata": {},
   "source": [
    "-----------------------------------Metodos Uteis Dicionarios(Parte 2)- Keys and Values------------------------------------------------------------------"
   ]
  },
  {
   "cell_type": "code",
   "execution_count": 17,
   "id": "058f2a31-815b-4487-bd37-ecd2d6da2485",
   "metadata": {},
   "outputs": [
    {
     "name": "stdout",
     "output_type": "stream",
     "text": [
      "dict_keys(['iphone', 'samsung galaxy', 'tv samsung', 'ps5', 'tablet', 'ipad'])\n",
      "dict_values([15000, 12000, 10000, 14300, 1720, 1000])\n"
     ]
    }
   ],
   "source": [
    "vendas_tecnologia={'iphone':15000, 'samsung galaxy':12000, 'tv samsung': 10000, 'ps5':14300, 'tablet':1720, 'ipad':1000}\n",
    "\n",
    "print(vendas_tecnologia.keys())\n",
    "print(vendas_tecnologia.values())"
   ]
  },
  {
   "cell_type": "markdown",
   "id": "85d8b344-6e42-4b22-88ef-15fcb52d5f26",
   "metadata": {},
   "source": [
    "----------------------------------Zip e Transformando listas em dicionarios---------------------------------------------------------------------------"
   ]
  },
  {
   "cell_type": "code",
   "execution_count": 18,
   "id": "c89042d1-403d-4380-ad93-4f4dccb7a170",
   "metadata": {},
   "outputs": [
    {
     "name": "stdout",
     "output_type": "stream",
     "text": [
      "<zip object at 0x000001CDCB77EAC0>\n"
     ]
    }
   ],
   "source": [
    "produtos=['iphone','samsung galaxy','tv samsung', 'ps5', 'tablet', 'ipad']\n",
    "vendas=[15000,12000,10000,14300,1720,1000]\n",
    "\n",
    "lista_tuplas=zip(produtos, vendas)\n",
    "print(lista_tuplas)"
   ]
  },
  {
   "cell_type": "code",
   "execution_count": 19,
   "id": "c9779030-5bf9-4f51-878f-4215cac9183c",
   "metadata": {},
   "outputs": [
    {
     "name": "stdout",
     "output_type": "stream",
     "text": [
      "<zip object at 0x000001CDCB77E7C0>\n",
      "('iphone', 15000)\n",
      "('samsung galaxy', 12000)\n",
      "('tv samsung', 10000)\n",
      "('ps5', 14300)\n",
      "('tablet', 1720)\n",
      "('ipad', 1000)\n"
     ]
    }
   ],
   "source": [
    "produtos=['iphone','samsung galaxy','tv samsung', 'ps5', 'tablet', 'ipad']\n",
    "vendas=[15000,12000,10000,14300,1720,1000]\n",
    "\n",
    "lista_tuplas=zip(produtos, vendas)\n",
    "print(lista_tuplas)\n",
    "\n",
    "for item in lista_tuplas:\n",
    "    print(item)"
   ]
  },
  {
   "cell_type": "code",
   "execution_count": 20,
   "id": "b8eb9898-709b-48ea-8608-5bd4659231a7",
   "metadata": {},
   "outputs": [
    {
     "name": "stdout",
     "output_type": "stream",
     "text": [
      "{'iphone': 15000, 'samsung galaxy': 12000, 'tv samsung': 10000, 'ps5': 14300, 'tablet': 1720, 'ipad': 1000}\n"
     ]
    }
   ],
   "source": [
    "produtos=['iphone','samsung galaxy','tv samsung', 'ps5', 'tablet', 'ipad']\n",
    "vendas=[15000,12000,10000,14300,1720,1000]\n",
    "\n",
    "lista_tuplas=zip(produtos, vendas)\n",
    "dicionario_vendas=dict(lista_tuplas)\n",
    "print(dicionario_vendas)"
   ]
  },
  {
   "cell_type": "code",
   "execution_count": null,
   "id": "27283d5b-a40e-4a7e-913e-2a6f9f504b6c",
   "metadata": {},
   "outputs": [],
   "source": []
  }
 ],
 "metadata": {
  "kernelspec": {
   "display_name": "Python 3 (ipykernel)",
   "language": "python",
   "name": "python3"
  },
  "language_info": {
   "codemirror_mode": {
    "name": "ipython",
    "version": 3
   },
   "file_extension": ".py",
   "mimetype": "text/x-python",
   "name": "python",
   "nbconvert_exporter": "python",
   "pygments_lexer": "ipython3",
   "version": "3.12.7"
  }
 },
 "nbformat": 4,
 "nbformat_minor": 5
}
