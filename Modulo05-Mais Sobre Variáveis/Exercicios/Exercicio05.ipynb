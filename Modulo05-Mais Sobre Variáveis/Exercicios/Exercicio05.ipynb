{
 "cells": [
  {
   "cell_type": "markdown",
   "id": "71e27e8f-f209-4341-96e5-a183f2a55e84",
   "metadata": {},
   "source": [
    "##EXERCICIOS AULA 5"
   ]
  },
  {
   "cell_type": "markdown",
   "id": "3622b643-930f-480e-a756-5bbebde8d459",
   "metadata": {},
   "source": [
    "1.Faça um programa que mostre a mensagem (print)'Alo mundo' na tela"
   ]
  },
  {
   "cell_type": "code",
   "execution_count": 1,
   "id": "90733420-f1f2-411d-a064-89c415137266",
   "metadata": {},
   "outputs": [
    {
     "name": "stdout",
     "output_type": "stream",
     "text": [
      "Alo mundo\n"
     ]
    }
   ],
   "source": [
    "print('Alo mundo')"
   ]
  },
  {
   "cell_type": "markdown",
   "id": "ed8b3f70-b6d6-43b5-9b22-4dd56a3f49c9",
   "metadata": {},
   "source": [
    "2.Faça um Programa que peça um número (input) e então mostre a mensagem: 'O número informado foi [número]'"
   ]
  },
  {
   "cell_type": "code",
   "execution_count": 3,
   "id": "788945d4-4af2-48d3-b40c-8502489d1769",
   "metadata": {},
   "outputs": [
    {
     "name": "stdin",
     "output_type": "stream",
     "text": [
      "Digite um numero 190\n"
     ]
    },
    {
     "name": "stdout",
     "output_type": "stream",
     "text": [
      "O numero informado foi 190\n"
     ]
    }
   ],
   "source": [
    "numero=int(input('Digite um numero'))\n",
    "print('O numero informado foi {}'.format(numero))"
   ]
  },
  {
   "cell_type": "markdown",
   "id": "34ad772e-120f-42e1-85ac-c1afbb47bcdf",
   "metadata": {},
   "source": [
    "3.Faça um Programa que peça dois números e imprima a soma"
   ]
  },
  {
   "cell_type": "code",
   "execution_count": 5,
   "id": "7b52fd9b-dbfc-44a2-bd23-b1f8d36483fa",
   "metadata": {},
   "outputs": [
    {
     "name": "stdin",
     "output_type": "stream",
     "text": [
      "Digite o primeiro numero:  10\n",
      "Digite o segundo numero:  56\n"
     ]
    },
    {
     "name": "stdout",
     "output_type": "stream",
     "text": [
      "O resultado da soma é: 66\n"
     ]
    }
   ],
   "source": [
    "n1=int(input('Digite o primeiro numero: '))\n",
    "n2=int(input('Digite o segundo numero: '))\n",
    "\n",
    "soma=n1+n2\n",
    "\n",
    "print('O resultado da soma é: {}'.format(soma))"
   ]
  },
  {
   "cell_type": "markdown",
   "id": "d7197492-d45e-4a4a-a1c3-00bbff65b986",
   "metadata": {},
   "source": [
    "4.Faça um Programa que peça as 4 notas bimestrais de um aluno e mostre a média de todas as notas"
   ]
  },
  {
   "cell_type": "code",
   "execution_count": 8,
   "id": "75e68396-4c7d-4a8f-885e-e41e9f68704a",
   "metadata": {},
   "outputs": [
    {
     "name": "stdin",
     "output_type": "stream",
     "text": [
      "Digite o primeira nota:  6\n",
      "Digite o segunda nota:  7\n",
      "Digite o terceira nota:  5\n",
      "Digite o quarta nota:  9\n"
     ]
    },
    {
     "name": "stdout",
     "output_type": "stream",
     "text": [
      "A média total é de: 6.75\n"
     ]
    }
   ],
   "source": [
    "n1=int(input('Digite o primeira nota: '))\n",
    "n2=int(input('Digite o segunda nota: '))\n",
    "n3=int(input('Digite o terceira nota: '))\n",
    "n4=int(input('Digite o quarta nota: '))\n",
    "\n",
    "média=(n1+n2+n3+n4)/4\n",
    "\n",
    "print('A média total é de: {}'.format(média))"
   ]
  },
  {
   "cell_type": "markdown",
   "id": "2a24e702-77b1-4a09-b239-4f8767af9d1c",
   "metadata": {},
   "source": [
    "5.Faça um Programa que converta metros para centímetro. Você pode pedir o comprimento em metros para o usuário(input)"
   ]
  },
  {
   "cell_type": "code",
   "execution_count": 10,
   "id": "b0ce4423-088f-45a8-87e1-bcb848009996",
   "metadata": {},
   "outputs": [
    {
     "name": "stdin",
     "output_type": "stream",
     "text": [
      "Digite um numero de metros:  1.5\n"
     ]
    },
    {
     "name": "stdout",
     "output_type": "stream",
     "text": [
      "Este valor em metros seria a 150.0 centimetros\n"
     ]
    }
   ],
   "source": [
    "metros=float(input('Digite um numero de metros: '))\n",
    "\n",
    "centimetros= metros*100\n",
    "\n",
    "print('Este valor em metros seria a {} centimetros'.format(centimetros))"
   ]
  },
  {
   "cell_type": "markdown",
   "id": "79d895c0-1a1d-484d-b041-54ad96c18595",
   "metadata": {},
   "source": [
    "6.Faça um programa que calcule a area de uma sala de um apartamento.Para isso, o seu programa precisa pedir a largura da sala, o comprimento da sala e imprimir a área em m^2 da sala"
   ]
  },
  {
   "cell_type": "code",
   "execution_count": 11,
   "id": "75145efb-e83e-4758-b7c4-a6649ba9843c",
   "metadata": {},
   "outputs": [
    {
     "name": "stdin",
     "output_type": "stream",
     "text": [
      "Digite a largura do apartemento em metros:  10\n",
      "Digite o comprimento do apartemento em metros:  50\n"
     ]
    },
    {
     "name": "stdout",
     "output_type": "stream",
     "text": [
      "A area do apartamento é de 500.0m^2\n"
     ]
    }
   ],
   "source": [
    "largura=float(input('Digite a largura do apartemento em metros: '))\n",
    "comprimento=float(input('Digite o comprimento do apartemento em metros: '))\n",
    "\n",
    "area=largura*comprimento\n",
    "\n",
    "print('A area do apartamento é de {}m^2'.format(area))"
   ]
  },
  {
   "cell_type": "markdown",
   "id": "02973fdb-b2d8-45e8-a7cf-8815bc0dfc84",
   "metadata": {},
   "source": [
    "7.Faça um Programa que pergunte quanto você ganha por hora e o número de horas trabalhadas no mês.Calcule e mostre o total do seu slário no referido mês"
   ]
  },
  {
   "cell_type": "code",
   "execution_count": 13,
   "id": "8d2e1898-7275-4b6a-a527-54de29d3772c",
   "metadata": {},
   "outputs": [
    {
     "name": "stdin",
     "output_type": "stream",
     "text": [
      "Digite o quanto você ganha por hora:  8.5\n",
      "Digite quantas hora você trabalhou neste mês:  40\n"
     ]
    },
    {
     "name": "stdout",
     "output_type": "stream",
     "text": [
      "Seu salário neste mês foi de : 340.0\n"
     ]
    }
   ],
   "source": [
    "dinheiro=float(input('Digite o quanto você ganha por hora: '))\n",
    "horas=float(input('Digite quantas hora você trabalhou neste mês: '))\n",
    "\n",
    "salario=horas*dinheiro\n",
    "\n",
    "\n",
    "print('Seu salário neste mês foi de : {}'.format(salario))"
   ]
  },
  {
   "cell_type": "markdown",
   "id": "8d36479b-12b9-4bf2-a648-cb026ccfacd3",
   "metadata": {},
   "source": [
    "8.Vamos criar um conversor de temperatura. Faça um Programa que peça a temperatura em graus Fahrenheit, transforme e mostre a temperatura em graus Celsius"
   ]
  },
  {
   "cell_type": "code",
   "execution_count": 19,
   "id": "78f4ae5b-e9e8-4268-bfb1-9646b0b3a261",
   "metadata": {},
   "outputs": [
    {
     "name": "stdin",
     "output_type": "stream",
     "text": [
      "Digite a temperatura em fahrenheit:  212\n"
     ]
    },
    {
     "name": "stdout",
     "output_type": "stream",
     "text": [
      "A conversão de fahrenheit para celsiu é de: 100.0°C\n"
     ]
    }
   ],
   "source": [
    "fahrenheit=float(input('Digite a temperatura em fahrenheit: '))\n",
    "\n",
    "celsius=5/9*(fahrenheit-32)\n",
    "\n",
    "print('A conversão de fahrenheit para celsiu é de: {}°C'.format(celsius))\n",
    "\n"
   ]
  },
  {
   "cell_type": "markdown",
   "id": "5e327b03-57f2-4e2b-af9e-e5bd46b31aaa",
   "metadata": {},
   "source": [
    "9.Faça um Programa que peca a temperatura em graus Celsiu, transforme e mostre em graus Fahrenheit"
   ]
  },
  {
   "cell_type": "code",
   "execution_count": 16,
   "id": "d4048737-6876-4f6e-af69-61a48ef9cd8f",
   "metadata": {},
   "outputs": [
    {
     "name": "stdin",
     "output_type": "stream",
     "text": [
      "Digite a temperatura em celsius:  100\n"
     ]
    },
    {
     "name": "stdout",
     "output_type": "stream",
     "text": [
      "A conversão de celsius para fahrenheit é de: 212.0°F\n"
     ]
    }
   ],
   "source": [
    "celsius=float(input('Digite a temperatura em celsius: '))\n",
    "\n",
    "fahrenheit=(9*celsius)/5 +32\n",
    "\n",
    "print('A conversão de celsius para fahrenheit é de: {}°F'.format(fahrenheit))\n"
   ]
  },
  {
   "cell_type": "markdown",
   "id": "5861caae-5887-491a-aa58-b54ad3eda881",
   "metadata": {},
   "source": [
    "10.Tendo como dados de entrada a altura(h) de uma pessoa, construa um algoritimo que calcule seu peso ideal"
   ]
  },
  {
   "cell_type": "code",
   "execution_count": 21,
   "id": "e53b30b9-2e86-48b8-885a-16b2c9528a8d",
   "metadata": {},
   "outputs": [
    {
     "name": "stdin",
     "output_type": "stream",
     "text": [
      "Digite a sua altura:  1.9\n"
     ]
    },
    {
     "name": "stdout",
     "output_type": "stream",
     "text": [
      "O seu peso ideal seria de 80.13Kg\n"
     ]
    }
   ],
   "source": [
    "altura=float(input('Digite a sua altura: '))\n",
    "\n",
    "peso=72.7*altura-58\n",
    "\n",
    "print('O seu peso ideal seria de {}Kg'.format(peso))"
   ]
  },
  {
   "cell_type": "markdown",
   "id": "276bb6e7-a9ec-447d-a78f-b0f49f587da9",
   "metadata": {},
   "source": [
    "11.tendo como dado de entrada a altura(h) de uma pessoa, construa um algoritimo que calcule seu peso ideal"
   ]
  },
  {
   "cell_type": "code",
   "execution_count": 22,
   "id": "83c4b32b-9621-432d-9725-b18982532e1a",
   "metadata": {},
   "outputs": [
    {
     "name": "stdin",
     "output_type": "stream",
     "text": [
      "Digite a sua altura:  1.8\n"
     ]
    },
    {
     "name": "stdout",
     "output_type": "stream",
     "text": [
      "O seu peso ideal seria de 72.86000000000001Kg se você for um homen\n",
      "E o seu peso ideal é 67.08Kg se você for uma mulher \n"
     ]
    }
   ],
   "source": [
    "altura=float(input('Digite a sua altura: '))\n",
    "\n",
    "pesoH=72.7*altura-58\n",
    "pesoM=62.1*altura-44.7\n",
    "\n",
    "print('O seu peso ideal seria de {}Kg se você for um homem\\nE o seu peso ideal é {}Kg se você for uma mulher '.format(pesoH,pesoM))"
   ]
  },
  {
   "cell_type": "markdown",
   "id": "a7708b87-5141-4588-bbb3-b4d18e42dbd2",
   "metadata": {},
   "source": [
    "12.Faça um Programa que  pergunte quanto você ganha por hora e o número de horas trabalhadas no mês"
   ]
  },
  {
   "cell_type": "code",
   "execution_count": 23,
   "id": "8fb63dda-ef4f-4f23-be1c-b98702cf4029",
   "metadata": {},
   "outputs": [
    {
     "name": "stdin",
     "output_type": "stream",
     "text": [
      "Digite o quanto você ganha por hora:  8.5\n",
      "Digite quantas hora você trabalhou neste mês:  160\n"
     ]
    }
   ],
   "source": [
    "dinheiro=float(input('Digite o quanto você ganha por hora: '))\n",
    "horas=float(input('Digite quantas hora você trabalhou neste mês: '))"
   ]
  },
  {
   "cell_type": "markdown",
   "id": "67d7fde7-3f15-4d88-adc4-7c2d7c7fbd43",
   "metadata": {},
   "source": [
    "Calcule o salário bruto(horas* salario por hora)"
   ]
  },
  {
   "cell_type": "code",
   "execution_count": 25,
   "id": "19f43247-b510-498f-a101-3e0f0eaddd29",
   "metadata": {},
   "outputs": [
    {
     "name": "stdout",
     "output_type": "stream",
     "text": [
      "1360.0\n"
     ]
    }
   ],
   "source": [
    "salario=horas*dinheiro\n",
    "print(salario)"
   ]
  },
  {
   "cell_type": "markdown",
   "id": "e0017f47-ebeb-45ff-a5d8-a1aa4adeba9d",
   "metadata": {},
   "source": [
    "Calcule o desconto do IR(11% do salário bruto)"
   ]
  },
  {
   "cell_type": "code",
   "execution_count": 26,
   "id": "f68b3f02-258d-4907-826c-ba174dfa6e9d",
   "metadata": {},
   "outputs": [
    {
     "name": "stdout",
     "output_type": "stream",
     "text": [
      "149.6\n"
     ]
    }
   ],
   "source": [
    "descontoIR=salario*0.11\n",
    "print(descontoIR)"
   ]
  },
  {
   "cell_type": "markdown",
   "id": "4a97d70c-b4d3-46a2-8d85-8791d357b0dc",
   "metadata": {},
   "source": [
    "Calcule o desconto do INSS(8% do salário bruto)"
   ]
  },
  {
   "cell_type": "code",
   "execution_count": 27,
   "id": "35985fff-9af2-47de-89f4-7319302ee64b",
   "metadata": {},
   "outputs": [
    {
     "name": "stdout",
     "output_type": "stream",
     "text": [
      "108.8\n"
     ]
    }
   ],
   "source": [
    "descontoINSS=salario*0.08\n",
    "print(descontoINSS)"
   ]
  },
  {
   "cell_type": "markdown",
   "id": "7424a18b-d79d-458e-b19c-fe33c905ce82",
   "metadata": {},
   "source": [
    "Calcule o desconto do sindicato(5% do salário bruto)"
   ]
  },
  {
   "cell_type": "code",
   "execution_count": 28,
   "id": "863b60ba-7b84-454c-b961-2135a48fac39",
   "metadata": {},
   "outputs": [
    {
     "name": "stdout",
     "output_type": "stream",
     "text": [
      "68.0\n"
     ]
    }
   ],
   "source": [
    "descontoSindicato=salario*0.05\n",
    "print(descontoSindicato)"
   ]
  },
  {
   "cell_type": "markdown",
   "id": "00208ee5-3996-44cd-a5c3-32686a0dd3bd",
   "metadata": {},
   "source": [
    "Calcule o salário líquido(salário bruto-descontos)"
   ]
  },
  {
   "cell_type": "code",
   "execution_count": 29,
   "id": "29f0c32f-1dfd-4836-970d-eeb60c2a1ce5",
   "metadata": {},
   "outputs": [
    {
     "name": "stdout",
     "output_type": "stream",
     "text": [
      "O salario liquido sera de: R$1033.6000000000001\n"
     ]
    }
   ],
   "source": [
    "salarioLiquido=salario-descontoIR-descontoINSS-descontoSindicato\n",
    "print('O salario liquido sera de: R${}'.format(salarioLiquido))"
   ]
  },
  {
   "cell_type": "markdown",
   "id": "3c6d7a50-2dca-4641-8b68-0546436698d5",
   "metadata": {},
   "source": [
    "13.Faça um programa para uma loja de tintas. O programa deverá pedir o tamanho em metros quadrados da área a ser pintada.Considere que a cobertura da tinta é de 1 litro para cada 3 metros quadrados e que a tinta é vendida em latas de 18 litros, que custam R$80,00. Informe ao usuário a quantidades de latas de tinta a serem compradas e o preço total(para simplificação nesse momento, não se preocupe em arredondar a quantidade de latas a serem compradas -  vamos trabalhar isso em breve)"
   ]
  },
  {
   "cell_type": "code",
   "execution_count": 33,
   "id": "7ac23811-4be4-4d47-a204-7888371bcb47",
   "metadata": {},
   "outputs": [
    {
     "name": "stdin",
     "output_type": "stream",
     "text": [
      "Informe quantos metros quadrados vão ser pintados:  162\n"
     ]
    },
    {
     "name": "stdout",
     "output_type": "stream",
     "text": [
      "Você precisara comprar 3.0 latas ao valor de R$240.0\n"
     ]
    }
   ],
   "source": [
    "metros=float(input('Informe quantos metros quadrados vão ser pintados: '))\n",
    "\n",
    "litros=metros/3\n",
    "\n",
    "latas=litros/18\n",
    "\n",
    "preco=latas*80\n",
    "\n",
    "print('Você precisara comprar {} latas ao valor de R${}'.format(latas,preco))"
   ]
  },
  {
   "cell_type": "markdown",
   "id": "0125e270-a1b2-4e7a-9bd8-2186f385b09f",
   "metadata": {},
   "source": [
    "14. Faça um programa que peça o tamanho de um arquivo para download (em MB) e a velocidade de um link de Internet (em Mbps), calcule e informe o tempo aproximado de download do arquivo usando este link (em minutos).\n",
    "\n",
    "Detalhe: MB significa megabyte, Mb (com b minúsculo) significa megabit. Um megabit é 1/8 de um megabyte. "
   ]
  },
  {
   "cell_type": "code",
   "execution_count": 34,
   "id": "145975d1-8ddc-4fe1-8073-ad710ebbd562",
   "metadata": {},
   "outputs": [
    {
     "name": "stdin",
     "output_type": "stream",
     "text": [
      "Informe o tamanho do arquivo em MB:  100\n",
      "Informe a velocidade da conexão em Mbps:  10\n"
     ]
    },
    {
     "name": "stdout",
     "output_type": "stream",
     "text": [
      "O tempo de download é de 1.3333333333333333 minutos\n"
     ]
    }
   ],
   "source": [
    "tamanho = float(input('Informe o tamanho do arquivo em MB: '))\n",
    "velocidade = float(input('Informe a velocidade da conexão em Mbps: '))\n",
    "\n",
    "tamanho_megabits = tamanho * 8\n",
    "\n",
    "tempo = tamanho_megabits / velocidade\n",
    "tempo_minutos = tempo / 60\n",
    "print(f'O tempo de download é de {tempo_minutos} minutos')"
   ]
  }
 ],
 "metadata": {
  "kernelspec": {
   "display_name": "Python 3 (ipykernel)",
   "language": "python",
   "name": "python3"
  },
  "language_info": {
   "codemirror_mode": {
    "name": "ipython",
    "version": 3
   },
   "file_extension": ".py",
   "mimetype": "text/x-python",
   "name": "python",
   "nbconvert_exporter": "python",
   "pygments_lexer": "ipython3",
   "version": "3.12.7"
  }
 },
 "nbformat": 4,
 "nbformat_minor": 5
}
