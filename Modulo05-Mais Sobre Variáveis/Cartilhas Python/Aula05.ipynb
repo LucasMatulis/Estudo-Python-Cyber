{
 "cells": [
  {
   "cell_type": "code",
   "execution_count": 1,
   "id": "9a33248e-2e42-42d8-80f6-7a197145a01b",
   "metadata": {},
   "outputs": [
    {
     "ename": "NameError",
     "evalue": "name 'nome' is not defined",
     "output_type": "error",
     "traceback": [
      "\u001b[31m---------------------------------------------------------------------------\u001b[39m",
      "\u001b[31mNameError\u001b[39m                                 Traceback (most recent call last)",
      "\u001b[36mCell\u001b[39m\u001b[36m \u001b[39m\u001b[32mIn[1]\u001b[39m\u001b[32m, line 1\u001b[39m\n\u001b[32m----> \u001b[39m\u001b[32m1\u001b[39m \u001b[38;5;28mprint\u001b[39m(\u001b[43mnome\u001b[49m)\n\u001b[32m      2\u001b[39m nome=\u001b[33m'\u001b[39m\u001b[33mJoão\u001b[39m\u001b[33m'\u001b[39m\n",
      "\u001b[31mNameError\u001b[39m: name 'nome' is not defined"
     ]
    }
   ],
   "source": [
    "print(nome)\n",
    "nome='João'"
   ]
  },
  {
   "cell_type": "code",
   "execution_count": 2,
   "id": "b88b0d70-157c-40b5-9dce-5b024661e05c",
   "metadata": {},
   "outputs": [
    {
     "name": "stdout",
     "output_type": "stream",
     "text": [
      "João\n"
     ]
    }
   ],
   "source": [
    "nome='João'\n",
    "print(nome)"
   ]
  },
  {
   "cell_type": "code",
   "execution_count": 3,
   "id": "6fc7c957-a735-4490-8e28-d05ad1f0c174",
   "metadata": {},
   "outputs": [
    {
     "name": "stdout",
     "output_type": "stream",
     "text": [
      "20\n",
      "20\n"
     ]
    }
   ],
   "source": [
    "faturamento = 100\n",
    "custo= 80\n",
    "\n",
    "lucro=(faturamento - custo)\n",
    "\n",
    "print(lucro)\n",
    "\n",
    "custo=50\n",
    "\n",
    "print(lucro)"
   ]
  },
  {
   "cell_type": "code",
   "execution_count": 4,
   "id": "63785830-a4f3-4f30-bc71-dd5efe0c00d7",
   "metadata": {},
   "outputs": [
    {
     "name": "stdout",
     "output_type": "stream",
     "text": [
      "20\n",
      "50\n"
     ]
    }
   ],
   "source": [
    "faturamento = 100\n",
    "custo= 80\n",
    "\n",
    "lucro=(faturamento - custo)\n",
    "\n",
    "print(lucro)\n",
    "\n",
    "custo=50\n",
    "\n",
    "lucro=(faturamento - custo)\n",
    "\n",
    "print(lucro)"
   ]
  },
  {
   "cell_type": "markdown",
   "id": "483917f6-08fb-42c1-b3fd-30769cb228ba",
   "metadata": {},
   "source": [
    "-----------------------------------Tipos de variaveis----------------------------------------------------------------------------"
   ]
  },
  {
   "cell_type": "code",
   "execution_count": 5,
   "id": "28e41a88-b6c2-45fe-a114-afb5b73a75ca",
   "metadata": {},
   "outputs": [
    {
     "data": {
      "text/plain": [
       "int"
      ]
     },
     "execution_count": 5,
     "metadata": {},
     "output_type": "execute_result"
    }
   ],
   "source": [
    "faturamento = 1000\n",
    "type(faturamento)"
   ]
  },
  {
   "cell_type": "code",
   "execution_count": 6,
   "id": "83be0906-3930-4191-94aa-e73e1051b910",
   "metadata": {},
   "outputs": [
    {
     "data": {
      "text/plain": [
       "float"
      ]
     },
     "execution_count": 6,
     "metadata": {},
     "output_type": "execute_result"
    }
   ],
   "source": [
    "faturamento = 1000.00\n",
    "type(faturamento)"
   ]
  },
  {
   "cell_type": "code",
   "execution_count": 7,
   "id": "4d79a3ca-5e58-4cd6-8c20-bcb2383ff70c",
   "metadata": {},
   "outputs": [
    {
     "data": {
      "text/plain": [
       "str"
      ]
     },
     "execution_count": 7,
     "metadata": {},
     "output_type": "execute_result"
    }
   ],
   "source": [
    "faturamento = '1000.00'\n",
    "type(faturamento)"
   ]
  },
  {
   "cell_type": "code",
   "execution_count": 9,
   "id": "f9375164-2d13-4c85-857f-3532928747d1",
   "metadata": {},
   "outputs": [
    {
     "data": {
      "text/plain": [
       "bool"
      ]
     },
     "execution_count": 9,
     "metadata": {},
     "output_type": "execute_result"
    }
   ],
   "source": [
    "ganha_bonus = True\n",
    "type(ganha_bonus)"
   ]
  },
  {
   "cell_type": "code",
   "execution_count": null,
   "id": "da858f93-e210-4aa4-b92f-10426be43207",
   "metadata": {},
   "outputs": [],
   "source": [
    "dir(str)"
   ]
  },
  {
   "cell_type": "markdown",
   "id": "9bd6d84b-0e9b-4eac-830a-e6f2df624f2b",
   "metadata": {},
   "source": [
    "------------------------------------------------------Usando str()------------------------------------------------------------"
   ]
  },
  {
   "cell_type": "code",
   "execution_count": 11,
   "id": "a950b24b-c547-4173-9980-7b5a000a7a3f",
   "metadata": {},
   "outputs": [
    {
     "ename": "TypeError",
     "evalue": "can only concatenate str (not \"int\") to str",
     "output_type": "error",
     "traceback": [
      "\u001b[31m---------------------------------------------------------------------------\u001b[39m",
      "\u001b[31mTypeError\u001b[39m                                 Traceback (most recent call last)",
      "\u001b[36mCell\u001b[39m\u001b[36m \u001b[39m\u001b[32mIn[11]\u001b[39m\u001b[32m, line 2\u001b[39m\n\u001b[32m      1\u001b[39m faturamento=\u001b[32m1000\u001b[39m\n\u001b[32m----> \u001b[39m\u001b[32m2\u001b[39m \u001b[38;5;28mprint\u001b[39m(\u001b[33;43m'\u001b[39;49m\u001b[33;43mO faturamento da loja foi \u001b[39;49m\u001b[33;43m'\u001b[39;49m\u001b[43m+\u001b[49m\u001b[43mfaturamento\u001b[49m)\n",
      "\u001b[31mTypeError\u001b[39m: can only concatenate str (not \"int\") to str"
     ]
    }
   ],
   "source": [
    "faturamento=1000\n",
    "print('O faturamento da loja foi '+faturamento)#vai acontecer um erro pois faturamento n é uma string"
   ]
  },
  {
   "cell_type": "code",
   "execution_count": 12,
   "id": "cf89c4c0-3640-459e-8aeb-9c11c2def999",
   "metadata": {},
   "outputs": [
    {
     "name": "stdout",
     "output_type": "stream",
     "text": [
      "O faturamento da loja foi 1000\n"
     ]
    }
   ],
   "source": [
    "faturamento=1000\n",
    "print('O faturamento da loja foi '+str(faturamento))"
   ]
  },
  {
   "cell_type": "markdown",
   "id": "cecd572a-9abd-4c24-8832-d2a5dbcdc991",
   "metadata": {},
   "source": [
    "------------------------------------------------------Usando format()------------------------------------------------------------"
   ]
  },
  {
   "cell_type": "code",
   "execution_count": 14,
   "id": "fc997f1f-4709-4608-9303-0362b6c806b2",
   "metadata": {},
   "outputs": [
    {
     "name": "stdout",
     "output_type": "stream",
     "text": [
      "O faturamento da loja foi 1000\n"
     ]
    }
   ],
   "source": [
    "faturamento=1000\n",
    "custo=500\n",
    "print('O faturamento da loja foi {}'.format(faturamento))"
   ]
  },
  {
   "cell_type": "code",
   "execution_count": 17,
   "id": "cbec8574-cf1f-45bb-b039-02e1b3385a6f",
   "metadata": {},
   "outputs": [
    {
     "name": "stdout",
     "output_type": "stream",
     "text": [
      "O faturamento da loja foi 1000 e o custo 500\n"
     ]
    }
   ],
   "source": [
    "faturamento=1000\n",
    "custo=500\n",
    "print('O faturamento da loja foi {} e o custo {}'.format(faturamento, custo))"
   ]
  },
  {
   "cell_type": "code",
   "execution_count": 18,
   "id": "aea576aa-a961-43a0-8eb6-69f5c82a1889",
   "metadata": {},
   "outputs": [
    {
     "name": "stdout",
     "output_type": "stream",
     "text": [
      "O faturamento da loja foi 500 e o custo 1000\n"
     ]
    }
   ],
   "source": [
    "faturamento=1000\n",
    "custo=500\n",
    "print('O faturamento da loja foi {} e o custo {}'.format(custo,faturamento))"
   ]
  },
  {
   "cell_type": "code",
   "execution_count": 19,
   "id": "55598b7d-dc8f-4fda-a958-1588342f7372",
   "metadata": {},
   "outputs": [
    {
     "name": "stdout",
     "output_type": "stream",
     "text": [
      "O faturamento da loja foi de 1000 e o lucro de 600\n"
     ]
    }
   ],
   "source": [
    "faturamento=1000\n",
    "custo=400\n",
    "\n",
    "lucro=faturamento-custo\n",
    "\n",
    "print('O faturamento da loja foi de {} e o lucro de {}'.format(faturamento,lucro))"
   ]
  },
  {
   "cell_type": "markdown",
   "id": "10e50ec6-31c7-4307-a457-e67c11f3851c",
   "metadata": {},
   "source": [
    "------------------------------------------------------Usando f-String------------------------------------------------------------"
   ]
  },
  {
   "cell_type": "code",
   "execution_count": 20,
   "id": "c4e49bfc-0f8c-4ffb-8d4f-3474855ee21c",
   "metadata": {},
   "outputs": [
    {
     "name": "stdout",
     "output_type": "stream",
     "text": [
      "O faturamento da loja foi de 1000 e o lucro de 600\n"
     ]
    }
   ],
   "source": [
    "faturamento=1000\n",
    "custo=400\n",
    "\n",
    "lucro=faturamento-custo\n",
    "\n",
    "print(f'O faturamento da loja foi de {faturamento} e o lucro de {lucro}')"
   ]
  },
  {
   "cell_type": "code",
   "execution_count": 22,
   "id": "51281cd4-30a8-4da8-9b0e-e91a37123902",
   "metadata": {},
   "outputs": [
    {
     "name": "stdout",
     "output_type": "stream",
     "text": [
      "O faturamento da loja foi de 1000 e o lucro de 600\n",
      "O faturamento da loja foi de 1000 e o lucro de 600\n"
     ]
    }
   ],
   "source": [
    "faturamento=1000\n",
    "custo=400\n",
    "\n",
    "lucro=faturamento-custo\n",
    "\n",
    "print('O faturamento da loja foi de {} e o lucro de {}'.format(faturamento, faturamento-custo))\n",
    "print(f'O faturamento da loja foi de {faturamento} e o lucro de {faturamento-custo}')"
   ]
  },
  {
   "cell_type": "markdown",
   "id": "bd74e279-b316-45c2-9868-69a0ad945e5b",
   "metadata": {},
   "source": [
    "------------------------------------------------------Usando input()------------------------------------------------------------"
   ]
  },
  {
   "cell_type": "code",
   "execution_count": 23,
   "id": "45601540-a5a4-4364-a612-36301356fb3b",
   "metadata": {},
   "outputs": [
    {
     "name": "stdin",
     "output_type": "stream",
     "text": [
      "Insira o faturamento 1000\n",
      "Insira o custo 2000\n"
     ]
    },
    {
     "ename": "TypeError",
     "evalue": "unsupported operand type(s) for -: 'str' and 'str'",
     "output_type": "error",
     "traceback": [
      "\u001b[31m---------------------------------------------------------------------------\u001b[39m",
      "\u001b[31mTypeError\u001b[39m                                 Traceback (most recent call last)",
      "\u001b[36mCell\u001b[39m\u001b[36m \u001b[39m\u001b[32mIn[23]\u001b[39m\u001b[32m, line 4\u001b[39m\n\u001b[32m      1\u001b[39m faturamento= \u001b[38;5;28minput\u001b[39m(\u001b[33m'\u001b[39m\u001b[33mInsira o faturamento\u001b[39m\u001b[33m'\u001b[39m)\n\u001b[32m      2\u001b[39m custo= \u001b[38;5;28minput\u001b[39m(\u001b[33m'\u001b[39m\u001b[33mInsira o custo\u001b[39m\u001b[33m'\u001b[39m)\n\u001b[32m----> \u001b[39m\u001b[32m4\u001b[39m lucro=\u001b[43mfaturamento\u001b[49m\u001b[43m-\u001b[49m\u001b[43mcusto\u001b[49m\n\u001b[32m      6\u001b[39m \u001b[38;5;28mprint\u001b[39m(lucro)\n",
      "\u001b[31mTypeError\u001b[39m: unsupported operand type(s) for -: 'str' and 'str'"
     ]
    }
   ],
   "source": [
    "faturamento= input('Insira o faturamento')\n",
    "custo= input('Insira o custo')\n",
    "\n",
    "lucro=faturamento-custo\n",
    "\n",
    "print(lucro)#vai dar erro pois o input transforma a resposta em uma String e String n consegue ser subtraida por String"
   ]
  },
  {
   "cell_type": "code",
   "execution_count": 24,
   "id": "f546f0ea-c761-4d79-b1d2-d9c51c3b768a",
   "metadata": {},
   "outputs": [
    {
     "name": "stdin",
     "output_type": "stream",
     "text": [
      "Insira o faturamento 1\n",
      "Insira o custo 2\n"
     ]
    },
    {
     "name": "stdout",
     "output_type": "stream",
     "text": [
      "<class 'int'>\n",
      "<class 'int'>\n",
      "-1\n"
     ]
    }
   ],
   "source": [
    "faturamento= int(input('Insira o faturamento'))\n",
    "custo= int(input('Insira o custo'))\n",
    "\n",
    "print(type(faturamento))\n",
    "print(type(custo))\n",
    "\n",
    "\n",
    "lucro=faturamento-custo\n",
    "\n",
    "print(lucro)"
   ]
  },
  {
   "cell_type": "code",
   "execution_count": null,
   "id": "18d4c6b5-67c4-485e-a25c-935f6aab8dc3",
   "metadata": {},
   "outputs": [],
   "source": []
  }
 ],
 "metadata": {
  "kernelspec": {
   "display_name": "Python 3 (ipykernel)",
   "language": "python",
   "name": "python3"
  },
  "language_info": {
   "codemirror_mode": {
    "name": "ipython",
    "version": 3
   },
   "file_extension": ".py",
   "mimetype": "text/x-python",
   "name": "python",
   "nbconvert_exporter": "python",
   "pygments_lexer": "ipython3",
   "version": "3.12.7"
  }
 },
 "nbformat": 4,
 "nbformat_minor": 5
}
