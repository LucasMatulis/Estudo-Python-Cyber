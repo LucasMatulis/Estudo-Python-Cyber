{
 "cells": [
  {
   "cell_type": "markdown",
   "id": "254df621-b5fa-4989-b15e-1e4078f78f01",
   "metadata": {},
   "source": [
    "------------------------------------------------------------O que é list Comprehension------------------------------------------------------------------"
   ]
  },
  {
   "cell_type": "code",
   "execution_count": 2,
   "id": "35fe7383-66ab-4444-b3cb-f7a374557776",
   "metadata": {},
   "outputs": [
    {
     "name": "stdout",
     "output_type": "stream",
     "text": [
      "[30.0, 45.0, 90.0, 1650.0]\n"
     ]
    }
   ],
   "source": [
    "preco_produtos=[100,150,300,5500]\n",
    "produtos=['vinho','cafeteria','microondas','iphone']\n",
    "#TRADICIONAL\n",
    "impostos=[]\n",
    "for item in preco_produtos:\n",
    "    impostos.append(item*0.3)\n",
    "print(impostos)"
   ]
  },
  {
   "cell_type": "code",
   "execution_count": 3,
   "id": "56f54143-1e70-41d5-af3f-6257df6e854c",
   "metadata": {},
   "outputs": [
    {
     "name": "stdout",
     "output_type": "stream",
     "text": [
      "[30.0, 45.0, 90.0, 1650.0]\n"
     ]
    }
   ],
   "source": [
    "#LIST COMPREHENSION\n",
    "imposto=[preco*0.3 for preco in preco_produtos]\n",
    "print(imposto)"
   ]
  },
  {
   "cell_type": "markdown",
   "id": "bf9d4032-3e00-4d7f-8c32-c30525f3ffcf",
   "metadata": {},
   "source": [
    "---------------------------------------Exemplo de List Comprehension------------------------------------------------------------------------------"
   ]
  },
  {
   "cell_type": "code",
   "execution_count": 5,
   "id": "b6589eb5-3fa0-4f04-a8a4-86e0aeef6e60",
   "metadata": {},
   "outputs": [
    {
     "name": "stdout",
     "output_type": "stream",
     "text": [
      "['iphone', 'microondas', 'cafeteria', 'vinho']\n"
     ]
    }
   ],
   "source": [
    "preco_produtos=[100,150,300,5500]\n",
    "produtos=['vinho','cafeteria','microondas','iphone']\n",
    "lista_aux=list(zip(preco_produtos,produtos))\n",
    "lista_aux.sort(reverse=True)\n",
    "produtos = [produto for vendas,produto in lista_aux]\n",
    "print(produtos)"
   ]
  },
  {
   "cell_type": "markdown",
   "id": "a47a0c88-59e4-4f64-9ab6-e5a1cb23d523",
   "metadata": {},
   "source": [
    "------------------------------------------List com Comprehension filtrando com if-------------------------------------------------------------------------"
   ]
  },
  {
   "cell_type": "code",
   "execution_count": 7,
   "id": "1fc58d8f-6441-4d1d-bbd4-7ef9ba112676",
   "metadata": {},
   "outputs": [
    {
     "name": "stdout",
     "output_type": "stream",
     "text": [
      "['iphone']\n"
     ]
    }
   ],
   "source": [
    "meta =1000\n",
    "preco_produtos=[100,150,300,5500]\n",
    "produtos=['vinho','cafeteria','microondas','iphone']\n",
    "\n",
    "produtos_acima_meta=[produto for i, produto in enumerate(produtos) if preco_produtos[i]>meta]\n",
    "print(produtos_acima_meta)"
   ]
  },
  {
   "cell_type": "markdown",
   "id": "c7b9b85e-495b-430b-8f32-c0c7540140f9",
   "metadata": {},
   "source": [
    "---------------------------------------Tratando casos em List Comprehension--------------------------------------------------------------------------"
   ]
  },
  {
   "cell_type": "code",
   "execution_count": 8,
   "id": "b8589963-e1de-4051-8819-65fd11ebe466",
   "metadata": {},
   "outputs": [
    {
     "name": "stdout",
     "output_type": "stream",
     "text": [
      "[120.0, 0, 0, 150.0, 190.0]\n"
     ]
    }
   ],
   "source": [
    "vendedores_dic={\n",
    "    'Maria': 1200,\n",
    "    'Jose':300,\n",
    "    'Antonio':800,\n",
    "    'João':1500,\n",
    "    'Francisco': 1900\n",
    "}\n",
    "\n",
    "meta=1000\n",
    "\n",
    "bonus=[vendedores_dic[item]*0.1 if vendedores_dic[item]>meta else 0 for item in vendedores_dic]\n",
    "print(bonus)"
   ]
  },
  {
   "cell_type": "code",
   "execution_count": 9,
   "id": "f49f1a05-875d-4500-b6d0-47cee6d04272",
   "metadata": {},
   "outputs": [
    {
     "name": "stdout",
     "output_type": "stream",
     "text": [
      "8150\n",
      "Top 5 reprensentou 92.1% das vendas\n"
     ]
    }
   ],
   "source": [
    "produtos=['coca','pepsi', 'guarana','skol','brahma','agua']\n",
    "vendas=[1200,300,800,1500,1900,2750,400]\n",
    "top5=['agua','brahma','skol','coca','guarana']\n",
    "\n",
    "total_top5=sum(vendas[i] for i,produto in enumerate(produtos) if produto in top5)\n",
    "print(total_top5)\n",
    "print('Top 5 reprensentou {:0.1%} das vendas'.format(total_top5/sum(vendas)))\n"
   ]
  },
  {
   "cell_type": "code",
   "execution_count": null,
   "id": "54d4ad23-bccb-42b5-b998-131e949b6d99",
   "metadata": {},
   "outputs": [],
   "source": []
  }
 ],
 "metadata": {
  "kernelspec": {
   "display_name": "Python 3 (ipykernel)",
   "language": "python",
   "name": "python3"
  },
  "language_info": {
   "codemirror_mode": {
    "name": "ipython",
    "version": 3
   },
   "file_extension": ".py",
   "mimetype": "text/x-python",
   "name": "python",
   "nbconvert_exporter": "python",
   "pygments_lexer": "ipython3",
   "version": "3.12.7"
  }
 },
 "nbformat": 4,
 "nbformat_minor": 5
}
