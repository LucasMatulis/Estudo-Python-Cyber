{
 "cells": [
  {
   "cell_type": "markdown",
   "id": "4f3c8133-534f-45da-b721-e4e9ab085dfc",
   "metadata": {},
   "source": [
    "--------------------------------------------------------------------------------Listas em Python---------------------------------------------------------"
   ]
  },
  {
   "cell_type": "code",
   "execution_count": 2,
   "id": "51ebd6b1-1de4-49b8-a7bc-4ae7a91a2468",
   "metadata": {},
   "outputs": [
    {
     "name": "stdout",
     "output_type": "stream",
     "text": [
      "[[1, 2, 3, 4, 5], [6, 7, 8, 9, 10], [11, 12, 13, 14, 15]]\n"
     ]
    }
   ],
   "source": [
    "lista1=[1,2,3,4,5]\n",
    "lista2=[6,7,8,9,10]\n",
    "lista3=[11,12,13,14,15]\n",
    "\n",
    "todas_listas = [lista1,lista2,lista3]\n",
    "\n",
    "print(todas_listas)"
   ]
  },
  {
   "cell_type": "markdown",
   "id": "a3bf30dd-0b20-4d47-8f94-8f6fbcff99f3",
   "metadata": {},
   "source": [
    "---------------------------------------Índices em Lista,Consultando e Modificando Valores---------------------------------------------------------------"
   ]
  },
  {
   "cell_type": "code",
   "execution_count": 3,
   "id": "8e595353-60cb-450d-879e-49afd46550a7",
   "metadata": {},
   "outputs": [
    {
     "name": "stdout",
     "output_type": "stream",
     "text": [
      "celular\n"
     ]
    }
   ],
   "source": [
    "produtos=['tv','celular','mouse','teclado','tablet']\n",
    "\n",
    "print(produtos[1])"
   ]
  },
  {
   "cell_type": "code",
   "execution_count": 4,
   "id": "bb1dc515-1739-4df9-b996-5da8168ecf4e",
   "metadata": {},
   "outputs": [
    {
     "name": "stdout",
     "output_type": "stream",
     "text": [
      "tablet\n"
     ]
    }
   ],
   "source": [
    "produtos=['tv','celular','mouse','teclado','tablet']\n",
    "\n",
    "print(produtos[4])"
   ]
  },
  {
   "cell_type": "code",
   "execution_count": 5,
   "id": "892d73e9-c1dd-4334-96f6-db728ce20085",
   "metadata": {},
   "outputs": [
    {
     "name": "stdout",
     "output_type": "stream",
     "text": [
      "As vendas de celular foram de 1500\n"
     ]
    }
   ],
   "source": [
    "produtos=['tv','celular','mouse','teclado','tablet']\n",
    "vendas=[1000,1500,350,270,900]\n",
    "\n",
    "print('As vendas de {} foram de {}'.format(produtos[1],vendas[1]))"
   ]
  },
  {
   "cell_type": "markdown",
   "id": "a03ae8c8-3836-499b-b310-5be83dad3465",
   "metadata": {},
   "source": [
    "------------------------------------------Descobrindo o Índice de um item na lista----------------------------------------------------------------------"
   ]
  },
  {
   "cell_type": "code",
   "execution_count": 9,
   "id": "f9f3f570-5a28-440c-97ed-b881ae8caa04",
   "metadata": {},
   "outputs": [
    {
     "name": "stdout",
     "output_type": "stream",
     "text": [
      "O valor de i é 2\n",
      "O produto da posição i é mouse\n"
     ]
    }
   ],
   "source": [
    "produtos=['tv','celular','mouse','teclado','tablet']\n",
    "\n",
    "i=produtos.index('mouse')\n",
    "print('O valor de i é '+str(i))\n",
    "print('O produto da posição i é '+str(produtos[i]))"
   ]
  },
  {
   "cell_type": "code",
   "execution_count": 13,
   "id": "6d6eba65-d17b-4e45-ad45-d134f23d5f6c",
   "metadata": {},
   "outputs": [
    {
     "name": "stdin",
     "output_type": "stream",
     "text": [
      "Insira o nome do produto em letra minúscula geladeira\n"
     ]
    },
    {
     "name": "stdout",
     "output_type": "stream",
     "text": [
      "5\n"
     ]
    }
   ],
   "source": [
    "produtos=['tv','celular','tablet','mouse','teclado','geladeira','forno']\n",
    "estoque=[100,150,100,120,70,180,80]\n",
    "\n",
    "produto=input('Insira o nome do produto em letra minúscula')\n",
    "i=produtos.index(produto)\n",
    "print(i)\n"
   ]
  },
  {
   "cell_type": "code",
   "execution_count": 15,
   "id": "dde31126-ea30-4420-ab7b-e9924f477691",
   "metadata": {},
   "outputs": [
    {
     "name": "stdin",
     "output_type": "stream",
     "text": [
      "Insira o nome do produto em letra minúscula tv\n"
     ]
    },
    {
     "name": "stdout",
     "output_type": "stream",
     "text": [
      "Temos 100 unidades de tv no estoque\n"
     ]
    }
   ],
   "source": [
    "produto=input('Insira o nome do produto em letra minúscula')\n",
    "\n",
    "if produto in produtos:\n",
    "    i=produtos.index(produto)\n",
    "    qtde_estoque=estoque[i]\n",
    "    print('Temos {} unidades de {} no estoque'.format(qtde_estoque,produto))\n",
    "else:\n",
    "    print('{} não existe no estoque'.format(produto))\n"
   ]
  },
  {
   "cell_type": "markdown",
   "id": "7dff2391-ad67-435a-9082-0bd46ef94083",
   "metadata": {},
   "source": [
    "-------------------------------------------------------Adicionar e Remover itens da Lista---------------------------------------------------------------"
   ]
  },
  {
   "cell_type": "code",
   "execution_count": 16,
   "id": "b5096922-ee5e-4bb9-9602-5b63891dc4db",
   "metadata": {},
   "outputs": [
    {
     "name": "stdout",
     "output_type": "stream",
     "text": [
      "['tv', 'celular', 'tablet', 'mouse', 'teclado', 'geladeira', 'forno', 'iphone']\n"
     ]
    }
   ],
   "source": [
    "produtos=['tv','celular','tablet','mouse','teclado','geladeira','forno']\n",
    "produtos.append('iphone')\n",
    "print(produtos)"
   ]
  },
  {
   "cell_type": "code",
   "execution_count": 17,
   "id": "a1b6a2d3-9905-45e9-8115-412330fe9779",
   "metadata": {},
   "outputs": [
    {
     "name": "stdout",
     "output_type": "stream",
     "text": [
      "['tv', 'celular', 'tablet', 'teclado', 'geladeira', 'forno']\n"
     ]
    }
   ],
   "source": [
    "produtos=['tv','celular','tablet','mouse','teclado','geladeira','forno']\n",
    "produtos.remove('mouse')\n",
    "print(produtos)"
   ]
  },
  {
   "cell_type": "code",
   "execution_count": 18,
   "id": "63356f3d-8da3-4ed7-94ff-caf6b6268068",
   "metadata": {},
   "outputs": [
    {
     "name": "stdout",
     "output_type": "stream",
     "text": [
      "['tv', 'celular', 'tablet', 'mouse', 'teclado', 'geladeira', 'forno']\n",
      "['tv', 'celular', 'mouse', 'teclado', 'geladeira', 'forno']\n",
      "tablet\n"
     ]
    }
   ],
   "source": [
    "produtos=['tv','celular','tablet','mouse','teclado','geladeira','forno']\n",
    "print(produtos)\n",
    "aux=produtos.pop(2)\n",
    "print(produtos)\n",
    "print(aux)"
   ]
  },
  {
   "cell_type": "code",
   "execution_count": 20,
   "id": "2446f579-7d27-4540-8c50-d3d412b4a4d9",
   "metadata": {},
   "outputs": [
    {
     "name": "stdin",
     "output_type": "stream",
     "text": [
      "Qual deseka remover? tv\n"
     ]
    },
    {
     "name": "stdout",
     "output_type": "stream",
     "text": [
      "['celular', 'tablet', 'mouse', 'teclado', 'geladeira', 'forno']\n"
     ]
    }
   ],
   "source": [
    "produtos=['tv','celular','tablet','mouse','teclado','geladeira','forno']\n",
    "item_usuario=input('Qual deseka remover?')\n",
    "try:\n",
    "    produtos.remove(item_usuario)\n",
    "    print(produtos)\n",
    "except:\n",
    "    print('O produto {} não existe na lista.'.format(item_usuario))"
   ]
  },
  {
   "cell_type": "markdown",
   "id": "cf8ae6a2-e73d-4077-9aa5-debf116cf774",
   "metadata": {},
   "source": [
    "-----------------------------------------------------Tamanho da lista, Maior, Menor Valor---------------------------------------------------------------"
   ]
  },
  {
   "cell_type": "code",
   "execution_count": 21,
   "id": "ed892d30-d459-4944-85ce-561dc5f75ed6",
   "metadata": {},
   "outputs": [
    {
     "name": "stdout",
     "output_type": "stream",
     "text": [
      "7\n",
      "670\n",
      "10\n"
     ]
    }
   ],
   "source": [
    "vendas = [10,50,670,16,46,87,99]\n",
    "print(len(vendas))\n",
    "print(max(vendas))\n",
    "print(min(vendas))"
   ]
  },
  {
   "cell_type": "markdown",
   "id": "087b9a4a-c7b1-447e-8aae-0c8c80a1af51",
   "metadata": {},
   "source": [
    "---------------------------------------------------------Juntar Listas e Ordenar-----------------------------------------------------------------------"
   ]
  },
  {
   "cell_type": "code",
   "execution_count": 22,
   "id": "a082ac4a-4cca-4cf1-a622-753d318dfa66",
   "metadata": {},
   "outputs": [
    {
     "name": "stdout",
     "output_type": "stream",
     "text": [
      "['apple tv', 'mac', 'iphone x', 'Ipad', 'apple watch', 'mac book', 'airpods', 'chromecast', 'windows phone']\n"
     ]
    }
   ],
   "source": [
    "produtos=['apple tv', 'mac', 'iphone x','Ipad', 'apple watch', 'mac book', 'airpods']\n",
    "novos_produtos=['chromecast', 'windows phone']\n",
    "produtos.extend(novos_produtos)\n",
    "print(produtos)"
   ]
  },
  {
   "cell_type": "code",
   "execution_count": 23,
   "id": "6af503ae-95f5-486f-833a-7e63c5199303",
   "metadata": {},
   "outputs": [
    {
     "name": "stdout",
     "output_type": "stream",
     "text": [
      "['apple tv', 'mac', 'iphone x', 'Ipad', 'apple watch', 'mac book', 'airpods', 'chromecast', 'windows phone']\n"
     ]
    }
   ],
   "source": [
    "produtos=['apple tv', 'mac', 'iphone x','Ipad', 'apple watch', 'mac book', 'airpods']\n",
    "novos_produtos=['chromecast', 'windows phone']\n",
    "produtos_compilado=produtos+novos_produtos\n",
    "print(produtos_compilado)"
   ]
  },
  {
   "cell_type": "code",
   "execution_count": 24,
   "id": "34547c32-2d69-4ace-b17e-2a6dc1323ab5",
   "metadata": {},
   "outputs": [
    {
     "name": "stdout",
     "output_type": "stream",
     "text": [
      "Usando +:\n",
      "['apple tv', 'mac', 'iphone x', 'Ipad', 'apple watch', 'mac book', 'airpods', 'chromecast', 'windows phone']\n",
      "Usando Append:\n",
      "['apple tv', 'mac', 'iphone x', 'Ipad', 'apple watch', 'mac book', 'airpods', ['chromecast', 'windows phone']]\n"
     ]
    }
   ],
   "source": [
    "produtos=['apple tv', 'mac', 'iphone x','Ipad', 'apple watch', 'mac book', 'airpods']\n",
    "novos_produtos=['chromecast', 'windows phone']\n",
    "print('Usando +:')\n",
    "produtos_compilado=produtos+novos_produtos\n",
    "print(produtos_compilado)\n",
    "print('Usando Append:')\n",
    "produtos.append(novos_produtos)\n",
    "print(produtos)"
   ]
  },
  {
   "cell_type": "code",
   "execution_count": 25,
   "id": "1502fe6d-e5e3-4c63-9307-dc57a662d28d",
   "metadata": {},
   "outputs": [
    {
     "name": "stdout",
     "output_type": "stream",
     "text": [
      "['apple tv', 'mac', 'iphone x', 'Ipad', 'apple watch', 'mac book', 'airpods', 'chromecast', 'airpods']\n"
     ]
    }
   ],
   "source": [
    "produtos=['apple tv', 'mac', 'iphone x','Ipad', 'apple watch', 'mac book', 'airpods']\n",
    "novos_produtos=['chromecast', 'airpods']\n",
    "produtos.extend(novos_produtos)\n",
    "print(produtos)"
   ]
  },
  {
   "cell_type": "code",
   "execution_count": 26,
   "id": "23b40452-1051-4a71-8865-500dd2de5e54",
   "metadata": {},
   "outputs": [
    {
     "name": "stdout",
     "output_type": "stream",
     "text": [
      "[100, 50, 25, 75, 80, 700, 10, 80, 90, 20]\n",
      "[100, 50, 25, 75, 80, 700, 10, 80, 90, 20]\n"
     ]
    }
   ],
   "source": [
    "lista1=[100,50,25,75,80]\n",
    "lista2=[700,10,80,90,20]\n",
    "lista1.extend(lista2)\n",
    "print(lista1)\n",
    "\n",
    "lista1=[100,50,25,75,80]\n",
    "lista2=[700,10,80,90,20]\n",
    "\n",
    "lista3=lista1+lista2\n",
    "print(lista3)"
   ]
  },
  {
   "cell_type": "code",
   "execution_count": 27,
   "id": "f3286578-f92c-41ee-bd83-e998b9502710",
   "metadata": {},
   "outputs": [
    {
     "name": "stdout",
     "output_type": "stream",
     "text": [
      "['Ipad', 'airpods', 'apple tv', 'apple watch', 'iphone x', 'mac', 'mac book']\n"
     ]
    }
   ],
   "source": [
    "produtos=['apple tv', 'mac', 'iphone x','Ipad', 'apple watch', 'mac book', 'airpods']\n",
    "vendas=[   1000,       1500,  15000,     270,    900,           100,        1200]\n",
    "\n",
    "produtos.sort()\n",
    "print(produtos)"
   ]
  },
  {
   "cell_type": "code",
   "execution_count": 28,
   "id": "3ba57b39-7b48-4972-8bd5-ba4ee622eb23",
   "metadata": {},
   "outputs": [
    {
     "name": "stdout",
     "output_type": "stream",
     "text": [
      "[100, 270, 900, 1000, 1200, 1500, 15000]\n"
     ]
    }
   ],
   "source": [
    "produtos=['apple tv', 'mac', 'iphone x','Ipad', 'apple watch', 'mac book', 'airpods']\n",
    "vendas=[   1000,       1500,  15000,     270,    900,           100,        1200]\n",
    "\n",
    "vendas.sort()\n",
    "print(vendas)"
   ]
  },
  {
   "cell_type": "code",
   "execution_count": 29,
   "id": "2ed0d4fb-ce7c-492d-beac-9b41be37f2c1",
   "metadata": {},
   "outputs": [
    {
     "name": "stdout",
     "output_type": "stream",
     "text": [
      "[15000, 1500, 1200, 1000, 900, 270, 100]\n"
     ]
    }
   ],
   "source": [
    "produtos=['apple tv', 'mac', 'iphone x','Ipad', 'apple watch', 'mac book', 'airpods']\n",
    "vendas=[   1000,       1500,  15000,     270,    900,           100,        1200]\n",
    "\n",
    "vendas.sort(reverse=True)\n",
    "print(vendas)"
   ]
  },
  {
   "cell_type": "markdown",
   "id": "5128f223-5752-4c92-85c9-1ad7a4c7389d",
   "metadata": {},
   "source": [
    "---------------------------------------------------------------------------Print e Join em Listas-------------------------------------------------------------------"
   ]
  },
  {
   "cell_type": "code",
   "execution_count": 30,
   "id": "27675e96-e708-4f0d-8a09-2af50aca9be2",
   "metadata": {},
   "outputs": [
    {
     "name": "stdout",
     "output_type": "stream",
     "text": [
      "apple tv\n",
      "mac\n",
      "iphone x\n",
      "Ipad\n",
      "apple watch\n",
      "mac book\n",
      "airpods\n"
     ]
    }
   ],
   "source": [
    "produtos=['apple tv', 'mac', 'iphone x','Ipad', 'apple watch', 'mac book', 'airpods']\n",
    "vendas=[   1000,       1500,  15000,     270,    900,           100,        1200]\n",
    "\n",
    "print('\\n'.join(produtos))"
   ]
  },
  {
   "cell_type": "code",
   "execution_count": 36,
   "id": "72ffb9fe-ef5f-49d6-93cc-0e2176e6b9c9",
   "metadata": {},
   "outputs": [
    {
     "name": "stdout",
     "output_type": "stream",
     "text": [
      "['apple tv', ' mac', ' iphone x', ' Ipad', ' apple watch', ' mac book', ' airpods']\n"
     ]
    }
   ],
   "source": [
    "produtos='apple tv, mac, iphone x, Ipad, apple watch, mac book, airpods'\n",
    "lista_produtos=produtos.split(',')\n",
    "print(lista_produtos)\n"
   ]
  },
  {
   "cell_type": "code",
   "execution_count": 35,
   "id": "9d6cd357-2d75-4fd3-9a20-5b88026792bb",
   "metadata": {},
   "outputs": [
    {
     "name": "stdout",
     "output_type": "stream",
     "text": [
      "['apple tv', 'mac', 'iphone x', 'Ipad', 'apple watch', 'mac book', 'airpods']\n"
     ]
    }
   ],
   "source": [
    "produtos='apple tv, mac, iphone x, Ipad, apple watch, mac book, airpods'\n",
    "lista_produtos=produtos.split(', ')\n",
    "print(lista_produtos)\n"
   ]
  },
  {
   "cell_type": "markdown",
   "id": "4a3c47dc-dc1e-4d56-b40c-ed52dc6c85cc",
   "metadata": {},
   "source": [
    "====================================================Alterações Incrementais de Variáveis-------------------------------------"
   ]
  },
  {
   "cell_type": "code",
   "execution_count": 37,
   "id": "7d7631a4-0e10-4d0f-8d8c-58d37ebee561",
   "metadata": {},
   "outputs": [
    {
     "name": "stdout",
     "output_type": "stream",
     "text": [
      "2000\n",
      "2500\n",
      "2000\n"
     ]
    }
   ],
   "source": [
    "faturamento=1000\n",
    "faturamento=faturamento+1000\n",
    "print(faturamento)\n",
    "faturamento+=500\n",
    "print(faturamento)\n",
    "faturamento-=500\n",
    "print(faturamento)"
   ]
  },
  {
   "cell_type": "markdown",
   "id": "c1b54e96-79b9-4d3c-8f2a-b56ff4b086b6",
   "metadata": {},
   "source": [
    "-----------------------------------------------------------------Copiar e Igualdade de Listas-----------------------------------------------------------"
   ]
  },
  {
   "cell_type": "code",
   "execution_count": 38,
   "id": "a429d069-23f5-4c73-b628-09af6409d5bd",
   "metadata": {},
   "outputs": [
    {
     "name": "stdout",
     "output_type": "stream",
     "text": [
      "['apple tv', 'mac', 'iphone12', 'Ipad', 'apple watch', 'mac book', 'airpods']\n",
      "['apple tv', 'mac', 'iphone12', 'Ipad', 'apple watch', 'mac book', 'airpods']\n"
     ]
    }
   ],
   "source": [
    "lista1=['apple tv', 'mac', 'iphone x','Ipad', 'apple watch', 'mac book', 'airpods']\n",
    "lista2=lista1\n",
    "\n",
    "lista1[2]='iphone12'\n",
    "print(lista1)\n",
    "print(lista2)"
   ]
  },
  {
   "cell_type": "code",
   "execution_count": 39,
   "id": "bca0cc7b-02ff-44e6-8651-490f57de5045",
   "metadata": {},
   "outputs": [
    {
     "name": "stdout",
     "output_type": "stream",
     "text": [
      "['apple tv', 'mac', 'iphone12', 'Ipad', 'apple watch', 'mac book', 'airpods']\n",
      "['apple tv', 'mac', 'iphone x', 'Ipad', 'apple watch', 'mac book', 'airpods']\n"
     ]
    }
   ],
   "source": [
    "lista1=['apple tv', 'mac', 'iphone x','Ipad', 'apple watch', 'mac book', 'airpods']\n",
    "lista2=lista1.copy()\n",
    "\n",
    "lista1[2]='iphone12'\n",
    "print(lista1)\n",
    "print(lista2)"
   ]
  },
  {
   "cell_type": "markdown",
   "id": "85b329e2-9d8f-4d7b-a0e7-ce67822e5427",
   "metadata": {},
   "source": [
    "-----------------------------------------------------------------------Lista de Listas-------------------------------------------------------------------"
   ]
  },
  {
   "cell_type": "code",
   "execution_count": 42,
   "id": "05e8dd66-6b71-4b0b-9c24-b1a28bd4da74",
   "metadata": {},
   "outputs": [
    {
     "name": "stdout",
     "output_type": "stream",
     "text": [
      "[300, 500]\n",
      "300\n"
     ]
    }
   ],
   "source": [
    "vendedores=['Lira','João','Diego','Alon']\n",
    "produtos=['ipad', 'iphone']\n",
    "vendas=[\n",
    "    [100,200],\n",
    "    [300,500],\n",
    "    [50,1000],\n",
    "    [900, 10]\n",
    "]\n",
    "\n",
    "print(vendas[1])\n",
    "print(vendas[1][0])"
   ]
  },
  {
   "cell_type": "code",
   "execution_count": null,
   "id": "ca26f2e6-da56-4226-80c5-8e95989efc6c",
   "metadata": {},
   "outputs": [],
   "source": []
  }
 ],
 "metadata": {
  "kernelspec": {
   "display_name": "Python 3 (ipykernel)",
   "language": "python",
   "name": "python3"
  },
  "language_info": {
   "codemirror_mode": {
    "name": "ipython",
    "version": 3
   },
   "file_extension": ".py",
   "mimetype": "text/x-python",
   "name": "python",
   "nbconvert_exporter": "python",
   "pygments_lexer": "ipython3",
   "version": "3.12.7"
  }
 },
 "nbformat": 4,
 "nbformat_minor": 5
}
