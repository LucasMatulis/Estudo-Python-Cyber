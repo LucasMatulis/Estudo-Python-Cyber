{
 "cells": [
  {
   "cell_type": "markdown",
   "id": "dc96f1f8-ec2d-43f2-b22d-e29fd93fdb99",
   "metadata": {},
   "source": [
    "## 1. Faturamento do Melhor e do Pior Mês do Ano\n",
    "\n",
    "Qual foi o valor de vendas do melhor mês do Ano?\n",
    "E valor do pior mês do ano?"
   ]
  },
  {
   "cell_type": "code",
   "execution_count": 5,
   "id": "04211bb2-a6f2-4b78-bd81-12b26b052dbe",
   "metadata": {},
   "outputs": [
    {
     "name": "stdout",
     "output_type": "stream",
     "text": [
      "O mês com maior venda foi nov com as vendas de 49051 e o menor foi dez com as vendas de 9650\n"
     ]
    }
   ],
   "source": [
    "meses = ['jan', 'fev', 'mar', 'abr', 'mai', 'jun', 'jul', 'ago', 'set', 'out', 'nov', 'dez']\n",
    "vendas_1sem = [25000, 29000, 22200, 17750, 15870, 19900]\n",
    "vendas_2sem = [19850, 20120, 17540, 15555, 49051, 9650]\n",
    "vendas=vendas_1sem+vendas_2sem\n",
    "\n",
    "maior=max(vendas)\n",
    "menor=min(vendas)\n",
    "\n",
    "\n",
    "print(f\"O mês com maior venda foi {meses[vendas.index(maior)]} com as vendas de {maior} e o menor foi {meses[vendas.index(menor)]} com as vendas de {menor}\")"
   ]
  },
  {
   "cell_type": "markdown",
   "id": "dc27773b-0f26-4a93-bc86-de914b87dd28",
   "metadata": {},
   "source": [
    "## 2. Continuação\n",
    "\n",
    "Agora relacione as duas listas para printar 'O melhor mês do ano foi {} com {} vendas' e o mesmo para o pior mês do ano.\n",
    "\n",
    "Calcule também o faturamento total do Ano e quanto que o melhor mês representou do faturamento total.\n",
    "\n",
    "Obs: Para o faturamento total, pode usar a função sum(lista) que soma todos os itens de uma lista"
   ]
  },
  {
   "cell_type": "code",
   "execution_count": 6,
   "id": "cca3b616-720c-468c-86e0-b3369b16a7b9",
   "metadata": {},
   "outputs": [
    {
     "name": "stdout",
     "output_type": "stream",
     "text": [
      "O mês com maior venda foi nov com as vendas de 49051 e o menor foi dez com as vendas de 9650\n",
      "O faturamento do ano foi de 261486 com o melhor mês representando 18.76%\n"
     ]
    }
   ],
   "source": [
    "vendas=vendas_1sem+vendas_2sem\n",
    "\n",
    "maior=max(vendas)\n",
    "menor=min(vendas)\n",
    "\n",
    "\n",
    "print(f\"O mês com maior venda foi {meses[vendas.index(maior)]} com as vendas de {maior} e o menor foi {meses[vendas.index(menor)]} com as vendas de {menor}\")\n",
    "faturamento=sum(vendas)\n",
    "\n",
    "print('O faturamento do ano foi de {} com o melhor mês representando {:.2%}'.format(faturamento, maior/faturamento))"
   ]
  },
  {
   "cell_type": "markdown",
   "id": "304dec16-e296-4b0e-b070-457bbad262d6",
   "metadata": {},
   "source": [
    "## 3. Crie uma lista com o top 3 valores de vendas do ano (sem fazer \"no olho\")\n",
    "\n",
    "Dica: o método remove retira um item da lista."
   ]
  },
  {
   "cell_type": "code",
   "execution_count": 7,
   "id": "6caa464e-805d-470f-b63e-60ef12ca3ce7",
   "metadata": {},
   "outputs": [
    {
     "name": "stdout",
     "output_type": "stream",
     "text": [
      "Os top 3 valores de venda são:  [49051, 29000, 25000]\n"
     ]
    }
   ],
   "source": [
    "top3 = []\n",
    "\n",
    "maior=max(vendas)\n",
    "top3.append(maior)\n",
    "vendas.remove(maior)\n",
    "\n",
    "maior=max(vendas)\n",
    "top3.append(maior)\n",
    "vendas.remove(maior)\n",
    "\n",
    "maior=max(vendas)\n",
    "top3.append(maior)\n",
    "vendas.remove(maior)\n",
    "\n",
    "print('Os top 3 valores de venda são: ',top3)"
   ]
  },
  {
   "cell_type": "code",
   "execution_count": null,
   "id": "d01ad8c3-6aa5-4625-ba59-8d137c9726f8",
   "metadata": {},
   "outputs": [],
   "source": []
  }
 ],
 "metadata": {
  "kernelspec": {
   "display_name": "Python 3 (ipykernel)",
   "language": "python",
   "name": "python3"
  },
  "language_info": {
   "codemirror_mode": {
    "name": "ipython",
    "version": 3
   },
   "file_extension": ".py",
   "mimetype": "text/x-python",
   "name": "python",
   "nbconvert_exporter": "python",
   "pygments_lexer": "ipython3",
   "version": "3.12.7"
  }
 },
 "nbformat": 4,
 "nbformat_minor": 5
}
