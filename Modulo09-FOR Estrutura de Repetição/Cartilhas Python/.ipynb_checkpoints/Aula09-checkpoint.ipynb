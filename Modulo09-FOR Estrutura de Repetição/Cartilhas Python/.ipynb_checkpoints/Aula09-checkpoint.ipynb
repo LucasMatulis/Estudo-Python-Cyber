{
 "cells": [
  {
   "cell_type": "markdown",
   "id": "97206fa8-d15f-4a70-ae3c-c8e873b1a8f8",
   "metadata": {},
   "source": [
    "----------------------------------------------------------------------Estrutura de Repetição For-----------------------------------------------------------"
   ]
  },
  {
   "cell_type": "code",
   "execution_count": 1,
   "id": "23bf62c9-869a-4b14-9a77-cd4b562cd27c",
   "metadata": {},
   "outputs": [
    {
     "name": "stdout",
     "output_type": "stream",
     "text": [
      "0\n",
      "1\n",
      "2\n",
      "3\n",
      "4\n"
     ]
    }
   ],
   "source": [
    "for i in range (5):\n",
    "    print(i)"
   ]
  },
  {
   "cell_type": "code",
   "execution_count": 2,
   "id": "df4c0a93-7ed9-4c8c-aac4-3e52d9e62239",
   "metadata": {},
   "outputs": [
    {
     "name": "stdout",
     "output_type": "stream",
     "text": [
      "Produção do coca é de 15000\n",
      "Produção do pepsi é de 12000\n",
      "Produção do guaraná é de 13000\n",
      "Produção do sprite é de 5000\n",
      "Produção do fanta é de 250\n"
     ]
    }
   ],
   "source": [
    "produtos=['coca','pepsi','guaraná','sprite','fanta']\n",
    "producao=[15000,12000,13000,5000,250]\n",
    "\n",
    "print('Produção do '+produtos[0]+' é de '+str(producao[0]))\n",
    "print('Produção do '+produtos[1]+' é de '+str(producao[1]))\n",
    "print('Produção do '+produtos[2]+' é de '+str(producao[2]))\n",
    "print('Produção do '+produtos[3]+' é de '+str(producao[3]))\n",
    "print('Produção do '+produtos[4]+' é de '+str(producao[4]))"
   ]
  },
  {
   "cell_type": "code",
   "execution_count": 3,
   "id": "f38e7c88-07d2-4c1f-908f-8417f39c46a8",
   "metadata": {},
   "outputs": [
    {
     "name": "stdout",
     "output_type": "stream",
     "text": [
      "Produção do coca é de 15000\n",
      "Produção do pepsi é de 12000\n",
      "Produção do guaraná é de 13000\n",
      "Produção do sprite é de 5000\n",
      "Produção do fanta é de 250\n"
     ]
    }
   ],
   "source": [
    "produtos=['coca','pepsi','guaraná','sprite','fanta']\n",
    "producao=[15000,12000,13000,5000,250]\n",
    "\n",
    "for i in range(5):\n",
    "    print('Produção do {} é de {}'.format(produtos[i],producao[i]))"
   ]
  },
  {
   "cell_type": "code",
   "execution_count": 5,
   "id": "8a7f15ce-8565-453d-9025-5ae57dff4841",
   "metadata": {},
   "outputs": [
    {
     "name": "stdout",
     "output_type": "stream",
     "text": [
      "Produção do coca é de 15000\n",
      "Produção do pepsi é de 12000\n",
      "Produção do guaraná é de 13000\n",
      "Produção do sprite é de 5000\n",
      "Produção do fanta é de 250\n",
      "Produção do mineirinho é de 800\n"
     ]
    }
   ],
   "source": [
    "produtos=['coca','pepsi','guaraná','sprite','fanta', 'mineirinho']\n",
    "producao=[15000,12000,13000,5000,250,800]\n",
    "\n",
    "tamanho=len(produtos)\n",
    "\n",
    "for i in range(tamanho):\n",
    "    print('Produção do {} é de {}'.format(produtos[i],producao[i]))"
   ]
  },
  {
   "cell_type": "markdown",
   "id": "e1763718-3669-4c6d-95d3-4cd5bdfc4f81",
   "metadata": {},
   "source": [
    "--------------------------------------------------For each-Percorrer cada item de uma lista-------------------------------------------------------------"
   ]
  },
  {
   "cell_type": "code",
   "execution_count": 8,
   "id": "1dc7ed3e-cb02-4678-a3e3-ee7c3c80cf95",
   "metadata": {},
   "outputs": [
    {
     "name": "stdout",
     "output_type": "stream",
     "text": [
      "Produção do coca\n",
      "Produção do pepsi\n",
      "Produção do guaraná\n",
      "Produção do sprite\n",
      "Produção do fanta\n",
      "Produção do mineirinho\n"
     ]
    }
   ],
   "source": [
    "produtos=['coca','pepsi','guaraná','sprite','fanta', 'mineirinho']\n",
    "\n",
    "for produto in produtos:\n",
    "    print('Produção do {}'.format(produto))"
   ]
  },
  {
   "cell_type": "markdown",
   "id": "aad88f44-158f-4def-bb70-1766ce4b1ddb",
   "metadata": {},
   "source": [
    "---------------------------------------------------------------------------FOR E IF--------------------------------------------------------------------"
   ]
  },
  {
   "cell_type": "code",
   "execution_count": 9,
   "id": "5237827e-a269-4701-99b1-5cb90b06c49c",
   "metadata": {},
   "outputs": [
    {
     "name": "stdout",
     "output_type": "stream",
     "text": [
      "100\n",
      "190\n",
      "200\n",
      "210\n",
      "105\n",
      "130\n",
      "111\n",
      "157\n"
     ]
    }
   ],
   "source": [
    "vendas=[100,50,80,190,200,210,45,37,99,105,130,111,44,24,67,93,157,25]\n",
    "meta=100\n",
    "\n",
    "for venda in vendas:\n",
    "    if venda>=meta:\n",
    "        print(venda)"
   ]
  },
  {
   "cell_type": "code",
   "execution_count": 10,
   "id": "75504f3d-c5a8-441b-833e-82acc72ede48",
   "metadata": {},
   "outputs": [
    {
     "name": "stdout",
     "output_type": "stream",
     "text": [
      "O percentual de pessoas que bateram a meta foi de 44.4%\n"
     ]
    }
   ],
   "source": [
    "vendas=[100,50,80,190,200,210,45,37,99,105,130,111,44,24,67,93,157,25]\n",
    "meta=100\n",
    "\n",
    "qtde_bateu_meta=0\n",
    "for venda in vendas:\n",
    "    if venda>=meta:\n",
    "        qtde_bateu_meta+=1\n",
    "\n",
    "qtde_funcionarios=len(vendas)\n",
    "print('O percentual de pessoas que bateram a meta foi de {:.1%}'.format(qtde_bateu_meta/qtde_funcionarios))"
   ]
  },
  {
   "cell_type": "markdown",
   "id": "f5b03348-e0d0-4163-8064-ffb323cb87eb",
   "metadata": {},
   "source": [
    "--------------------------------------------For com item e índice---------------------------------------------------------------------------------------"
   ]
  },
  {
   "cell_type": "code",
   "execution_count": 11,
   "id": "1b3aa401-6a8b-4d03-9e91-3996e80438bf",
   "metadata": {},
   "outputs": [
    {
     "name": "stdout",
     "output_type": "stream",
     "text": [
      "0 é o funcionário Maria\n",
      "1 é o funcionário José\n",
      "2 é o funcionário Antônio\n",
      "3 é o funcionário João\n",
      "4 é o funcionário Francisco\n",
      "5 é o funcionário Ana\n",
      "6 é o funcionário Luiz\n",
      "7 é o funcionário Paulo\n"
     ]
    }
   ],
   "source": [
    "funcionarios=['Maria', 'José', 'Antônio', 'João', 'Francisco', 'Ana', 'Luiz', 'Paulo']\n",
    "\n",
    "for i, funcionario in enumerate(funcionarios):\n",
    "    print('{} é o funcionário {}'.format(i,funcionario))"
   ]
  },
  {
   "cell_type": "markdown",
   "id": "4e6ba0ab-085f-4d8a-be52-f217e19da14b",
   "metadata": {},
   "source": [
    "---------------------------------------------Quando usar cada tipo de for-------------------------------------------------------------------------------"
   ]
  },
  {
   "cell_type": "code",
   "execution_count": 13,
   "id": "da296ecd-045e-48ae-9fc2-9655191a768b",
   "metadata": {},
   "outputs": [
    {
     "name": "stdout",
     "output_type": "stream",
     "text": [
      "7700.000000000001\n",
      "11000.0\n",
      "2750.0\n",
      "15400.000000000002\n"
     ]
    }
   ],
   "source": [
    "#preco com imposto\n",
    "produtos=['iphone','ipad','airpod','macbook']\n",
    "precos=[7000,10000,2500,14000]\n",
    "\n",
    "for preco in precos:\n",
    "    print(preco*1.1)"
   ]
  },
  {
   "cell_type": "code",
   "execution_count": 14,
   "id": "d454f2b6-37c4-4d8e-98f8-be3c1cfec7a7",
   "metadata": {},
   "outputs": [
    {
     "name": "stdout",
     "output_type": "stream",
     "text": [
      "iphone 7000\n",
      "ipad 10000\n",
      "airpod 2500\n",
      "macbook 14000\n"
     ]
    }
   ],
   "source": [
    "#preco de cada produto\n",
    "produtos=['iphone','ipad','airpod','macbook']\n",
    "precos=[7000,10000,2500,14000]\n",
    "\n",
    "for i in range(len(precos)):\n",
    "    produto=produtos[i]\n",
    "    preco=precos[i]\n",
    "    print(produto,preco)"
   ]
  },
  {
   "cell_type": "code",
   "execution_count": 15,
   "id": "75fc9948-c14c-42fa-abfd-aa1fd1cc5d56",
   "metadata": {},
   "outputs": [
    {
     "name": "stdout",
     "output_type": "stream",
     "text": [
      "iphone 7700.000000000001\n",
      "ipad 11000.0\n",
      "airpod 2750.0\n",
      "macbook 15400.000000000002\n"
     ]
    }
   ],
   "source": [
    "#preco de cada produto com imposto\n",
    "produtos=['iphone','ipad','airpod','macbook']\n",
    "precos=[7000,10000,2500,14000]\n",
    "\n",
    "for i,preco in enumerate(precos):\n",
    "    preco=preco*1.1\n",
    "    produto=produtos[i]\n",
    "    print(produto,preco)"
   ]
  },
  {
   "cell_type": "markdown",
   "id": "1c776581-71a2-4b86-9571-6bb34bb0a036",
   "metadata": {},
   "source": [
    "-----------------------------------------------For dentro de For-------------------------------------------------------------------------------------------"
   ]
  },
  {
   "cell_type": "code",
   "execution_count": 16,
   "id": "8fe9e55e-d464-4833-821f-a6de01c5d815",
   "metadata": {},
   "outputs": [
    {
     "name": "stdout",
     "output_type": "stream",
     "text": [
      "[294, 125, 67, 208, 783, 852, 259, 2, 123, 432]\n",
      "[234, 145, 259, 908, 123, 345, 674, 571, 3, 452]\n",
      "[794, 625, 45, 408, 183, 102, 959, 871, 723, 12]\n",
      "[194, 225, 589, 108, 133, 122, 759, 5, 623, 9]\n",
      "[904, 655, 459, 238, 7, 672, 569, 861, 8, 832]\n"
     ]
    }
   ],
   "source": [
    "estoque=[\n",
    "    [294,125,67,208,783,852,259,2,123,432],\n",
    "    [234,145,259,908,123,345,674,571,3,452],\n",
    "    [794,625,45,408,183,102,959,871,723,12],\n",
    "    [194,225,589,108,133,122,759,5,623,9],\n",
    "    [904,655,459,238,7,672,569,861,8,832]\n",
    "]\n",
    "\n",
    "fabricas=['Lira Manufacturing','Fábrica Hashtag','Python Manufaturas', 'Produções Cia','Manufatura e Cia']\n",
    "nivel_minimo=50\n",
    "\n",
    "for lista in estoque:\n",
    "    print(lista)"
   ]
  },
  {
   "cell_type": "code",
   "execution_count": 17,
   "id": "3f36374b-4d71-46eb-9a2e-c38dc710eb83",
   "metadata": {},
   "outputs": [
    {
     "name": "stdout",
     "output_type": "stream",
     "text": [
      "2\n",
      "3\n",
      "45\n",
      "12\n",
      "5\n",
      "9\n",
      "7\n",
      "8\n"
     ]
    }
   ],
   "source": [
    "estoque=[\n",
    "    [294,125,67,208,783,852,259,2,123,432],\n",
    "    [234,145,259,908,123,345,674,571,3,452],\n",
    "    [794,625,45,408,183,102,959,871,723,12],\n",
    "    [194,225,589,108,133,122,759,5,623,9],\n",
    "    [904,655,459,238,7,672,569,861,8,832]\n",
    "]\n",
    "\n",
    "fabricas=['Lira Manufacturing','Fábrica Hashtag','Python Manufaturas', 'Produções Cia','Manufatura e Cia']\n",
    "nivel_minimo=50\n",
    "\n",
    "for lista in estoque:\n",
    "    for qtde in lista:\n",
    "        if qtde<nivel_minimo:\n",
    "            print(qtde)"
   ]
  },
  {
   "cell_type": "code",
   "execution_count": 19,
   "id": "54b8853b-76bd-4b14-af94-5cbe9b221576",
   "metadata": {},
   "outputs": [
    {
     "name": "stdout",
     "output_type": "stream",
     "text": [
      "Lira Manufacturing\n",
      "Fábrica Hashtag\n",
      "Python Manufaturas\n",
      "Python Manufaturas\n",
      "Produções Cia\n",
      "Produções Cia\n",
      "Manufatura e Cia\n",
      "Manufatura e Cia\n"
     ]
    }
   ],
   "source": [
    "estoque=[\n",
    "    [294,125,67,208,783,852,259,2,123,432],\n",
    "    [234,145,259,908,123,345,674,571,3,452],\n",
    "    [794,625,45,408,183,102,959,871,723,12],\n",
    "    [194,225,589,108,133,122,759,5,623,9],\n",
    "    [904,655,459,238,7,672,569,861,8,832]\n",
    "]\n",
    "\n",
    "fabricas=['Lira Manufacturing','Fábrica Hashtag','Python Manufaturas', 'Produções Cia','Manufatura e Cia']\n",
    "nivel_minimo=50\n",
    "\n",
    "for i, lista in enumerate(estoque):\n",
    "    for qtde in lista:\n",
    "        if qtde< nivel_minimo:\n",
    "            print(fabricas[i])"
   ]
  },
  {
   "cell_type": "markdown",
   "id": "5bafba9d-e6b7-4bbd-b507-09d9083b0d94",
   "metadata": {},
   "source": [
    "---------------------------------------------Breack and Continue - Interrompendo um Loop------------------------------------------------------------------"
   ]
  },
  {
   "cell_type": "code",
   "execution_count": 22,
   "id": "c2919e76-e130-4c0a-92c8-3ff01ee573a5",
   "metadata": {},
   "outputs": [
    {
     "name": "stdout",
     "output_type": "stream",
     "text": [
      "Só um print para mostrar que o for passou por essa pessoa: João\n",
      "Só um print para mostrar que o for passou por essa pessoa: Lira\n",
      "Alon está presente.\n"
     ]
    }
   ],
   "source": [
    "pessoas_presentes=['João', 'Lira','Alon', 'Diego', 'Segio', 'Marcos']\n",
    "chamada='Alon'\n",
    "\n",
    "for pessoa in pessoas_presentes:\n",
    "    if pessoa== chamada:\n",
    "        print('{} está presente.'.format(chamada))\n",
    "        break\n",
    "    else:\n",
    "        print('Só um print para mostrar que o for passou por essa pessoa: '+str(pessoa))\n",
    "    "
   ]
  },
  {
   "cell_type": "code",
   "execution_count": 23,
   "id": "8f0c361a-0fbd-4b03-8e44-c3f73bbf0f71",
   "metadata": {},
   "outputs": [
    {
     "name": "stdout",
     "output_type": "stream",
     "text": [
      "Só um print para mostrar que o for passou por essa pessoa: João\n",
      "Só um print para mostrar que o for passou por essa pessoa: Lira\n",
      "Alon está presente.\n"
     ]
    }
   ],
   "source": [
    "pessoas_presentes=['João', 'Lira','Alon', 'Diego', 'Segio', 'Marcos']\n",
    "chamada='Alon'\n",
    "\n",
    "for pessoa in pessoas_presentes:\n",
    "    if pessoa== chamada:\n",
    "        print('{} está presente.'.format(chamada))\n",
    "        break\n",
    "    else:\n",
    "        print('Só um print para mostrar que o for passou por essa pessoa: '+str(pessoa))\n",
    "        continue\n",
    "        print('Só para mostrar que isso não vai ser printado')\n",
    "        print('Isso também não')\n",
    "        print('Acho que deu pra entender né?')"
   ]
  },
  {
   "cell_type": "code",
   "execution_count": null,
   "id": "4ced3ca1-efd7-4e59-b79e-ce13cc282da0",
   "metadata": {},
   "outputs": [],
   "source": []
  }
 ],
 "metadata": {
  "kernelspec": {
   "display_name": "Python 3 (ipykernel)",
   "language": "python",
   "name": "python3"
  },
  "language_info": {
   "codemirror_mode": {
    "name": "ipython",
    "version": 3
   },
   "file_extension": ".py",
   "mimetype": "text/x-python",
   "name": "python",
   "nbconvert_exporter": "python",
   "pygments_lexer": "ipython3",
   "version": "3.12.7"
  }
 },
 "nbformat": 4,
 "nbformat_minor": 5
}
