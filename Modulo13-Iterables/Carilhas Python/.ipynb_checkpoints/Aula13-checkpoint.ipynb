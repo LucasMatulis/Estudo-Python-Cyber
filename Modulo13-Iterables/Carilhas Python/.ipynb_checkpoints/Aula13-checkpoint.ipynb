{
 "cells": [
  {
   "cell_type": "markdown",
   "id": "4451674f-08a7-47ef-b513-d5cfcad2c7f3",
   "metadata": {},
   "source": [
    "------------------------------------------O que é um iterable?---------------------------------------------------------------"
   ]
  },
  {
   "cell_type": "code",
   "execution_count": 5,
   "id": "62456fd1-7fc0-4c27-9906-121e6bb556bf",
   "metadata": {},
   "outputs": [
    {
     "name": "stdout",
     "output_type": "stream",
     "text": [
      "iphone\n",
      "samsung galaxy\n",
      "tv samsung\n",
      "ps5\n"
     ]
    }
   ],
   "source": [
    "#LISTAS\n",
    "produtos=['iphone','samsung galaxy','tv samsung','ps5']\n",
    "\n",
    "for produto in produtos:\n",
    "    print(produto)"
   ]
  },
  {
   "cell_type": "code",
   "execution_count": 6,
   "id": "3b32dc36-714b-4878-8aff-6bd63d2eeda7",
   "metadata": {},
   "outputs": [
    {
     "name": "stdout",
     "output_type": "stream",
     "text": [
      "iphone: 15000 unidades\n",
      "samsung galaxy: 12000 unidades\n",
      "tv samsung: 10000 unidades\n"
     ]
    }
   ],
   "source": [
    "#DICIONARIO\n",
    "\n",
    "vendas_produtos={'iphone':15000, 'samsung galaxy': 12000, 'tv samsung':10000}\n",
    "\n",
    "for produto in vendas_produtos:\n",
    "    #print(produto)\n",
    "    print('{}: {} unidades'.format(produto, vendas_produtos[produto]))"
   ]
  },
  {
   "cell_type": "code",
   "execution_count": 9,
   "id": "9ae5d4ef-81c1-4490-959d-ede4e3ca171d",
   "metadata": {},
   "outputs": [
    {
     "name": "stdout",
     "output_type": "stream",
     "text": [
      "iphone\n",
      "samsung galaxy\n",
      "tv samsung\n",
      "ps5\n"
     ]
    }
   ],
   "source": [
    "#TUPLAS\n",
    "produtos=('iphone','samsung galaxy','tv samsung','ps5')\n",
    "\n",
    "for produto in produtos:\n",
    "    print(produto)"
   ]
  },
  {
   "cell_type": "code",
   "execution_count": 10,
   "id": "9697d245-16d5-4e12-a32f-54e80cc33cfe",
   "metadata": {},
   "outputs": [
    {
     "name": "stdout",
     "output_type": "stream",
     "text": [
      "J\n",
      "o\n",
      "a\n",
      "o\n",
      " \n",
      "L\n",
      "i\n",
      "r\n",
      "a\n"
     ]
    }
   ],
   "source": [
    "#STRING\n",
    "\n",
    "texto='Joao Lira'\n",
    "\n",
    "for ch in texto:\n",
    "    print(ch)"
   ]
  },
  {
   "cell_type": "code",
   "execution_count": 11,
   "id": "dce16c5e-289f-4063-8920-967365cd4b88",
   "metadata": {},
   "outputs": [
    {
     "name": "stdout",
     "output_type": "stream",
     "text": [
      "range(1, 10)\n",
      "2\n",
      "3\n",
      "4\n",
      "5\n",
      "6\n",
      "7\n",
      "8\n",
      "9\n"
     ]
    }
   ],
   "source": [
    "#RANGE\n",
    "\n",
    "print(range(1,10))\n",
    "\n",
    "for i in range(2,10):\n",
    "    print(i)"
   ]
  },
  {
   "cell_type": "markdown",
   "id": "bbd85858-1678-49f5-be2e-4ab1a054dde4",
   "metadata": {},
   "source": [
    "---------------------------------------------------------Range------------------------------------------------------------------------------"
   ]
  },
  {
   "cell_type": "code",
   "execution_count": 12,
   "id": "a4c334b5-12d7-4911-b372-7222ab438c59",
   "metadata": {},
   "outputs": [
    {
     "name": "stdout",
     "output_type": "stream",
     "text": [
      "0\n",
      "1\n",
      "2\n",
      "3\n",
      "4\n"
     ]
    }
   ],
   "source": [
    "for i in range(5):\n",
    "    print(i)"
   ]
  },
  {
   "cell_type": "code",
   "execution_count": 13,
   "id": "ef59882e-1e0a-4b21-bb23-c637a70c73fd",
   "metadata": {},
   "outputs": [
    {
     "name": "stdout",
     "output_type": "stream",
     "text": [
      "5\n",
      "6\n",
      "7\n",
      "8\n",
      "9\n"
     ]
    }
   ],
   "source": [
    "for i in range (5,10):\n",
    "    print(i)"
   ]
  },
  {
   "cell_type": "code",
   "execution_count": 14,
   "id": "e4ba1a1b-5d5f-412e-8dbf-dc556049824d",
   "metadata": {},
   "outputs": [
    {
     "name": "stdout",
     "output_type": "stream",
     "text": [
      "5\n",
      "7\n",
      "9\n",
      "11\n",
      "13\n",
      "15\n",
      "17\n",
      "19\n"
     ]
    }
   ],
   "source": [
    "for i in range (5,20,2):\n",
    "    print(i)"
   ]
  },
  {
   "cell_type": "markdown",
   "id": "863e114a-71e3-4456-83ee-207dd64de224",
   "metadata": {},
   "source": [
    "------------------------------------------------------------------------Set------------------------------------------------------------------------------"
   ]
  },
  {
   "cell_type": "code",
   "execution_count": 17,
   "id": "c0a4027a-c8e1-4334-b92d-61542c1a1f7b",
   "metadata": {},
   "outputs": [
    {
     "name": "stdout",
     "output_type": "stream",
     "text": [
      "{'feijao', 'azeite', 'arroz', 'macarrao', 'atum'}\n"
     ]
    }
   ],
   "source": [
    "set_produtos={'arroz','feijao','macarrao','atum','azeite'}\n",
    "\n",
    "print(set_produtos)"
   ]
  },
  {
   "cell_type": "code",
   "execution_count": 18,
   "id": "cf533d7f-3101-4754-9cff-a8f7c196d23f",
   "metadata": {},
   "outputs": [
    {
     "name": "stdout",
     "output_type": "stream",
     "text": [
      "{'feijao', 'azeite', 'arroz', 'macarrao', 'atum'}\n"
     ]
    }
   ],
   "source": [
    "set_produtos={'arroz','feijao','macarrao','atum','arroz','azeite'}\n",
    "\n",
    "print(set_produtos)"
   ]
  },
  {
   "cell_type": "code",
   "execution_count": 22,
   "id": "e3ca7177-9ef6-4494-afe9-53ed20979ca3",
   "metadata": {},
   "outputs": [
    {
     "name": "stdout",
     "output_type": "stream",
     "text": [
      "São 6 CPFs na lista.\n",
      "['263.027.380-67', '827.363.930-40', '762.196.080-97', '925.413.640-91']\n",
      "No entanto, temos apenas 4 clientes diferentes na loja\n"
     ]
    }
   ],
   "source": [
    "cpf_clientes=['762.196.080-97','263.027.380-67','827.363.930-40','925.413.640-91','925.413.640-91','263.027.380-67']\n",
    "\n",
    "print('São {} CPFs na lista.'.format(len(cpf_clientes)))\n",
    "set_cpf_clientes=set(cpf_clientes)\n",
    "cpf_clientes_unicos=list(set_cpf_clientes)\n",
    "print(cpf_clientes_unicos)\n",
    "print('No entanto, temos apenas {} clientes diferentes na loja'.format(len(set_cpf_clientes)))"
   ]
  },
  {
   "cell_type": "code",
   "execution_count": null,
   "id": "df703f3b-1175-46e5-8338-9b04584a36ff",
   "metadata": {},
   "outputs": [],
   "source": []
  }
 ],
 "metadata": {
  "kernelspec": {
   "display_name": "Python 3 (ipykernel)",
   "language": "python",
   "name": "python3"
  },
  "language_info": {
   "codemirror_mode": {
    "name": "ipython",
    "version": 3
   },
   "file_extension": ".py",
   "mimetype": "text/x-python",
   "name": "python",
   "nbconvert_exporter": "python",
   "pygments_lexer": "ipython3",
   "version": "3.12.7"
  }
 },
 "nbformat": 4,
 "nbformat_minor": 5
}
